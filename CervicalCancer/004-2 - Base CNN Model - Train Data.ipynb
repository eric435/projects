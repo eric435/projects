{
 "cells": [
  {
   "cell_type": "code",
   "execution_count": 1,
   "metadata": {
    "collapsed": false
   },
   "outputs": [
    {
     "name": "stderr",
     "output_type": "stream",
     "text": [
      "Using Theano backend.\n"
     ]
    },
    {
     "name": "stdout",
     "output_type": "stream",
     "text": [
      "Couldn't import dot_parser, loading of dot files will not be possible.\n"
     ]
    },
    {
     "name": "stderr",
     "output_type": "stream",
     "text": [
      "WARNING (theano.sandbox.cuda): The cuda backend is deprecated and will be removed in the next release (v0.10).  Please switch to the gpuarray backend. You can get more information about how to switch at this URL:\n",
      " https://github.com/Theano/Theano/wiki/Converting-to-the-new-gpu-back-end%28gpuarray%29\n",
      "\n",
      "Using gpu device 0: Tesla K80 (CNMeM is disabled, cuDNN 5103)\n"
     ]
    },
    {
     "name": "stdout",
     "output_type": "stream",
     "text": [
      "System : Python  2.7.12 | packaged by conda-forge | (default, Sep  8 2016, 14:22:31) \n",
      "[GCC 4.8.2 20140120 (Red Hat 4.8.2-15)] \n",
      "\n",
      "\n",
      "Directory Structure:\n",
      "/home/ubuntu/ana_py27_p2/projects/CervicalCancer\n",
      ".\n",
      "├── unused_utils\n",
      "│   ├── __init__.py\n",
      "│   ├── __init__.pyc\n",
      "│   ├── utils.pyc\n",
      "│   └── unused_utils.py\n",
      "├── __init__.py\n",
      "├── 003 - Baseline.ipynb\n",
      "├── 002 - Sample Setup.ipynb\n",
      "├── 001 - Initial Setup.ipynb\n",
      "├── data\n",
      "│   ├── additional_Type_1_v2.7z\n",
      "│   ├── additional_Type_3_v2.7z\n",
      "│   ├── additional_Type_2_v2.7z\n",
      "│   ├── train\n",
      "│   │   ├── Type_1 [168 entries exceeds filelimit, not opening dir]\n",
      "│   │   ├── Type_2 [524 entries exceeds filelimit, not opening dir]\n",
      "│   │   └── Type_3 [302 entries exceeds filelimit, not opening dir]\n",
      "│   ├── test\n",
      "│   │   └── unknown [512 entries exceeds filelimit, not opening dir]\n",
      "│   ├── preview\n",
      "│   ├── downloads\n",
      "│   │   ├── sample_submission.csv.zip\n",
      "│   │   ├── test.7z\n",
      "│   │   └── train.7z\n",
      "│   ├── valid\n",
      "│   │   ├── Type_1 [82 entries exceeds filelimit, not opening dir]\n",
      "│   │   ├── Type_2 [257 entries exceeds filelimit, not opening dir]\n",
      "│   │   └── Type_3 [148 entries exceeds filelimit, not opening dir]\n",
      "│   ├── submissions\n",
      "│   │   ├── sample_submission_000.csv\n",
      "│   │   ├── sub_001.csv\n",
      "│   │   └── sub_002.csv\n",
      "│   ├── weights\n",
      "│   └── sample\n",
      "│       ├── preview\n",
      "│       ├── train\n",
      "│       │   ├── Type_1 [80 entries exceeds filelimit, not opening dir]\n",
      "│       │   ├── Type_2 [249 entries exceeds filelimit, not opening dir]\n",
      "│       │   └── Type_3 [144 entries exceeds filelimit, not opening dir]\n",
      "│       ├── valid\n",
      "│       │   ├── Type_1 [61 entries exceeds filelimit, not opening dir]\n",
      "│       │   ├── Type_2 [191 entries exceeds filelimit, not opening dir]\n",
      "│       │   └── Type_3 [110 entries exceeds filelimit, not opening dir]\n",
      "│       ├── test\n",
      "│       │   └── unknown [201 entries exceeds filelimit, not opening dir]\n",
      "│       └── weights\n",
      "│           ├── weights-improvement-00-0.22.hdf5\n",
      "│           ├── weights-improvement-01-0.35.hdf5\n",
      "│           ├── weights-improvement-03-0.36.hdf5\n",
      "│           ├── weights-improvement-06-0.45.hdf5\n",
      "│           ├── weights-improvement-07-0.47.hdf5\n",
      "│           ├── BaseCNN35EpochRun_1.hdf5\n",
      "│           ├── weights2-improvement-00-0.30.hdf5\n",
      "│           ├── weights2-improvement-01-0.37.hdf5\n",
      "│           ├── weights2-improvement-05-0.43.hdf5\n",
      "│           ├── weights2-improvement-11-0.46.hdf5\n",
      "│           └── weights2-improvement-12-0.50.hdf5\n",
      "├── 002-01 - Train Data (only) Setup.ipynb\n",
      "└── 004 - Base CNN Model - Sample.ipynb\n",
      "\n",
      "29 directories, 30 files\n",
      "\n",
      "\n",
      "Keras version: 2.0.2 , backend: theano , image_format: channels_last\n",
      "\n",
      "\n",
      "Environment : \n"
     ]
    },
    {
     "data": {
      "text/html": [
       "<a href='../../ana_py27_p2.yml' target='_blank'>../../ana_py27_p2.yml</a><br>"
      ],
      "text/plain": [
       "/home/ubuntu/ana_py27_p2/ana_py27_p2.yml"
      ]
     },
     "execution_count": 1,
     "metadata": {},
     "output_type": "execute_result"
    }
   ],
   "source": [
    "# Project Template Import Cell\n",
    "%matplotlib inline\n",
    "import os\n",
    "import sys\n",
    "import math\n",
    "\n",
    "from __future__ import print_function, division\n",
    "from inspect import getsourcefile\n",
    "\n",
    "from IPython.display import FileLink\n",
    "\n",
    "# Standard Notebook Imports\n",
    "import matplotlib.pyplot as plt\n",
    "import numpy as np\n",
    "import pandas as pd\n",
    "pd.set_option('display.width', 120)\n",
    "\n",
    "CURR_PATH = os.path.abspath(getsourcefile(lambda:0)).rsplit('/', 1)[0] # Get filepath of this notebook\n",
    "module_path = os.path.join(os.path.dirname(CURR_PATH), 'utils') # Make module path for one dir up and one down into utils\n",
    "if module_path not in sys.path: # Append to system path list\n",
    "    sys.path.append(module_path)\n",
    "\n",
    "import utils as utils ; reload(utils)\n",
    "\n",
    "print('System : Python ', os.sys.version , '\\n\\n')\n",
    "\n",
    "print('Directory Structure:')\n",
    "print(CURR_PATH)\n",
    "!tree -cn --filelimit 20\n",
    "\n",
    "# Keras Setup\n",
    "import keras\n",
    "print('\\n\\nKeras version:' , keras.__version__ ,\n",
    "      ', backend:' , keras.backend.backend(),\n",
    "      ', image_format:' , keras.backend.image_data_format())\n",
    "\n",
    "random_seed = 7\n",
    "\n",
    "print('\\n\\nEnvironment : ')\n",
    "FileLink('../../ana_py27_p2.yml')\n",
    "#print(sys.path)"
   ]
  },
  {
   "cell_type": "code",
   "execution_count": 2,
   "metadata": {
    "collapsed": false
   },
   "outputs": [],
   "source": [
    "from keras.preprocessing.image import ImageDataGenerator\n",
    "from keras.models import Sequential\n",
    "from keras.layers import Conv2D, MaxPooling2D\n",
    "from keras.layers import Activation, Dropout, Flatten, Dense\n",
    "from keras import optimizers\n",
    "from keras.callbacks import ModelCheckpoint"
   ]
  },
  {
   "cell_type": "code",
   "execution_count": 3,
   "metadata": {
    "collapsed": true
   },
   "outputs": [],
   "source": [
    "# A fix for truncated image error\n",
    "# http://stackoverflow.com/questions/12984426/python-pil-ioerror-image-file-truncated-with-big-images\n",
    "from PIL import ImageFile\n",
    "ImageFile.LOAD_TRUNCATED_IMAGES = True"
   ]
  },
  {
   "cell_type": "code",
   "execution_count": 4,
   "metadata": {
    "collapsed": true
   },
   "outputs": [],
   "source": [
    "img_width, img_height = 150, 150"
   ]
  },
  {
   "cell_type": "code",
   "execution_count": 5,
   "metadata": {
    "collapsed": false
   },
   "outputs": [
    {
     "name": "stdout",
     "output_type": "stream",
     "text": [
      "994\n",
      "487\n"
     ]
    }
   ],
   "source": [
    "# SAMPLE\n",
    "#train_data_dir = 'data/sample/train'\n",
    "#validation_data_dir = 'data/sample/valid'\n",
    "#test_data_dir = 'data/sample/test'\n",
    "#weights_dir = 'data/sample/weights'\n",
    "\n",
    "# TRAIN DATA\n",
    "train_data_dir = 'data/train'\n",
    "validation_data_dir = 'data/valid'\n",
    "test_data_dir = 'data/test'\n",
    "weights_dir = 'data/weights'\n",
    "\n",
    "submission_dir = 'data/submissions'\n",
    "\n",
    "num_training_samples = 0\n",
    "for class_dir in utils.get_non_hidden_dir_contents(train_data_dir):\n",
    "    num_training_samples += len(utils.get_non_hidden_dir_contents(class_dir))\n",
    "num_validation_samples = 0\n",
    "for class_dir in utils.get_non_hidden_dir_contents(validation_data_dir):\n",
    "    num_validation_samples += len(utils.get_non_hidden_dir_contents(class_dir))    \n",
    "\n",
    "print(num_training_samples)\n",
    "print(num_validation_samples)"
   ]
  },
  {
   "cell_type": "code",
   "execution_count": 6,
   "metadata": {
    "collapsed": false
   },
   "outputs": [
    {
     "name": "stdout",
     "output_type": "stream",
     "text": [
      "16\n",
      "8\n"
     ]
    }
   ],
   "source": [
    "input_shape = (img_width, img_height, 3)\n",
    "epochs = 40\n",
    "batch_size=64\n",
    "train_steps = int(math.ceil(num_training_samples / batch_size))\n",
    "validation_steps =  int(math.ceil(num_validation_samples / batch_size))\n",
    "print(train_steps)\n",
    "print(validation_steps)"
   ]
  },
  {
   "cell_type": "code",
   "execution_count": 7,
   "metadata": {
    "collapsed": true
   },
   "outputs": [],
   "source": [
    "model = Sequential()\n",
    "model.add(Conv2D(32, (3, 3), input_shape=input_shape))\n",
    "model.add(Activation('relu'))\n",
    "model.add(MaxPooling2D(pool_size=(2, 2)))\n",
    "\n",
    "\n",
    "model.add(Conv2D(32, (3, 3)))\n",
    "model.add(Activation('relu'))\n",
    "model.add(MaxPooling2D(pool_size=(2, 2)))\n",
    "\n",
    "model.add(Conv2D(64, (3, 3)))\n",
    "model.add(Activation('relu'))\n",
    "model.add(MaxPooling2D(pool_size=(2, 2)))\n",
    "\n",
    "model.add(Flatten())\n",
    "model.add(Dense(64))\n",
    "model.add(Activation('relu'))\n",
    "model.add(Dropout(0.5))\n",
    "model.add(Dense(3))\n",
    "model.add(Activation('softmax'))"
   ]
  },
  {
   "cell_type": "code",
   "execution_count": 8,
   "metadata": {
    "collapsed": true
   },
   "outputs": [],
   "source": [
    "sgd = optimizers.SGD(lr=0.001, decay=1e-6, momentum=0.9, nesterov=True)"
   ]
  },
  {
   "cell_type": "code",
   "execution_count": 9,
   "metadata": {
    "collapsed": true
   },
   "outputs": [],
   "source": [
    "model.compile(loss='categorical_crossentropy',\n",
    "              optimizer=sgd,\n",
    "            metrics=['accuracy'])"
   ]
  },
  {
   "cell_type": "code",
   "execution_count": 10,
   "metadata": {
    "collapsed": true
   },
   "outputs": [],
   "source": [
    "# checkpoint\n",
    "# http://machinelearningmastery.com/check-point-deep-learning-models-keras/\n",
    "filen=\"weights1-improvement-{epoch:02d}-{val_acc:.2f}.hdf5\"\n",
    "filepath = os.path.join(weights_dir, filen)\n",
    "checkpoint = ModelCheckpoint(filepath, monitor='val_acc', verbose=1, save_best_only=True, mode='max')\n",
    "callbacks_list = [checkpoint]\n",
    "#callbacks_list=None"
   ]
  },
  {
   "cell_type": "code",
   "execution_count": 11,
   "metadata": {
    "collapsed": true
   },
   "outputs": [],
   "source": [
    "train_datagen = ImageDataGenerator(rescale=1. / 255)\n",
    "test_datagen = ImageDataGenerator(rescale=1. / 255)"
   ]
  },
  {
   "cell_type": "code",
   "execution_count": 12,
   "metadata": {
    "collapsed": false
   },
   "outputs": [
    {
     "name": "stdout",
     "output_type": "stream",
     "text": [
      "Found 994 images belonging to 3 classes.\n",
      "Found 487 images belonging to 3 classes.\n"
     ]
    }
   ],
   "source": [
    "train_generator = train_datagen.flow_from_directory(\n",
    "    train_data_dir,\n",
    "    classes = ['Type_1', 'Type_2', 'Type_3'],\n",
    "    target_size=(img_width, img_height),\n",
    "    batch_size=batch_size,\n",
    "    color_mode='rgb',\n",
    "    class_mode='categorical')\n",
    "\n",
    "validation_generator = test_datagen.flow_from_directory(\n",
    "    validation_data_dir,\n",
    "    classes = ['Type_1', 'Type_2', 'Type_3'],\n",
    "    target_size=(img_width, img_height),\n",
    "    batch_size=batch_size,\n",
    "    color_mode='rgb',\n",
    "    class_mode='categorical')"
   ]
  },
  {
   "cell_type": "code",
   "execution_count": 13,
   "metadata": {
    "collapsed": true
   },
   "outputs": [],
   "source": [
    "# Use this for preliminary timing on the AWS p2 instance, so can estimate a good size for the sample directory files\n",
    "import time\n",
    "start_time = time.time()"
   ]
  },
  {
   "cell_type": "code",
   "execution_count": 14,
   "metadata": {
    "collapsed": false
   },
   "outputs": [
    {
     "name": "stdout",
     "output_type": "stream",
     "text": [
      "{0: 3.119047619047619, 1: 1.0, 2: 1.7350993377483444}\n"
     ]
    }
   ],
   "source": [
    "# Based on number of training images per Type in train_dir\n",
    "class_weight_dict = utils.get_class_weight_dict([168, 524, 302])\n",
    "print(class_weight_dict)"
   ]
  },
  {
   "cell_type": "code",
   "execution_count": 15,
   "metadata": {
    "collapsed": false
   },
   "outputs": [
    {
     "name": "stdout",
     "output_type": "stream",
     "text": [
      "Epoch 1/40\n",
      "15/16 [===========================>..] - ETA: 13s - loss: 1.7373 - acc: 0.3219Epoch 00000: val_acc improved from -inf to 0.28747, saving model to data/weights/weights1-improvement-00-0.29.hdf5\n",
      "16/16 [==============================] - 321s - loss: 1.7343 - acc: 0.3256 - val_loss: 1.0990 - val_acc: 0.2875\n",
      "Epoch 2/40\n",
      "15/16 [===========================>..] - ETA: 5s - loss: 1.7436 - acc: 0.3292 Epoch 00001: val_acc did not improve\n",
      "16/16 [==============================] - 205s - loss: 1.7350 - acc: 0.3217 - val_loss: 1.1000 - val_acc: 0.2690\n",
      "Epoch 3/40\n",
      "15/16 [===========================>..] - ETA: 5s - loss: 1.7247 - acc: 0.3427 Epoch 00002: val_acc did not improve\n",
      "16/16 [==============================] - 207s - loss: 1.7228 - acc: 0.3398 - val_loss: 1.1011 - val_acc: 0.2669\n",
      "Epoch 4/40\n",
      "15/16 [===========================>..] - ETA: 5s - loss: 1.7187 - acc: 0.3396 Epoch 00003: val_acc improved from 0.28747 to 0.28953, saving model to data/weights/weights1-improvement-03-0.29.hdf5\n",
      "16/16 [==============================] - 204s - loss: 1.7261 - acc: 0.3350 - val_loss: 1.0959 - val_acc: 0.2895\n",
      "Epoch 5/40\n",
      "15/16 [===========================>..] - ETA: 5s - loss: 1.7224 - acc: 0.3469 Epoch 00004: val_acc improved from 0.28953 to 0.30390, saving model to data/weights/weights1-improvement-04-0.30.hdf5\n",
      "16/16 [==============================] - 215s - loss: 1.7223 - acc: 0.3401 - val_loss: 1.0921 - val_acc: 0.3039\n",
      "Epoch 6/40\n",
      "15/16 [===========================>..] - ETA: 5s - loss: 1.7082 - acc: 0.4229 Epoch 00005: val_acc improved from 0.30390 to 0.44764, saving model to data/weights/weights1-improvement-05-0.45.hdf5\n",
      "16/16 [==============================] - 205s - loss: 1.7108 - acc: 0.4240 - val_loss: 1.0670 - val_acc: 0.4476\n",
      "Epoch 7/40\n",
      "15/16 [===========================>..] - ETA: 5s - loss: 1.7057 - acc: 0.4177 Epoch 00006: val_acc did not improve\n",
      "16/16 [==============================] - 204s - loss: 1.6976 - acc: 0.4173 - val_loss: 1.0966 - val_acc: 0.2813\n",
      "Epoch 8/40\n",
      "15/16 [===========================>..] - ETA: 5s - loss: 1.6989 - acc: 0.3885 Epoch 00007: val_acc did not improve\n",
      "16/16 [==============================] - 202s - loss: 1.6867 - acc: 0.3882 - val_loss: 1.0867 - val_acc: 0.2957\n",
      "Epoch 9/40\n",
      "15/16 [===========================>..] - ETA: 5s - loss: 1.6970 - acc: 0.3781 Epoch 00008: val_acc did not improve\n",
      "16/16 [==============================] - 213s - loss: 1.6957 - acc: 0.3748 - val_loss: 1.0778 - val_acc: 0.3429\n",
      "Epoch 10/40\n",
      "15/16 [===========================>..] - ETA: 5s - loss: 1.6733 - acc: 0.3708 Epoch 00009: val_acc did not improve\n",
      "16/16 [==============================] - 206s - loss: 1.6853 - acc: 0.3733 - val_loss: 1.0634 - val_acc: 0.3799\n",
      "Epoch 11/40\n",
      "15/16 [===========================>..] - ETA: 5s - loss: 1.6898 - acc: 0.4073 Epoch 00010: val_acc did not improve\n",
      "16/16 [==============================] - 211s - loss: 1.6717 - acc: 0.4094 - val_loss: 1.0610 - val_acc: 0.3737\n",
      "Epoch 12/40\n",
      "15/16 [===========================>..] - ETA: 5s - loss: 1.6760 - acc: 0.3917 Epoch 00011: val_acc did not improve\n",
      "16/16 [==============================] - 205s - loss: 1.6665 - acc: 0.3929 - val_loss: 1.0588 - val_acc: 0.3778\n",
      "Epoch 13/40\n",
      "15/16 [===========================>..] - ETA: 5s - loss: 1.6569 - acc: 0.4010 Epoch 00012: val_acc did not improve\n",
      "16/16 [==============================] - 204s - loss: 1.6597 - acc: 0.3981 - val_loss: 1.0911 - val_acc: 0.3326\n",
      "Epoch 14/40\n",
      "15/16 [===========================>..] - ETA: 5s - loss: 1.6690 - acc: 0.3844 Epoch 00013: val_acc did not improve\n",
      "16/16 [==============================] - 208s - loss: 1.6575 - acc: 0.3860 - val_loss: 1.0631 - val_acc: 0.3881\n",
      "Epoch 15/40\n",
      "15/16 [===========================>..] - ETA: 5s - loss: 1.6456 - acc: 0.3927 Epoch 00014: val_acc did not improve\n",
      "16/16 [==============================] - 208s - loss: 1.6417 - acc: 0.4028 - val_loss: 1.0348 - val_acc: 0.4353\n",
      "Epoch 16/40\n",
      "15/16 [===========================>..] - ETA: 5s - loss: 1.6459 - acc: 0.4188 Epoch 00015: val_acc did not improve\n",
      "16/16 [==============================] - 202s - loss: 1.6479 - acc: 0.4183 - val_loss: 1.0439 - val_acc: 0.4312\n",
      "Epoch 17/40\n",
      "15/16 [===========================>..] - ETA: 5s - loss: 1.6292 - acc: 0.4292 Epoch 00016: val_acc did not improve\n",
      "16/16 [==============================] - 212s - loss: 1.6282 - acc: 0.4335 - val_loss: 1.0626 - val_acc: 0.3799\n",
      "Epoch 18/40\n",
      "15/16 [===========================>..] - ETA: 5s - loss: 1.6367 - acc: 0.3958 Epoch 00017: val_acc did not improve\n",
      "16/16 [==============================] - 207s - loss: 1.6358 - acc: 0.3968 - val_loss: 1.0858 - val_acc: 0.3429\n",
      "Epoch 19/40\n",
      "15/16 [===========================>..] - ETA: 5s - loss: 1.6203 - acc: 0.3979 Epoch 00018: val_acc did not improve\n",
      "16/16 [==============================] - 210s - loss: 1.6137 - acc: 0.3988 - val_loss: 1.0290 - val_acc: 0.4333\n",
      "Epoch 20/40\n",
      "15/16 [===========================>..] - ETA: 5s - loss: 1.6072 - acc: 0.4667 Epoch 00019: val_acc did not improve\n",
      "16/16 [==============================] - 207s - loss: 1.6233 - acc: 0.4615 - val_loss: 1.0480 - val_acc: 0.4374\n",
      "Epoch 21/40\n",
      "15/16 [===========================>..] - ETA: 5s - loss: 1.6173 - acc: 0.4198 Epoch 00020: val_acc did not improve\n",
      "16/16 [==============================] - 208s - loss: 1.6171 - acc: 0.4229 - val_loss: 1.0468 - val_acc: 0.4086\n",
      "Epoch 22/40\n",
      "15/16 [===========================>..] - ETA: 5s - loss: 1.5912 - acc: 0.4292 Epoch 00021: val_acc did not improve\n",
      "16/16 [==============================] - 207s - loss: 1.5993 - acc: 0.4353 - val_loss: 1.0508 - val_acc: 0.4312\n",
      "Epoch 23/40\n",
      "15/16 [===========================>..] - ETA: 5s - loss: 1.5921 - acc: 0.4854Epoch 00022: val_acc did not improve\n",
      "16/16 [==============================] - 204s - loss: 1.5757 - acc: 0.4845 - val_loss: 1.0326 - val_acc: 0.4107\n",
      "Epoch 24/40\n",
      "15/16 [===========================>..] - ETA: 5s - loss: 1.5547 - acc: 0.4500 Epoch 00023: val_acc did not improve\n",
      "16/16 [==============================] - 209s - loss: 1.5701 - acc: 0.4530 - val_loss: 1.0354 - val_acc: 0.4353\n",
      "Epoch 25/40\n",
      "15/16 [===========================>..] - ETA: 5s - loss: 1.5443 - acc: 0.4698 Epoch 00024: val_acc did not improve\n",
      "16/16 [==============================] - 211s - loss: 1.5514 - acc: 0.4645 - val_loss: 1.0513 - val_acc: 0.4168\n",
      "Epoch 26/40\n",
      "15/16 [===========================>..] - ETA: 5s - loss: 1.5632 - acc: 0.4292 Epoch 00025: val_acc improved from 0.44764 to 0.49692, saving model to data/weights/weights1-improvement-25-0.50.hdf5\n",
      "16/16 [==============================] - 204s - loss: 1.5598 - acc: 0.4353 - val_loss: 0.9916 - val_acc: 0.4969\n",
      "Epoch 27/40\n",
      "15/16 [===========================>..] - ETA: 5s - loss: 1.5479 - acc: 0.5042 Epoch 00026: val_acc did not improve\n",
      "16/16 [==============================] - 206s - loss: 1.5439 - acc: 0.5093 - val_loss: 1.0259 - val_acc: 0.4353\n",
      "Epoch 28/40\n",
      "15/16 [===========================>..] - ETA: 5s - loss: 1.5305 - acc: 0.4573 Epoch 00027: val_acc did not improve\n",
      "16/16 [==============================] - 206s - loss: 1.5318 - acc: 0.4581 - val_loss: 0.9849 - val_acc: 0.4784\n",
      "Epoch 29/40\n",
      "15/16 [===========================>..] - ETA: 5s - loss: 1.5022 - acc: 0.4979 Epoch 00028: val_acc did not improve\n",
      "16/16 [==============================] - 203s - loss: 1.5062 - acc: 0.4998 - val_loss: 0.9994 - val_acc: 0.4538\n",
      "Epoch 30/40\n",
      "15/16 [===========================>..] - ETA: 5s - loss: 1.5240 - acc: 0.4552 Epoch 00029: val_acc improved from 0.49692 to 0.51129, saving model to data/weights/weights1-improvement-29-0.51.hdf5\n",
      "16/16 [==============================] - 205s - loss: 1.5063 - acc: 0.4579 - val_loss: 0.9583 - val_acc: 0.5113\n",
      "Epoch 31/40\n",
      "15/16 [===========================>..] - ETA: 5s - loss: 1.5185 - acc: 0.5125 Epoch 00030: val_acc did not improve\n",
      "16/16 [==============================] - 208s - loss: 1.5140 - acc: 0.5064 - val_loss: 1.0304 - val_acc: 0.4209\n",
      "Epoch 32/40\n",
      "15/16 [===========================>..] - ETA: 5s - loss: 1.5003 - acc: 0.4979 Epoch 00031: val_acc did not improve\n",
      "16/16 [==============================] - 202s - loss: 1.5047 - acc: 0.4998 - val_loss: 1.0132 - val_acc: 0.4415\n",
      "Epoch 33/40\n",
      "15/16 [===========================>..] - ETA: 6s - loss: 1.4783 - acc: 0.5167 Epoch 00032: val_acc did not improve\n",
      "16/16 [==============================] - 212s - loss: 1.4759 - acc: 0.5139 - val_loss: 1.0158 - val_acc: 0.4333\n",
      "Epoch 34/40\n",
      "15/16 [===========================>..] - ETA: 5s - loss: 1.4636 - acc: 0.5031 Epoch 00033: val_acc did not improve\n",
      "16/16 [==============================] - 205s - loss: 1.4585 - acc: 0.4994 - val_loss: 0.9727 - val_acc: 0.4723\n",
      "Epoch 35/40\n",
      "15/16 [===========================>..] - ETA: 5s - loss: 1.4389 - acc: 0.5188 Epoch 00034: val_acc did not improve\n",
      "16/16 [==============================] - 205s - loss: 1.4529 - acc: 0.5051 - val_loss: 0.9823 - val_acc: 0.4743\n",
      "Epoch 36/40\n",
      "15/16 [===========================>..] - ETA: 5s - loss: 1.4378 - acc: 0.5240 Epoch 00035: val_acc did not improve\n",
      "16/16 [==============================] - 205s - loss: 1.4722 - acc: 0.5118 - val_loss: 1.0541 - val_acc: 0.3799\n",
      "Epoch 37/40\n",
      "15/16 [===========================>..] - ETA: 5s - loss: 1.4350 - acc: 0.5427 Epoch 00036: val_acc did not improve\n",
      "16/16 [==============================] - 204s - loss: 1.4429 - acc: 0.5437 - val_loss: 0.9821 - val_acc: 0.4538\n",
      "Epoch 38/40\n",
      "15/16 [===========================>..] - ETA: 5s - loss: 1.3941 - acc: 0.5323 Epoch 00037: val_acc did not improve\n",
      "16/16 [==============================] - 205s - loss: 1.4003 - acc: 0.5339 - val_loss: 0.9769 - val_acc: 0.4784\n",
      "Epoch 39/40\n",
      "15/16 [===========================>..] - ETA: 5s - loss: 1.4026 - acc: 0.5417 Epoch 00038: val_acc did not improve\n",
      "16/16 [==============================] - 207s - loss: 1.4149 - acc: 0.5445 - val_loss: 0.9883 - val_acc: 0.4394\n",
      "Epoch 40/40\n",
      "15/16 [===========================>..] - ETA: 5s - loss: 1.4048 - acc: 0.5333 Epoch 00039: val_acc did not improve\n",
      "16/16 [==============================] - 201s - loss: 1.4092 - acc: 0.5367 - val_loss: 1.0085 - val_acc: 0.4292\n"
     ]
    }
   ],
   "source": [
    "h = model.fit_generator(\n",
    "    train_generator,\n",
    "    steps_per_epoch=train_steps,\n",
    "    epochs=epochs,\n",
    "    validation_data=validation_generator,\n",
    "    validation_steps=validation_steps, \n",
    "    class_weight = class_weight_dict,\n",
    "    callbacks=callbacks_list,\n",
    "    verbose=1)"
   ]
  },
  {
   "cell_type": "code",
   "execution_count": 16,
   "metadata": {
    "collapsed": false
   },
   "outputs": [
    {
     "name": "stdout",
     "output_type": "stream",
     "text": [
      "8407.520051 seconds\n",
      "Total Images Processed  1481\n",
      "Epochs : 40\n"
     ]
    }
   ],
   "source": [
    "# Use this for preliminary timing on the AWS p2 instance, so can estimate a good size for the sample directory files\n",
    "print(\"%f seconds\" % (time.time() - start_time))\n",
    "print('Total Images Processed ' , str(num_training_samples + num_validation_samples))\n",
    "print('Epochs :', str(h.epoch[-1]+ 1))"
   ]
  },
  {
   "cell_type": "code",
   "execution_count": 18,
   "metadata": {
    "collapsed": false
   },
   "outputs": [
    {
     "data": {
      "image/png": "[encoded data removed]",
      "text/plain": [
       "<matplotlib.figure.Figure at 0x7f8b3c8c3750>"
      ]
     },
     "metadata": {},
     "output_type": "display_data"
    }
   ],
   "source": [
    "utils.plot_learning(h)"
   ]
  },
  {
   "cell_type": "code",
   "execution_count": 30,
   "metadata": {
    "collapsed": false
   },
   "outputs": [
    {
     "name": "stdout",
     "output_type": "stream",
     "text": [
      "57\n",
      "Found 512 images belonging to 1 classes.\n"
     ]
    }
   ],
   "source": [
    "fns = utils.get_non_hidden_dir_contents(os.path.join(test_data_dir, 'unknown'))\n",
    "#test_batch_size = len(fns)\n",
    "pred_batch_size= 57\n",
    "pred_steps=9 # 57 x 9 = 513  #11 x 19 = 209 vs filenames/preds of 201\n",
    "print(test_batch_size)\n",
    "pred_gen = ImageDataGenerator(rescale=1. / 255,)\n",
    "pred_generator = pred_gen.flow_from_directory(\n",
    "    test_data_dir,\n",
    "    shuffle=False,\n",
    "    classes = ['unknown'],\n",
    "    target_size=(img_width, img_height),\n",
    "    batch_size=test_batch_size,\n",
    "    color_mode='rgb',\n",
    "    class_mode='categorical')"
   ]
  },
  {
   "cell_type": "code",
   "execution_count": 32,
   "metadata": {
    "collapsed": false
   },
   "outputs": [],
   "source": [
    "preds = model.predict_generator(pred_generator, steps = pred_steps)\n",
    "filenames = pred_generator.filenames"
   ]
  },
  {
   "cell_type": "code",
   "execution_count": 33,
   "metadata": {
    "collapsed": false
   },
   "outputs": [
    {
     "name": "stdout",
     "output_type": "stream",
     "text": [
      "(512, 3)\n",
      "['unknown/400.jpg', 'unknown/430.jpg', 'unknown/303.jpg', 'unknown/126.jpg', 'unknown/487.jpg', 'unknown/18.jpg', 'unknown/248.jpg', 'unknown/502.jpg', 'unknown/383.jpg', 'unknown/478.jpg']\n",
      "[[ 0.234   0.3516  0.4144]\n",
      " [ 0.1961  0.3567  0.4472]\n",
      " [ 0.6045  0.2352  0.1602]\n",
      " [ 0.31    0.3206  0.3695]\n",
      " [ 0.2071  0.3772  0.4157]]\n",
      "          0         1         2\n",
      "0  0.234011  0.351562  0.414427\n",
      "1  0.196094  0.356667  0.447239\n",
      "2  0.604534  0.235235  0.160231\n",
      "3  0.309962  0.320580  0.369458\n",
      "4  0.207090  0.377212  0.415698\n",
      "512\n"
     ]
    }
   ],
   "source": [
    "print(preds.shape)\n",
    "print(filenames[0:10])\n",
    "print(preds[0:5,:])\n",
    "df = pd.DataFrame(preds)\n",
    "print(df.head())\n",
    "print(len(filenames))"
   ]
  },
  {
   "cell_type": "code",
   "execution_count": 41,
   "metadata": {
    "collapsed": false
   },
   "outputs": [
    {
     "name": "stdout",
     "output_type": "stream",
     "text": [
      "Index([0, 1, 2, u'image_name'], dtype='object')\n",
      "    image_name    Type_1    Type_2    Type_3\n",
      "155      0.jpg  0.201520  0.371375  0.427105\n",
      "291      1.jpg  0.156162  0.360510  0.483329\n",
      "170      2.jpg  0.413870  0.375796  0.210334\n",
      "146      3.jpg  0.135489  0.312937  0.551574\n",
      "237      4.jpg  0.035460  0.183454  0.781086\n",
      "115      5.jpg  0.499809  0.399632  0.100559\n",
      "161      6.jpg  0.642955  0.297561  0.059484\n",
      "389      7.jpg  0.136384  0.325447  0.538169\n",
      "342      8.jpg  0.129631  0.321143  0.549226\n",
      "378      9.jpg  0.425292  0.306031  0.268677\n",
      "257     10.jpg  0.671341  0.235167  0.093492\n",
      "101     11.jpg  0.091911  0.272508  0.635581\n",
      "299     12.jpg  0.115097  0.255438  0.629465\n",
      "491     13.jpg  0.137895  0.282236  0.579869\n",
      "88      14.jpg  0.053551  0.235312  0.711137\n",
      "410     15.jpg  0.245870  0.223667  0.530464\n",
      "224     16.jpg  0.185708  0.336213  0.478080\n",
      "59      17.jpg  0.465917  0.372054  0.162029\n",
      "5       18.jpg  0.612555  0.259963  0.127483\n",
      "500     19.jpg  0.074166  0.249114  0.676719\n",
      "361     20.jpg  0.729243  0.253001  0.017756\n",
      "281     21.jpg  0.645660  0.277245  0.077095\n",
      "85      22.jpg  0.192177  0.266723  0.541100\n",
      "64      23.jpg  0.237728  0.371527  0.390745\n",
      "74      24.jpg  0.255646  0.273715  0.470639\n"
     ]
    }
   ],
   "source": [
    "# SAMPLE\n",
    "#df = pd.DataFrame(preds)\n",
    "#df['File_Name'] = [fn.split('/')[1] for fn in filenames]\n",
    "#df['True_Type'] = [int(fn.split('/')[1].split('_')[0]) for fn in filenames]\n",
    "#print(df.columns)\n",
    "#df.columns = [1,2,3,'File_Name','True_Type']\n",
    "#df['Pred_Type'] = df[[1,2,3]].idxmax(axis=1, skipna=True)\n",
    "#df.columns = [1 , 2, 3, 'File_Name',  'True_Type', 'Pred_Type']\n",
    "#print(df.head(25))\n",
    "\n",
    "# Form the submission file DataFrame - Now moved into utils.\n",
    "df = pd.DataFrame(preds)\n",
    "df['image_name'] = [fn.split('/')[1] for fn in filenames]\n",
    "print(df.columns)\n",
    "df.columns = ['Type_1', 'Type_2', 'Type_3','image_name']\n",
    "#df['Pred_Type'] = df[[1,2,3]].idxmax(axis=1, skipna=True)\n",
    "#df.columns = [1 , 2, 3, 'File_Name',  'True_Type', 'Pred_Type']\n",
    "df = df[['image_name', 'Type_1', 'Type_2','Type_3']]\n",
    "df['temp_sort_col'] = df['image_name'].apply(lambda x: int(x.split('.')[0]))\n",
    "df = df.sort_values(by=['temp_sort_col'], ascending=True)\n",
    "df = df.drop('temp_sort_col', axis=1)\n",
    "print(df.head(25))\n"
   ]
  },
  {
   "cell_type": "code",
   "execution_count": 42,
   "metadata": {
    "collapsed": false
   },
   "outputs": [
    {
     "data": {
      "image/png": "[encoded data removed]",
      "text/plain": [
       "<matplotlib.figure.Figure at 0x7f8b2a6b4d90>"
      ]
     },
     "metadata": {},
     "output_type": "display_data"
    }
   ],
   "source": [
    "utils.plot_response_distribution_known_class(df['Type_1'].values, df['Type_2'].values, df['Type_3'].values)    "
   ]
  },
  {
   "cell_type": "code",
   "execution_count": 43,
   "metadata": {
    "collapsed": false
   },
   "outputs": [
    {
     "name": "stdout",
     "output_type": "stream",
     "text": [
      "('Saved to ', 'data/submissions/sub_003.csv')\n"
     ]
    }
   ],
   "source": [
    "df = utils.form_submission_df(preds, filenames)\n",
    "utils.save_submission_csv(submission_dir,df)"
   ]
  },
  {
   "cell_type": "code",
   "execution_count": null,
   "metadata": {
    "collapsed": false
   },
   "outputs": [],
   "source": [
    "print(sub.head(25))"
   ]
  },
  {
   "cell_type": "code",
   "execution_count": 44,
   "metadata": {
    "collapsed": true
   },
   "outputs": [],
   "source": [
    "model.save_weights(os.path.join(weights_dir, 'BaseCNN40EpochRun_1.hdf5'))"
   ]
  },
  {
   "cell_type": "markdown",
   "metadata": {},
   "source": [
    "### Load Best Weights, Make Prediction on Test Set, Save & Submit"
   ]
  },
  {
   "cell_type": "markdown",
   "metadata": {},
   "source": [
    "Best weights occurred at Epoch 30\n",
    "\n",
    "Epoch 30/40\n",
    "\n",
    "15/16 [===========================>..] - ETA: 5s - loss: 1.5240 - acc: 0.4552\n",
    "\n",
    "Epoch 00029: val_acc improved from 0.49692 to 0.51129, saving model to data/weights/weights1-improvement-29-0.51.hdf5"
   ]
  },
  {
   "cell_type": "code",
   "execution_count": 45,
   "metadata": {
    "collapsed": true
   },
   "outputs": [],
   "source": [
    "model.load_weights('data/weights/weights1-improvement-29-0.51.hdf5')"
   ]
  },
  {
   "cell_type": "code",
   "execution_count": 46,
   "metadata": {
    "collapsed": false
   },
   "outputs": [
    {
     "name": "stdout",
     "output_type": "stream",
     "text": [
      "57\n",
      "Found 512 images belonging to 1 classes.\n"
     ]
    }
   ],
   "source": [
    "fns = utils.get_non_hidden_dir_contents(os.path.join(test_data_dir, 'unknown'))\n",
    "#test_batch_size = len(fns)\n",
    "pred_batch_size= 57\n",
    "pred_steps=9 # 57 x 9 = 513  #11 x 19 = 209 vs filenames/preds of 201\n",
    "print(test_batch_size)\n",
    "pred_gen = ImageDataGenerator(rescale=1. / 255,)\n",
    "pred_generator = pred_gen.flow_from_directory(\n",
    "    test_data_dir,\n",
    "    shuffle=False,\n",
    "    classes = ['unknown'],\n",
    "    target_size=(img_width, img_height),\n",
    "    batch_size=test_batch_size,\n",
    "    color_mode='rgb',\n",
    "    class_mode='categorical')"
   ]
  },
  {
   "cell_type": "code",
   "execution_count": 47,
   "metadata": {
    "collapsed": true
   },
   "outputs": [],
   "source": [
    "preds = model.predict_generator(pred_generator, steps = pred_steps)\n",
    "filenames = pred_generator.filenames"
   ]
  },
  {
   "cell_type": "code",
   "execution_count": 48,
   "metadata": {
    "collapsed": true
   },
   "outputs": [],
   "source": [
    "sub_df = utils.form_submission_df(preds, filenames)"
   ]
  },
  {
   "cell_type": "code",
   "execution_count": 49,
   "metadata": {
    "collapsed": false
   },
   "outputs": [
    {
     "name": "stdout",
     "output_type": "stream",
     "text": [
      "('Saved to ', 'data/submissions/sub_004.csv')\n"
     ]
    }
   ],
   "source": [
    "utils.save_submission_csv(submission_dir,sub_df)"
   ]
  },
  {
   "cell_type": "markdown",
   "metadata": {},
   "source": [
    "### Notes\n",
    "1. The model was learning quite well up until Epoch 30, when the training, and validation accuracy seemed to part ways. It looks like the model started overfitting. I could look at reducing this on this model, but I think I will get a better model loaded (hopefully with some pre-training) and spend time on that.\n",
    "2. Based on a review of the images, it seems that there is a fair amount of \"noise\" in the images. I suspect that reducing this noise ie. doing some basic image segmentation will help the model learn. This is my next step\n",
    "\n",
    "### Kaggle Results\n",
    "\n",
    "The results are improving sub_004 put me at 267 out of 540 entries with 1 month to go. This is within the top 50% (only just) as per my objective\n",
    "\n",
    "sub_004.csv\n",
    "24 minutes ago by DavMacG\n",
    "Basic CNN Train Data Only Best Weights\n",
    "0.96563\n",
    "\n",
    "sub_003.csv\n",
    "36 minutes ago by DavMacG\n",
    "Basic CNN Train Data Only\n",
    "0.99110\n",
    "\n",
    "sub_002.csv\n",
    "23 days ago by DavMacG\n",
    "002\n",
    "1.09861\n",
    "\n",
    "sub_001.csv\n",
    "23 days ago by DavMacG\n",
    "001\n",
    "1.00575\n"
   ]
  }
 ],
 "metadata": {
  "anaconda-cloud": {},
  "kernelspec": {
   "display_name": "Python [conda env:ana_py27_p2]",
   "language": "python",
   "name": "conda-env-ana_py27_p2-py"
  },
  "language_info": {
   "codemirror_mode": {
    "name": "ipython",
    "version": 2
   },
   "file_extension": ".py",
   "mimetype": "text/x-python",
   "name": "python",
   "nbconvert_exporter": "python",
   "pygments_lexer": "ipython2",
   "version": "2.7.12"
  }
 },
 "nbformat": 4,
 "nbformat_minor": 1
}
