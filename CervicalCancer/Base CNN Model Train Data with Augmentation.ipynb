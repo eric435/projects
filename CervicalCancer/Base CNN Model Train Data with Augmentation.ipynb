{
 "cells": [
  {
   "cell_type": "code",
   "execution_count": 1,
   "metadata": {
    "collapsed": false
   },
   "outputs": [
    {
     "name": "stderr",
     "output_type": "stream",
     "text": [
      "Using Theano backend.\n"
     ]
    },
    {
     "name": "stdout",
     "output_type": "stream",
     "text": [
      "Couldn't import dot_parser, loading of dot files will not be possible.\n"
     ]
    },
    {
     "name": "stderr",
     "output_type": "stream",
     "text": [
      "WARNING (theano.sandbox.cuda): The cuda backend is deprecated and will be removed in the next release (v0.10).  Please switch to the gpuarray backend. You can get more information about how to switch at this URL:\n",
      " https://github.com/Theano/Theano/wiki/Converting-to-the-new-gpu-back-end%28gpuarray%29\n",
      "\n",
      "Using gpu device 0: Tesla K80 (CNMeM is disabled, cuDNN 5103)\n"
     ]
    },
    {
     "name": "stdout",
     "output_type": "stream",
     "text": [
      "System : Python  2.7.12 | packaged by conda-forge | (default, Sep  8 2016, 14:22:31) \n",
      "[GCC 4.8.2 20140120 (Red Hat 4.8.2-15)] \n",
      "\n",
      "\n",
      "Directory Structure:\n",
      "/home/ubuntu/ana_py27_p2/projects/CervicalCancer\n",
      ".\n",
      "├── unused_utils\n",
      "│   ├── __init__.py\n",
      "│   ├── __init__.pyc\n",
      "│   ├── utils.pyc\n",
      "│   └── unused_utils.py\n",
      "├── __init__.py\n",
      "├── 001 - Initial Setup.ipynb\n",
      "├── 002 - Data Setup & General Notes.ipynb\n",
      "├── 003 - Baseline.ipynb\n",
      "├── Trash\n",
      "│   ├── 002-01 - Train Data (only) Setup.ipynb\n",
      "│   └── Base CNN Model Train Data with Preprocessing.ipynb\n",
      "├── 004-1 - Base CNN Model - Sample.ipynb\n",
      "├── 004-2 - Base CNN Model - Train Data.ipynb\n",
      "├── 005 - Exploratoring the Data.ipynb\n",
      "├── 006 - Non Neural Net Classifiers.ipynb\n",
      "├── 007 - Gradient Boosting Classifier.ipynb\n",
      "├── data\n",
      "│   ├── additional_Type_1_v2.7z\n",
      "│   ├── additional_Type_3_v2.7z\n",
      "│   ├── additional_Type_2_v2.7z\n",
      "│   ├── train\n",
      "│   │   ├── Type_1 [168 entries exceeds filelimit, not opening dir]\n",
      "│   │   ├── Type_2 [524 entries exceeds filelimit, not opening dir]\n",
      "│   │   └── Type_3 [302 entries exceeds filelimit, not opening dir]\n",
      "│   ├── test\n",
      "│   │   └── unknown [512 entries exceeds filelimit, not opening dir]\n",
      "│   ├── preview\n",
      "│   ├── downloads\n",
      "│   │   ├── sample_submission.csv.zip\n",
      "│   │   ├── test.7z\n",
      "│   │   └── train.7z\n",
      "│   ├── valid\n",
      "│   │   ├── Type_1 [82 entries exceeds filelimit, not opening dir]\n",
      "│   │   ├── Type_2 [257 entries exceeds filelimit, not opening dir]\n",
      "│   │   └── Type_3 [148 entries exceeds filelimit, not opening dir]\n",
      "│   ├── sample\n",
      "│   │   ├── preview\n",
      "│   │   ├── train\n",
      "│   │   │   ├── Type_1 [80 entries exceeds filelimit, not opening dir]\n",
      "│   │   │   ├── Type_2 [249 entries exceeds filelimit, not opening dir]\n",
      "│   │   │   └── Type_3 [144 entries exceeds filelimit, not opening dir]\n",
      "│   │   ├── valid\n",
      "│   │   │   ├── Type_1 [61 entries exceeds filelimit, not opening dir]\n",
      "│   │   │   ├── Type_2 [191 entries exceeds filelimit, not opening dir]\n",
      "│   │   │   └── Type_3 [110 entries exceeds filelimit, not opening dir]\n",
      "│   │   ├── test\n",
      "│   │   │   └── unknown [201 entries exceeds filelimit, not opening dir]\n",
      "│   │   └── weights\n",
      "│   │       ├── weights-improvement-00-0.22.hdf5\n",
      "│   │       ├── weights-improvement-01-0.35.hdf5\n",
      "│   │       ├── weights-improvement-03-0.36.hdf5\n",
      "│   │       ├── weights-improvement-06-0.45.hdf5\n",
      "│   │       ├── weights-improvement-07-0.47.hdf5\n",
      "│   │       ├── BaseCNN35EpochRun_1.hdf5\n",
      "│   │       ├── weights2-improvement-00-0.30.hdf5\n",
      "│   │       ├── weights2-improvement-01-0.37.hdf5\n",
      "│   │       ├── weights2-improvement-05-0.43.hdf5\n",
      "│   │       ├── weights2-improvement-11-0.46.hdf5\n",
      "│   │       └── weights2-improvement-12-0.50.hdf5\n",
      "│   ├── submissions\n",
      "│   │   ├── sample_submission_000.csv\n",
      "│   │   ├── sub_001.csv\n",
      "│   │   ├── sub_002.csv\n",
      "│   │   ├── sub_003.csv\n",
      "│   │   ├── sub_004.csv\n",
      "│   │   └── sub_005.csv\n",
      "│   ├── weights [29 entries exceeds filelimit, not opening dir]\n",
      "│   └── models\n",
      "│       └── VGG16D_1.yaml\n",
      "├── Transfer Learning Tests 2.ipynb\n",
      "├── Transfer Learning Tests 1.ipynb\n",
      "├── Transfer Learning Tests 3.ipynb\n",
      "└── Base CNN Model Train Data with Augmentation.ipynb\n",
      "\n",
      "31 directories, 43 files\n",
      "\n",
      "\n",
      "Keras version: 2.0.2 , backend: theano , image_format: channels_last\n",
      "\n",
      "\n",
      "Environment : \n"
     ]
    },
    {
     "data": {
      "text/html": [
       "<a href='../../ana_py27_p2.yml' target='_blank'>../../ana_py27_p2.yml</a><br>"
      ],
      "text/plain": [
       "/home/ubuntu/ana_py27_p2/ana_py27_p2.yml"
      ]
     },
     "execution_count": 1,
     "metadata": {},
     "output_type": "execute_result"
    }
   ],
   "source": [
    "# Project Template Import Cell\n",
    "%matplotlib inline\n",
    "import os\n",
    "import sys\n",
    "import math\n",
    "\n",
    "from __future__ import print_function, division\n",
    "from inspect import getsourcefile\n",
    "\n",
    "from IPython.display import FileLink\n",
    "\n",
    "# Standard Notebook Imports\n",
    "import matplotlib.pyplot as plt\n",
    "import numpy as np\n",
    "import pandas as pd\n",
    "\n",
    "CURR_PATH = os.path.abspath(getsourcefile(lambda:0)).rsplit('/', 1)[0] # Get filepath of this notebook\n",
    "module_path = os.path.join(os.path.dirname(CURR_PATH), 'utils') # Make module path for one dir up and one down into utils\n",
    "if module_path not in sys.path: # Append to system path list\n",
    "    sys.path.append(module_path)\n",
    "\n",
    "import utils as utils ; reload(utils)\n",
    "\n",
    "print('System : Python ', os.sys.version , '\\n\\n')\n",
    "\n",
    "print('Directory Structure:')\n",
    "print(CURR_PATH)\n",
    "!tree -cn --filelimit 21\n",
    "\n",
    "# Keras Setup\n",
    "import keras\n",
    "print('\\n\\nKeras version:' , keras.__version__ ,\n",
    "      ', backend:' , keras.backend.backend(),\n",
    "      ', image_format:' , keras.backend.image_data_format())\n",
    "\n",
    "random_seed = 7\n",
    "\n",
    "print('\\n\\nEnvironment : ')\n",
    "FileLink('../../ana_py27_p2.yml')"
   ]
  },
  {
   "cell_type": "code",
   "execution_count": 2,
   "metadata": {
    "collapsed": true
   },
   "outputs": [],
   "source": [
    "from keras.preprocessing.image import ImageDataGenerator\n",
    "from keras.models import Sequential\n",
    "from keras.layers import Conv2D, MaxPooling2D, BatchNormalization\n",
    "from keras.layers import Activation, Dropout, Flatten, Dense\n",
    "from keras import optimizers\n",
    "from keras.callbacks import ModelCheckpoint"
   ]
  },
  {
   "cell_type": "code",
   "execution_count": 3,
   "metadata": {
    "collapsed": true
   },
   "outputs": [],
   "source": [
    "# A fix for truncated image error\n",
    "# http://stackoverflow.com/questions/12984426/python-pil-ioerror-image-file-truncated-with-big-images\n",
    "from PIL import ImageFile\n",
    "ImageFile.LOAD_TRUNCATED_IMAGES = True"
   ]
  },
  {
   "cell_type": "markdown",
   "metadata": {},
   "source": [
    "### Prepare Data"
   ]
  },
  {
   "cell_type": "code",
   "execution_count": 4,
   "metadata": {
    "collapsed": true
   },
   "outputs": [],
   "source": [
    "img_width, img_height = 224, 224\n",
    "#img_width, img_height = 300, 300"
   ]
  },
  {
   "cell_type": "code",
   "execution_count": 5,
   "metadata": {
    "collapsed": false
   },
   "outputs": [
    {
     "name": "stdout",
     "output_type": "stream",
     "text": [
      "473\n",
      "362\n"
     ]
    }
   ],
   "source": [
    "# !!!SAMPLE\n",
    "train_data_dir = 'data/sample/train'\n",
    "validation_data_dir = 'data/sample/valid'\n",
    "test_data_dir = 'data/sample/test'\n",
    "weights_dir = 'data/sample/weights'\n",
    "\n",
    "# !!!TRAIN\n",
    "#train_data_dir = 'data/train'\n",
    "#validation_data_dir = 'data/valid'\n",
    "#test_data_dir = 'data/test'\n",
    "#weights_dir = 'data/weights'\n",
    "#submission_dir = 'data/submissions'\n",
    "\n",
    "num_training_samples = 0\n",
    "for class_dir in utils.get_non_hidden_dir_contents(train_data_dir):\n",
    "    num_training_samples += len(utils.get_non_hidden_dir_contents(class_dir))\n",
    "num_validation_samples = 0\n",
    "for class_dir in utils.get_non_hidden_dir_contents(validation_data_dir):\n",
    "    num_validation_samples += len(utils.get_non_hidden_dir_contents(class_dir))    \n",
    "\n",
    "print(num_training_samples)\n",
    "print(num_validation_samples)"
   ]
  },
  {
   "cell_type": "code",
   "execution_count": 6,
   "metadata": {
    "collapsed": false
   },
   "outputs": [
    {
     "name": "stdout",
     "output_type": "stream",
     "text": [
      "8\n",
      "6\n"
     ]
    }
   ],
   "source": [
    "# !!!SAMPLE\n",
    "epochs = 5\n",
    "batch_size=64\n",
    "\n",
    "# !!!TRAIN\n",
    "#epochs=5\n",
    "#batch_size=64\n",
    "\n",
    "input_shape = (img_width, img_height, 3)\n",
    "\n",
    "train_steps = int(math.ceil(num_training_samples / batch_size))\n",
    "validation_steps =  int(math.ceil(num_validation_samples / batch_size))\n",
    "print(train_steps)\n",
    "print(validation_steps)\n",
    "class_weight_dict = utils.get_class_weight_dict([35, 106, 62])"
   ]
  },
  {
   "cell_type": "code",
   "execution_count": 7,
   "metadata": {
    "collapsed": false
   },
   "outputs": [
    {
     "name": "stdout",
     "output_type": "stream",
     "text": [
      "Found 473 images belonging to 3 classes.\n",
      "Found 362 images belonging to 3 classes.\n"
     ]
    }
   ],
   "source": [
    "train_datagen = ImageDataGenerator()\n",
    "\n",
    "test_datagen = ImageDataGenerator()#,\n",
    "\n",
    "train_generator = train_datagen.flow_from_directory(\n",
    "    train_data_dir,\n",
    "    classes = ['Type_1', 'Type_2', 'Type_3'],\n",
    "    target_size=(img_width, img_height),\n",
    "    batch_size=batch_size,\n",
    "    color_mode='rgb',\n",
    "    class_mode='categorical')\n",
    "validation_generator = test_datagen.flow_from_directory(\n",
    "    validation_data_dir,\n",
    "    classes = ['Type_1', 'Type_2', 'Type_3'],\n",
    "    target_size=(img_width, img_height),\n",
    "    batch_size=batch_size,\n",
    "    color_mode='rgb',\n",
    "    class_mode='categorical')"
   ]
  },
  {
   "cell_type": "markdown",
   "metadata": {},
   "source": [
    "### Linear Model"
   ]
  },
  {
   "cell_type": "code",
   "execution_count": 8,
   "metadata": {
    "collapsed": false
   },
   "outputs": [
    {
     "name": "stdout",
     "output_type": "stream",
     "text": [
      "          InputLayer (None, 224, 224, 3) \n",
      "  BatchNormalization (None, 224, 224, 3) \n",
      "             Flatten (None, 150528)      \n",
      "               Dense (None, 3)           \n",
      "\n"
     ]
    }
   ],
   "source": [
    "model = Sequential([\n",
    "        BatchNormalization(axis=1, input_shape=(img_width,img_height,3)),\n",
    "        Flatten(),\n",
    "        Dense(3, activation='softmax')\n",
    "    ])\n",
    "utils.show_ascii_model(model)"
   ]
  },
  {
   "cell_type": "code",
   "execution_count": 9,
   "metadata": {
    "collapsed": false
   },
   "outputs": [
    {
     "name": "stdout",
     "output_type": "stream",
     "text": [
      "Epoch 1/5\n",
      "8/8 [==============================] - 192s - loss: 14.2101 - acc: 0.3286 - val_loss: 7.6583 - val_acc: 0.5249\n",
      "Epoch 2/5\n",
      "8/8 [==============================] - 100s - loss: 15.0727 - acc: 0.4104 - val_loss: 7.6138 - val_acc: 0.5276\n",
      "Epoch 3/5\n",
      "8/8 [==============================] - 98s - loss: 14.9934 - acc: 0.4208 - val_loss: 7.8364 - val_acc: 0.5138\n",
      "Epoch 4/5\n",
      "8/8 [==============================] - 102s - loss: 15.0367 - acc: 0.4127 - val_loss: 7.5247 - val_acc: 0.5331\n",
      "Epoch 5/5\n",
      "8/8 [==============================] - 99s - loss: 15.0724 - acc: 0.4087 - val_loss: 7.3912 - val_acc: 0.5414\n"
     ]
    }
   ],
   "source": [
    "model.compile(optimizers.Adam(), loss='categorical_crossentropy', metrics=['accuracy'])\n",
    "h = model.fit_generator(\n",
    "    train_generator,\n",
    "    steps_per_epoch=train_steps,\n",
    "    epochs=5,\n",
    "    validation_data=validation_generator,\n",
    "    validation_steps=validation_steps, \n",
    "    class_weight = class_weight_dict,\n",
    "    #callbacks=callbacks_list,\n",
    "    verbose=1)"
   ]
  },
  {
   "cell_type": "code",
   "execution_count": 10,
   "metadata": {
    "collapsed": false
   },
   "outputs": [
    {
     "name": "stdout",
     "output_type": "stream",
     "text": [
      "Epoch 1/3\n",
      "8/8 [==============================] - 183s - loss: 14.1728 - acc: 0.4656 - val_loss: 7.7919 - val_acc: 0.5166\n",
      "Epoch 2/3\n",
      "8/8 [==============================] - 103s - loss: 15.7760 - acc: 0.4812 - val_loss: 7.6583 - val_acc: 0.5249\n",
      "Epoch 3/3\n",
      "8/8 [==============================] - 99s - loss: 13.7169 - acc: 0.5277 - val_loss: 7.6583 - val_acc: 0.5249\n"
     ]
    }
   ],
   "source": [
    "#Going nowhere fast - Drop learning rate by factor of 10\n",
    "model.optimizer.lr=0.0001 # Default 0.001\n",
    "h = model.fit_generator(\n",
    "    train_generator,\n",
    "    steps_per_epoch=train_steps,\n",
    "    epochs=3,\n",
    "    validation_data=validation_generator,\n",
    "    validation_steps=validation_steps, \n",
    "    class_weight = class_weight_dict,\n",
    "    #callbacks=callbacks_list,\n",
    "    verbose=1)"
   ]
  },
  {
   "cell_type": "code",
   "execution_count": 12,
   "metadata": {
    "collapsed": false
   },
   "outputs": [
    {
     "name": "stdout",
     "output_type": "stream",
     "text": [
      "Epoch 1/3\n",
      "8/8 [==============================] - 183s - loss: 14.8897 - acc: 0.4292 - val_loss: 7.8583 - val_acc: 0.5110\n",
      "Epoch 2/3\n",
      "8/8 [==============================] - 104s - loss: 15.2683 - acc: 0.4087 - val_loss: 7.8813 - val_acc: 0.5110\n",
      "Epoch 3/3\n",
      "8/8 [==============================] - 100s - loss: 15.5278 - acc: 0.4001 - val_loss: 7.9255 - val_acc: 0.5083\n"
     ]
    }
   ],
   "source": [
    "#Maybe climbing - keep going\n",
    "h = model.fit_generator(\n",
    "    train_generator,\n",
    "    steps_per_epoch=train_steps,\n",
    "    epochs=3,\n",
    "    validation_data=validation_generator,\n",
    "    validation_steps=validation_steps, \n",
    "    class_weight = class_weight_dict,\n",
    "    #callbacks=callbacks_list,\n",
    "    verbose=1)"
   ]
  },
  {
   "cell_type": "code",
   "execution_count": 13,
   "metadata": {
    "collapsed": false
   },
   "outputs": [
    {
     "name": "stdout",
     "output_type": "stream",
     "text": [
      "Epoch 1/5\n",
      "8/8 [==============================] - 186s - loss: 14.7036 - acc: 0.4316 - val_loss: 8.1893 - val_acc: 0.4917\n",
      "Epoch 2/5\n",
      "8/8 [==============================] - 100s - loss: 15.2881 - acc: 0.4383 - val_loss: 8.0664 - val_acc: 0.4972\n",
      "Epoch 3/5\n",
      "8/8 [==============================] - 99s - loss: 13.8704 - acc: 0.4775 - val_loss: 8.7065 - val_acc: 0.4586\n",
      "Epoch 4/5\n",
      "8/8 [==============================] - 94s - loss: 15.1977 - acc: 0.4376 - val_loss: 7.9702 - val_acc: 0.5055\n",
      "Epoch 5/5\n",
      "8/8 [==============================] - 121s - loss: 13.6283 - acc: 0.4797 - val_loss: 8.3368 - val_acc: 0.4807\n"
     ]
    }
   ],
   "source": [
    "#Dead as a Dodo Drop learning rate again\n",
    "model.optimizer.lr=0.000001 # Default 0.001\n",
    "h = model.fit_generator(\n",
    "    train_generator,\n",
    "    steps_per_epoch=train_steps,\n",
    "    epochs=5,\n",
    "    validation_data=validation_generator,\n",
    "    validation_steps=validation_steps, \n",
    "    class_weight = class_weight_dict,\n",
    "    #callbacks=callbacks_list,\n",
    "    verbose=1)"
   ]
  },
  {
   "cell_type": "code",
   "execution_count": 14,
   "metadata": {
    "collapsed": false
   },
   "outputs": [
    {
     "name": "stdout",
     "output_type": "stream",
     "text": [
      "Epoch 1/5\n",
      "8/8 [==============================] - 191s - loss: 14.0416 - acc: 0.4637 - val_loss: 8.1630 - val_acc: 0.4890\n",
      "Epoch 2/5\n",
      "7/8 [=========================>....] - ETA: 0s - loss: 16.0218 - acc: 0.3872"
     ]
    },
    {
     "ename": "KeyboardInterrupt",
     "evalue": "",
     "output_type": "error",
     "traceback": [
      "\u001b[0;31m---------------------------------------------------------------------------\u001b[0m",
      "\u001b[0;31mKeyboardInterrupt\u001b[0m                         Traceback (most recent call last)",
      "\u001b[0;32m<ipython-input-14-6789bab1b32d>\u001b[0m in \u001b[0;36m<module>\u001b[0;34m()\u001b[0m\n\u001b[1;32m      9\u001b[0m     \u001b[0mclass_weight\u001b[0m \u001b[0;34m=\u001b[0m \u001b[0mclass_weight_dict\u001b[0m\u001b[0;34m,\u001b[0m\u001b[0;34m\u001b[0m\u001b[0m\n\u001b[1;32m     10\u001b[0m     \u001b[0;31m#callbacks=callbacks_list,\u001b[0m\u001b[0;34m\u001b[0m\u001b[0;34m\u001b[0m\u001b[0m\n\u001b[0;32m---> 11\u001b[0;31m     verbose=1)\n\u001b[0m",
      "\u001b[0;32m/home/ubuntu/anaconda2/envs/ana_py27_p2/lib/python2.7/site-packages/keras/legacy/interfaces.pyc\u001b[0m in \u001b[0;36mwrapper\u001b[0;34m(*args, **kwargs)\u001b[0m\n\u001b[1;32m     86\u001b[0m                 warnings.warn('Update your `' + object_name +\n\u001b[1;32m     87\u001b[0m                               '` call to the Keras 2 API: ' + signature, stacklevel=2)\n\u001b[0;32m---> 88\u001b[0;31m             \u001b[0;32mreturn\u001b[0m \u001b[0mfunc\u001b[0m\u001b[0;34m(\u001b[0m\u001b[0;34m*\u001b[0m\u001b[0margs\u001b[0m\u001b[0;34m,\u001b[0m \u001b[0;34m**\u001b[0m\u001b[0mkwargs\u001b[0m\u001b[0;34m)\u001b[0m\u001b[0;34m\u001b[0m\u001b[0m\n\u001b[0m\u001b[1;32m     89\u001b[0m         \u001b[0mwrapper\u001b[0m\u001b[0;34m.\u001b[0m\u001b[0m_legacy_support_signature\u001b[0m \u001b[0;34m=\u001b[0m \u001b[0minspect\u001b[0m\u001b[0;34m.\u001b[0m\u001b[0mgetargspec\u001b[0m\u001b[0;34m(\u001b[0m\u001b[0mfunc\u001b[0m\u001b[0;34m)\u001b[0m\u001b[0;34m\u001b[0m\u001b[0m\n\u001b[1;32m     90\u001b[0m         \u001b[0;32mreturn\u001b[0m \u001b[0mwrapper\u001b[0m\u001b[0;34m\u001b[0m\u001b[0m\n",
      "\u001b[0;32m/home/ubuntu/anaconda2/envs/ana_py27_p2/lib/python2.7/site-packages/keras/models.pyc\u001b[0m in \u001b[0;36mfit_generator\u001b[0;34m(self, generator, steps_per_epoch, epochs, verbose, callbacks, validation_data, validation_steps, class_weight, max_q_size, workers, pickle_safe, initial_epoch)\u001b[0m\n\u001b[1;32m   1095\u001b[0m                                         \u001b[0mworkers\u001b[0m\u001b[0;34m=\u001b[0m\u001b[0mworkers\u001b[0m\u001b[0;34m,\u001b[0m\u001b[0;34m\u001b[0m\u001b[0m\n\u001b[1;32m   1096\u001b[0m                                         \u001b[0mpickle_safe\u001b[0m\u001b[0;34m=\u001b[0m\u001b[0mpickle_safe\u001b[0m\u001b[0;34m,\u001b[0m\u001b[0;34m\u001b[0m\u001b[0m\n\u001b[0;32m-> 1097\u001b[0;31m                                         initial_epoch=initial_epoch)\n\u001b[0m\u001b[1;32m   1098\u001b[0m \u001b[0;34m\u001b[0m\u001b[0m\n\u001b[1;32m   1099\u001b[0m     \u001b[0;34m@\u001b[0m\u001b[0minterfaces\u001b[0m\u001b[0;34m.\u001b[0m\u001b[0mlegacy_generator_methods_support\u001b[0m\u001b[0;34m\u001b[0m\u001b[0m\n",
      "\u001b[0;32m/home/ubuntu/anaconda2/envs/ana_py27_p2/lib/python2.7/site-packages/keras/legacy/interfaces.pyc\u001b[0m in \u001b[0;36mwrapper\u001b[0;34m(*args, **kwargs)\u001b[0m\n\u001b[1;32m     86\u001b[0m                 warnings.warn('Update your `' + object_name +\n\u001b[1;32m     87\u001b[0m                               '` call to the Keras 2 API: ' + signature, stacklevel=2)\n\u001b[0;32m---> 88\u001b[0;31m             \u001b[0;32mreturn\u001b[0m \u001b[0mfunc\u001b[0m\u001b[0;34m(\u001b[0m\u001b[0;34m*\u001b[0m\u001b[0margs\u001b[0m\u001b[0;34m,\u001b[0m \u001b[0;34m**\u001b[0m\u001b[0mkwargs\u001b[0m\u001b[0;34m)\u001b[0m\u001b[0;34m\u001b[0m\u001b[0m\n\u001b[0m\u001b[1;32m     89\u001b[0m         \u001b[0mwrapper\u001b[0m\u001b[0;34m.\u001b[0m\u001b[0m_legacy_support_signature\u001b[0m \u001b[0;34m=\u001b[0m \u001b[0minspect\u001b[0m\u001b[0;34m.\u001b[0m\u001b[0mgetargspec\u001b[0m\u001b[0;34m(\u001b[0m\u001b[0mfunc\u001b[0m\u001b[0;34m)\u001b[0m\u001b[0;34m\u001b[0m\u001b[0m\n\u001b[1;32m     90\u001b[0m         \u001b[0;32mreturn\u001b[0m \u001b[0mwrapper\u001b[0m\u001b[0;34m\u001b[0m\u001b[0m\n",
      "\u001b[0;32m/home/ubuntu/anaconda2/envs/ana_py27_p2/lib/python2.7/site-packages/keras/engine/training.pyc\u001b[0m in \u001b[0;36mfit_generator\u001b[0;34m(self, generator, steps_per_epoch, epochs, verbose, callbacks, validation_data, validation_steps, class_weight, max_q_size, workers, pickle_safe, initial_epoch)\u001b[0m\n\u001b[1;32m   1896\u001b[0m                                 \u001b[0mmax_q_size\u001b[0m\u001b[0;34m=\u001b[0m\u001b[0mmax_q_size\u001b[0m\u001b[0;34m,\u001b[0m\u001b[0;34m\u001b[0m\u001b[0m\n\u001b[1;32m   1897\u001b[0m                                 \u001b[0mworkers\u001b[0m\u001b[0;34m=\u001b[0m\u001b[0mworkers\u001b[0m\u001b[0;34m,\u001b[0m\u001b[0;34m\u001b[0m\u001b[0m\n\u001b[0;32m-> 1898\u001b[0;31m                                 pickle_safe=pickle_safe)\n\u001b[0m\u001b[1;32m   1899\u001b[0m                         \u001b[0;32melse\u001b[0m\u001b[0;34m:\u001b[0m\u001b[0;34m\u001b[0m\u001b[0m\n\u001b[1;32m   1900\u001b[0m                             \u001b[0;31m# No need for try/except because\u001b[0m\u001b[0;34m\u001b[0m\u001b[0;34m\u001b[0m\u001b[0m\n",
      "\u001b[0;32m/home/ubuntu/anaconda2/envs/ana_py27_p2/lib/python2.7/site-packages/keras/legacy/interfaces.pyc\u001b[0m in \u001b[0;36mwrapper\u001b[0;34m(*args, **kwargs)\u001b[0m\n\u001b[1;32m     86\u001b[0m                 warnings.warn('Update your `' + object_name +\n\u001b[1;32m     87\u001b[0m                               '` call to the Keras 2 API: ' + signature, stacklevel=2)\n\u001b[0;32m---> 88\u001b[0;31m             \u001b[0;32mreturn\u001b[0m \u001b[0mfunc\u001b[0m\u001b[0;34m(\u001b[0m\u001b[0;34m*\u001b[0m\u001b[0margs\u001b[0m\u001b[0;34m,\u001b[0m \u001b[0;34m**\u001b[0m\u001b[0mkwargs\u001b[0m\u001b[0;34m)\u001b[0m\u001b[0;34m\u001b[0m\u001b[0m\n\u001b[0m\u001b[1;32m     89\u001b[0m         \u001b[0mwrapper\u001b[0m\u001b[0;34m.\u001b[0m\u001b[0m_legacy_support_signature\u001b[0m \u001b[0;34m=\u001b[0m \u001b[0minspect\u001b[0m\u001b[0;34m.\u001b[0m\u001b[0mgetargspec\u001b[0m\u001b[0;34m(\u001b[0m\u001b[0mfunc\u001b[0m\u001b[0;34m)\u001b[0m\u001b[0;34m\u001b[0m\u001b[0m\n\u001b[1;32m     90\u001b[0m         \u001b[0;32mreturn\u001b[0m \u001b[0mwrapper\u001b[0m\u001b[0;34m\u001b[0m\u001b[0m\n",
      "\u001b[0;32m/home/ubuntu/anaconda2/envs/ana_py27_p2/lib/python2.7/site-packages/keras/engine/training.pyc\u001b[0m in \u001b[0;36mevaluate_generator\u001b[0;34m(self, generator, steps, max_q_size, workers, pickle_safe)\u001b[0m\n\u001b[1;32m   1976\u001b[0m                         \u001b[0;32mbreak\u001b[0m\u001b[0;34m\u001b[0m\u001b[0m\n\u001b[1;32m   1977\u001b[0m                     \u001b[0;32melse\u001b[0m\u001b[0;34m:\u001b[0m\u001b[0;34m\u001b[0m\u001b[0m\n\u001b[0;32m-> 1978\u001b[0;31m                         \u001b[0mtime\u001b[0m\u001b[0;34m.\u001b[0m\u001b[0msleep\u001b[0m\u001b[0;34m(\u001b[0m\u001b[0mwait_time\u001b[0m\u001b[0;34m)\u001b[0m\u001b[0;34m\u001b[0m\u001b[0m\n\u001b[0m\u001b[1;32m   1979\u001b[0m \u001b[0;34m\u001b[0m\u001b[0m\n\u001b[1;32m   1980\u001b[0m                 \u001b[0;32mif\u001b[0m \u001b[0;32mnot\u001b[0m \u001b[0mhasattr\u001b[0m\u001b[0;34m(\u001b[0m\u001b[0mgenerator_output\u001b[0m\u001b[0;34m,\u001b[0m \u001b[0;34m'__len__'\u001b[0m\u001b[0;34m)\u001b[0m\u001b[0;34m:\u001b[0m\u001b[0;34m\u001b[0m\u001b[0m\n",
      "\u001b[0;31mKeyboardInterrupt\u001b[0m: "
     ]
    }
   ],
   "source": [
    "# Maybe Learning, incredibly but slow - lift learning rate by factor of 10\n",
    "model.optimizer.lr=0.00001 # Default 0.001\n",
    "h = model.fit_generator(\n",
    "    train_generator,\n",
    "    steps_per_epoch=train_steps,\n",
    "    epochs=5,\n",
    "    validation_data=validation_generator,\n",
    "    validation_steps=validation_steps, \n",
    "    class_weight = class_weight_dict,\n",
    "    #callbacks=callbacks_list,\n",
    "    verbose=1)"
   ]
  },
  {
   "cell_type": "code",
   "execution_count": null,
   "metadata": {
    "collapsed": true
   },
   "outputs": [],
   "source": [
    "# Cannot seem to get this to learn\n",
    "# Try a simple CNN"
   ]
  },
  {
   "cell_type": "code",
   "execution_count": 16,
   "metadata": {
    "collapsed": true
   },
   "outputs": [],
   "source": [
    "# Getting nowhere - Try Simple Conv"
   ]
  },
  {
   "cell_type": "code",
   "execution_count": 15,
   "metadata": {
    "collapsed": false
   },
   "outputs": [
    {
     "name": "stdout",
     "output_type": "stream",
     "text": [
      "Found 473 images belonging to 3 classes.\n",
      "Found 362 images belonging to 3 classes.\n",
      "Epoch 1/5\n",
      "8/8 [==============================] - 192s - loss: 3.6882 - acc: 0.3619 - val_loss: 7.6031 - val_acc: 0.4392\n",
      "Epoch 2/5\n",
      "8/8 [==============================] - 112s - loss: 1.3366 - acc: 0.5610 - val_loss: 5.4173 - val_acc: 0.4558\n",
      "Epoch 3/5\n",
      "8/8 [==============================] - 113s - loss: 1.0845 - acc: 0.6433 - val_loss: 3.5986 - val_acc: 0.4365\n",
      "Epoch 4/5\n",
      "8/8 [==============================] - 116s - loss: 0.9981 - acc: 0.7260 - val_loss: 2.7605 - val_acc: 0.4448\n",
      "Epoch 5/5\n",
      "8/8 [==============================] - 104s - loss: 0.9108 - acc: 0.7517 - val_loss: 2.5049 - val_acc: 0.3453\n"
     ]
    }
   ],
   "source": [
    "# Start\n",
    "train_datagen = ImageDataGenerator()\n",
    "\n",
    "test_datagen = ImageDataGenerator()#,\n",
    "\n",
    "train_generator = train_datagen.flow_from_directory(\n",
    "    train_data_dir,\n",
    "    classes = ['Type_1', 'Type_2', 'Type_3'],\n",
    "    target_size=(img_width, img_height),\n",
    "    batch_size=batch_size,\n",
    "    color_mode='rgb',\n",
    "    class_mode='categorical')\n",
    "validation_generator = test_datagen.flow_from_directory(\n",
    "    validation_data_dir,\n",
    "    classes = ['Type_1', 'Type_2', 'Type_3'],\n",
    "    target_size=(img_width, img_height),\n",
    "    batch_size=batch_size,\n",
    "    color_mode='rgb',\n",
    "    class_mode='categorical')\n",
    "\n",
    "model = Sequential([\n",
    "        BatchNormalization(axis=1, input_shape=(224,224,3)),\n",
    "        Conv2D(32,(3,3), activation='relu'),\n",
    "        BatchNormalization(axis=1),\n",
    "        MaxPooling2D((3,3)),\n",
    "        Conv2D(64,(3,3), activation='relu'),\n",
    "        BatchNormalization(axis=1),\n",
    "        MaxPooling2D((3,3)),\n",
    "        Flatten(),\n",
    "        Dense(200, activation='relu'),\n",
    "        BatchNormalization(),\n",
    "        Dense(3, activation='softmax')\n",
    "        ])\n",
    "model.compile(optimizers.Adam(), loss='categorical_crossentropy', metrics=['accuracy'])\n",
    "h = model.fit_generator(\n",
    "    train_generator,\n",
    "    steps_per_epoch=train_steps,\n",
    "    epochs=5,\n",
    "    validation_data=validation_generator,\n",
    "    validation_steps=validation_steps, \n",
    "    class_weight = class_weight_dict,\n",
    "    #callbacks=callbacks_list,\n",
    "    verbose=1)"
   ]
  },
  {
   "cell_type": "code",
   "execution_count": 18,
   "metadata": {
    "collapsed": true
   },
   "outputs": [],
   "source": [
    "# Model has learning capability lr seems OK - but is overfitting\n",
    "# Try some augmentation & assess impact on oos learning"
   ]
  },
  {
   "cell_type": "code",
   "execution_count": 16,
   "metadata": {
    "collapsed": false
   },
   "outputs": [
    {
     "name": "stdout",
     "output_type": "stream",
     "text": [
      "Found 362 images belonging to 3 classes.\n",
      "Found 473 images belonging to 3 classes.\n",
      "\n",
      "Channel Shift Range : 5\n",
      "Epoch 1/8\n",
      "8/8 [==============================] - 191s - loss: 4.4223 - acc: 0.3831 - val_loss: 7.6264 - val_acc: 0.5249\n",
      "Epoch 2/8\n",
      "8/8 [==============================] - 116s - loss: 1.5732 - acc: 0.5413 - val_loss: 9.3468 - val_acc: 0.1657\n",
      "Epoch 3/8\n",
      "8/8 [==============================] - 112s - loss: 1.0860 - acc: 0.6568 - val_loss: 5.0456 - val_acc: 0.2044\n",
      "Epoch 4/8\n",
      "8/8 [==============================] - 112s - loss: 0.9470 - acc: 0.6775 - val_loss: 2.8801 - val_acc: 0.2624\n",
      "Epoch 5/8\n",
      "8/8 [==============================] - 104s - loss: 0.8287 - acc: 0.7487 - val_loss: 1.8604 - val_acc: 0.3729\n",
      "Epoch 6/8\n",
      "8/8 [==============================] - 113s - loss: 0.6837 - acc: 0.8123 - val_loss: 1.6430 - val_acc: 0.3646\n",
      "Epoch 7/8\n",
      "8/8 [==============================] - 112s - loss: 0.5639 - acc: 0.8389 - val_loss: 1.2743 - val_acc: 0.4144\n",
      "Epoch 8/8\n",
      "8/8 [==============================] - 120s - loss: 0.4457 - acc: 0.8753 - val_loss: 1.1576 - val_acc: 0.4917\n",
      "Found 362 images belonging to 3 classes.\n",
      "Found 473 images belonging to 3 classes.\n",
      "\n",
      "Channel Shift Range : 10\n",
      "Epoch 1/8\n",
      "8/8 [==============================] - 192s - loss: 4.0442 - acc: 0.4173 - val_loss: 5.8299 - val_acc: 0.3978\n",
      "Epoch 2/8\n",
      "8/8 [==============================] - 104s - loss: 1.6117 - acc: 0.5272 - val_loss: 3.7382 - val_acc: 0.4917\n",
      "Epoch 3/8\n",
      "8/8 [==============================] - 105s - loss: 1.1773 - acc: 0.6474 - val_loss: 1.9260 - val_acc: 0.4945\n",
      "Epoch 4/8\n",
      "8/8 [==============================] - 103s - loss: 0.9539 - acc: 0.7243 - val_loss: 1.4450 - val_acc: 0.3481\n",
      "Epoch 5/8\n",
      "8/8 [==============================] - 105s - loss: 0.8512 - acc: 0.7231 - val_loss: 1.4020 - val_acc: 0.3453\n",
      "Epoch 6/8\n",
      "8/8 [==============================] - 99s - loss: 0.7680 - acc: 0.7849 - val_loss: 1.2029 - val_acc: 0.4972\n",
      "Epoch 7/8\n",
      "8/8 [==============================] - 106s - loss: 0.6383 - acc: 0.8381 - val_loss: 1.0983 - val_acc: 0.4972\n",
      "Epoch 8/8\n",
      "8/8 [==============================] - 116s - loss: 0.5127 - acc: 0.8862 - val_loss: 1.1036 - val_acc: 0.5083\n",
      "Found 362 images belonging to 3 classes.\n",
      "Found 473 images belonging to 3 classes.\n",
      "\n",
      "Channel Shift Range : 15\n",
      "Epoch 1/8\n",
      "8/8 [==============================] - 197s - loss: 3.4770 - acc: 0.3634 - val_loss: 6.8435 - val_acc: 0.3757\n",
      "Epoch 2/8\n",
      "8/8 [==============================] - 132s - loss: 1.4241 - acc: 0.5787 - val_loss: 11.9140 - val_acc: 0.1685\n",
      "Epoch 3/8\n",
      "8/8 [==============================] - 106s - loss: 1.1163 - acc: 0.6669 - val_loss: 6.1660 - val_acc: 0.1740\n",
      "Epoch 4/8\n",
      "8/8 [==============================] - 104s - loss: 1.0021 - acc: 0.7443 - val_loss: 3.3886 - val_acc: 0.4779\n",
      "Epoch 5/8\n",
      "8/8 [==============================] - 104s - loss: 0.8682 - acc: 0.7669 - val_loss: 1.7877 - val_acc: 0.3757\n",
      "Epoch 6/8\n",
      "8/8 [==============================] - 99s - loss: 0.7685 - acc: 0.7992 - val_loss: 1.7574 - val_acc: 0.2459\n",
      "Epoch 7/8\n",
      "8/8 [==============================] - 107s - loss: 0.6339 - acc: 0.8485 - val_loss: 1.3823 - val_acc: 0.3011\n",
      "Epoch 8/8\n",
      "8/8 [==============================] - 132s - loss: 0.4774 - acc: 0.8835 - val_loss: 1.1499 - val_acc: 0.4282\n",
      "Found 362 images belonging to 3 classes.\n",
      "Found 473 images belonging to 3 classes.\n",
      "\n",
      "Channel Shift Range : 20\n",
      "Epoch 1/8\n",
      "8/8 [==============================] - 197s - loss: 4.3690 - acc: 0.4299 - val_loss: 13.4021 - val_acc: 0.1685\n",
      "Epoch 2/8\n",
      "8/8 [==============================] - 122s - loss: 1.6099 - acc: 0.5381 - val_loss: 5.1726 - val_acc: 0.3591\n",
      "Epoch 3/8\n",
      "8/8 [==============================] - 105s - loss: 1.2465 - acc: 0.5664 - val_loss: 3.3253 - val_acc: 0.5028\n",
      "Epoch 4/8\n",
      "8/8 [==============================] - 113s - loss: 1.1347 - acc: 0.5982 - val_loss: 3.5299 - val_acc: 0.5000\n",
      "Epoch 5/8\n",
      "8/8 [==============================] - 103s - loss: 1.0177 - acc: 0.6543 - val_loss: 2.5947 - val_acc: 0.4309\n",
      "Epoch 6/8\n",
      "8/8 [==============================] - 100s - loss: 0.9160 - acc: 0.7167 - val_loss: 2.2458 - val_acc: 0.4365\n",
      "Epoch 7/8\n",
      "8/8 [==============================] - 117s - loss: 0.8068 - acc: 0.7682 - val_loss: 1.5881 - val_acc: 0.4337\n",
      "Epoch 8/8\n",
      "8/8 [==============================] - 107s - loss: 0.6915 - acc: 0.8132 - val_loss: 1.3295 - val_acc: 0.3923\n"
     ]
    },
    {
     "data": {
      "image/png": "[encoded data removed]",
      "text/plain": [
       "<matplotlib.figure.Figure at 0x7efdcac7f350>"
      ]
     },
     "metadata": {},
     "output_type": "display_data"
    }
   ],
   "source": [
    "# CHANNEL SHIFTS\n",
    "channel_shift_ranges = [5,10,15,20]\n",
    "epochs=8\n",
    "verbose=1\n",
    "\n",
    "train_acc = {}\n",
    "val_acc = {}\n",
    "\n",
    "for channel_shift_range in channel_shift_ranges:\n",
    "    test_datagen = ImageDataGenerator()#,\n",
    "    validation_generator = test_datagen.flow_from_directory(\n",
    "        validation_data_dir,\n",
    "        classes = ['Type_1', 'Type_2', 'Type_3'],\n",
    "        target_size=(img_width, img_height),\n",
    "        batch_size=batch_size,\n",
    "        color_mode='rgb',\n",
    "        class_mode='categorical')\n",
    "    model = Sequential([\n",
    "        BatchNormalization(axis=1, input_shape=(224,224,3)),\n",
    "        Conv2D(32,(3,3), activation='relu'),\n",
    "        BatchNormalization(axis=1),\n",
    "        MaxPooling2D((3,3)),\n",
    "        Conv2D(64,(3,3), activation='relu'),\n",
    "        BatchNormalization(axis=1),\n",
    "        MaxPooling2D((3,3)),\n",
    "        Flatten(),\n",
    "        Dense(200, activation='relu'),\n",
    "        BatchNormalization(),\n",
    "        Dense(3, activation='softmax')\n",
    "        ])\n",
    "    model.compile(optimizers.Adam(), loss='categorical_crossentropy', metrics=['accuracy'])\n",
    "    train_datagen = ImageDataGenerator(channel_shift_range=channel_shift_range)\n",
    "    train_generator = train_datagen.flow_from_directory(\n",
    "        train_data_dir,\n",
    "        classes = ['Type_1', 'Type_2', 'Type_3'],\n",
    "        target_size=(img_width, img_height),\n",
    "        batch_size=batch_size,\n",
    "        color_mode='rgb',\n",
    "        class_mode='categorical')\n",
    "    print('\\nChannel Shift Range :',channel_shift_range)\n",
    "    h = model.fit_generator(\n",
    "        train_generator,\n",
    "        steps_per_epoch=train_steps,\n",
    "        epochs=epochs,\n",
    "        validation_data=validation_generator,\n",
    "        validation_steps=validation_steps, \n",
    "        class_weight = class_weight_dict,\n",
    "        #callbacks=callbacks_list,\n",
    "        verbose=verbose)\n",
    "    train_acc[channel_shift_range] = h.history[h.params['metrics'][1]]\n",
    "    val_acc[channel_shift_range] = h.history[h.params['metrics'][3]]\n",
    "\n",
    "# Graphs\n",
    "epochs = h.epoch\n",
    "for channel_shift_range in channel_shift_ranges:\n",
    "    plt.plot(epochs, train_acc[channel_shift_range], label = str(channel_shift_range))\n",
    "    plt.plot(epochs, val_acc[channel_shift_range], marker='o', linestyle='--',label= str(channel_shift_range))\n",
    "plt.xlabel('Epoch')\n",
    "plt.ylabel('Metrics')\n",
    "plt.ylim([0,1.1])\n",
    "plt.title('Channel Shift Range :')\n",
    "plt.legend(loc='center left')\n",
    "plt.show;"
   ]
  },
  {
   "cell_type": "code",
   "execution_count": 17,
   "metadata": {
    "collapsed": false
   },
   "outputs": [
    {
     "name": "stdout",
     "output_type": "stream",
     "text": [
      "Found 362 images belonging to 3 classes.\n",
      "Found 473 images belonging to 3 classes.\n",
      "\n",
      "Channel Shift Range : 5\n",
      "Epoch 1/15\n",
      "8/8 [==============================] - 192s - loss: 3.3957 - acc: 0.3580 - val_loss: 4.4973 - val_acc: 0.2293\n",
      "Epoch 2/15\n",
      "8/8 [==============================] - 107s - loss: 1.3519 - acc: 0.5580 - val_loss: 2.7463 - val_acc: 0.1740\n",
      "Epoch 3/15\n",
      "8/8 [==============================] - 109s - loss: 1.1456 - acc: 0.6312 - val_loss: 1.8804 - val_acc: 0.1575\n",
      "Epoch 4/15\n",
      "8/8 [==============================] - 128s - loss: 1.0134 - acc: 0.6834 - val_loss: 1.7882 - val_acc: 0.1906\n",
      "Epoch 5/15\n",
      "8/8 [==============================] - 109s - loss: 0.8759 - acc: 0.7586 - val_loss: 2.3375 - val_acc: 0.2956\n",
      "Epoch 6/15\n",
      "8/8 [==============================] - 100s - loss: 0.7673 - acc: 0.8009 - val_loss: 1.6009 - val_acc: 0.4282\n",
      "Epoch 7/15\n",
      "8/8 [==============================] - 110s - loss: 0.6001 - acc: 0.8421 - val_loss: 1.2878 - val_acc: 0.4945\n",
      "Epoch 8/15\n",
      "8/8 [==============================] - 103s - loss: 0.4939 - acc: 0.8788 - val_loss: 1.3093 - val_acc: 0.5249\n",
      "Epoch 9/15\n",
      "8/8 [==============================] - 107s - loss: 0.3751 - acc: 0.9111 - val_loss: 1.3418 - val_acc: 0.5249\n",
      "Epoch 10/15\n",
      "8/8 [==============================] - 108s - loss: 0.2694 - acc: 0.9473 - val_loss: 1.0631 - val_acc: 0.5331\n",
      "Epoch 11/15\n",
      "8/8 [==============================] - 110s - loss: 0.1937 - acc: 0.9803 - val_loss: 1.0609 - val_acc: 0.5470\n",
      "Epoch 12/15\n",
      "8/8 [==============================] - 101s - loss: 0.1510 - acc: 0.9933 - val_loss: 1.1573 - val_acc: 0.5304\n",
      "Epoch 13/15\n",
      "8/8 [==============================] - 104s - loss: 0.1179 - acc: 0.9823 - val_loss: 1.1353 - val_acc: 0.5110\n",
      "Epoch 14/15\n",
      "8/8 [==============================] - 110s - loss: 0.0769 - acc: 0.9980 - val_loss: 1.1662 - val_acc: 0.5110\n",
      "Epoch 15/15\n",
      "8/8 [==============================] - 109s - loss: 0.0524 - acc: 0.9980 - val_loss: 1.0895 - val_acc: 0.5221\n"
     ]
    },
    {
     "data": {
      "image/png": "[encoded data removed]",
      "text/plain": [
       "<matplotlib.figure.Figure at 0x7efdcd5f3310>"
      ]
     },
     "metadata": {},
     "output_type": "display_data"
    }
   ],
   "source": [
    "# TRY and learn with best learning channel shift\n",
    "channel_shift_ranges = [5]\n",
    "epochs=15\n",
    "verbose=1\n",
    "\n",
    "train_acc = {}\n",
    "val_acc = {}\n",
    "\n",
    "for channel_shift_range in channel_shift_ranges:\n",
    "    test_datagen = ImageDataGenerator()#,\n",
    "    validation_generator = test_datagen.flow_from_directory(\n",
    "        validation_data_dir,\n",
    "        classes = ['Type_1', 'Type_2', 'Type_3'],\n",
    "        target_size=(img_width, img_height),\n",
    "        batch_size=batch_size,\n",
    "        color_mode='rgb',\n",
    "        class_mode='categorical')\n",
    "    model = Sequential([\n",
    "        BatchNormalization(axis=1, input_shape=(224,224,3)),\n",
    "        Conv2D(32,(3,3), activation='relu'),\n",
    "        BatchNormalization(axis=1),\n",
    "        MaxPooling2D((3,3)),\n",
    "        Conv2D(64,(3,3), activation='relu'),\n",
    "        BatchNormalization(axis=1),\n",
    "        MaxPooling2D((3,3)),\n",
    "        Flatten(),\n",
    "        Dense(200, activation='relu'),\n",
    "        BatchNormalization(),\n",
    "        Dense(3, activation='softmax')\n",
    "        ])\n",
    "    model.compile(optimizers.Adam(), loss='categorical_crossentropy', metrics=['accuracy'])\n",
    "    train_datagen = ImageDataGenerator(channel_shift_range=channel_shift_range)\n",
    "    train_generator = train_datagen.flow_from_directory(\n",
    "        train_data_dir,\n",
    "        classes = ['Type_1', 'Type_2', 'Type_3'],\n",
    "        target_size=(img_width, img_height),\n",
    "        batch_size=batch_size,\n",
    "        color_mode='rgb',\n",
    "        class_mode='categorical')\n",
    "    print('\\nChannel Shift Range :',channel_shift_range)\n",
    "    h = model.fit_generator(\n",
    "        train_generator,\n",
    "        steps_per_epoch=train_steps,\n",
    "        epochs=epochs,\n",
    "        validation_data=validation_generator,\n",
    "        validation_steps=validation_steps, \n",
    "        class_weight = class_weight_dict,\n",
    "        #callbacks=callbacks_list,\n",
    "        verbose=verbose)\n",
    "    train_acc[channel_shift_range] = h.history[h.params['metrics'][1]]\n",
    "    val_acc[channel_shift_range] = h.history[h.params['metrics'][3]]\n",
    "\n",
    "# Graphs\n",
    "epochs = h.epoch\n",
    "for channel_shift_range in channel_shift_ranges:\n",
    "    plt.plot(epochs, train_acc[channel_shift_range], label = str(channel_shift_range))\n",
    "    plt.plot(epochs, val_acc[channel_shift_range], marker='o', linestyle='--',label= str(channel_shift_range))\n",
    "plt.xlabel('Epoch')\n",
    "plt.ylabel('Metrics')\n",
    "plt.ylim([0,1.1])\n",
    "plt.title('Channel Shift Range :')\n",
    "plt.legend(loc='center left')\n",
    "plt.show;"
   ]
  },
  {
   "cell_type": "code",
   "execution_count": 25,
   "metadata": {
    "collapsed": false
   },
   "outputs": [
    {
     "name": "stdout",
     "output_type": "stream",
     "text": [
      "Found 362 images belonging to 3 classes.\n",
      "Found 473 images belonging to 3 classes.\n",
      "Epoch 1/15\n",
      "8/8 [==============================] - 201s - loss: 2.4338 - acc: 0.3508 - val_loss: 1.6433 - val_acc: 0.2017\n",
      "Epoch 2/15\n",
      "8/8 [==============================] - 104s - loss: 1.9386 - acc: 0.3915 - val_loss: 1.4352 - val_acc: 0.2155\n",
      "Epoch 3/15\n",
      "8/8 [==============================] - 111s - loss: 1.6352 - acc: 0.4898 - val_loss: 1.3954 - val_acc: 0.2569\n",
      "Epoch 4/15\n",
      "8/8 [==============================] - 105s - loss: 1.5004 - acc: 0.5174 - val_loss: 1.3111 - val_acc: 0.2652\n",
      "Epoch 5/15\n",
      "8/8 [==============================] - 103s - loss: 1.4400 - acc: 0.5319 - val_loss: 1.2595 - val_acc: 0.2735\n",
      "Epoch 6/15\n",
      "8/8 [==============================] - 98s - loss: 1.3836 - acc: 0.5568 - val_loss: 1.2047 - val_acc: 0.3453\n",
      "Epoch 7/15\n",
      "8/8 [==============================] - 140s - loss: 1.3004 - acc: 0.6135 - val_loss: 1.1115 - val_acc: 0.3895\n",
      "Epoch 8/15\n",
      "8/8 [==============================] - 146s - loss: 1.1253 - acc: 0.6381 - val_loss: 1.0450 - val_acc: 0.4641\n",
      "Epoch 9/15\n",
      "8/8 [==============================] - 109s - loss: 1.1204 - acc: 0.6085 - val_loss: 1.0486 - val_acc: 0.4309\n",
      "Epoch 10/15\n",
      "8/8 [==============================] - 104s - loss: 1.1581 - acc: 0.6287 - val_loss: 1.0498 - val_acc: 0.4613\n",
      "Epoch 11/15\n",
      "8/8 [==============================] - 110s - loss: 1.0460 - acc: 0.6627 - val_loss: 1.0521 - val_acc: 0.4420\n",
      "Epoch 12/15\n",
      "8/8 [==============================] - 104s - loss: 0.9800 - acc: 0.7012 - val_loss: 1.0558 - val_acc: 0.4365\n",
      "Epoch 13/15\n",
      "8/8 [==============================] - 104s - loss: 0.9094 - acc: 0.7268 - val_loss: 1.0379 - val_acc: 0.4669\n",
      "Epoch 14/15\n",
      "8/8 [==============================] - 103s - loss: 0.9245 - acc: 0.7246 - val_loss: 1.0383 - val_acc: 0.4309\n",
      "Epoch 15/15\n",
      "8/8 [==============================] - 112s - loss: 0.8593 - acc: 0.7292 - val_loss: 1.0608 - val_acc: 0.4365\n"
     ]
    },
    {
     "data": {
      "image/png": "[encoded data removed]",
      "text/plain": [
       "<matplotlib.figure.Figure at 0x7efdcac5ec10>"
      ]
     },
     "metadata": {},
     "output_type": "display_data"
    }
   ],
   "source": [
    "# HORIZONTAL & VERTICAL FLIPFLIP\n",
    "epochs=15\n",
    "verbose=1\n",
    "\n",
    "train_acc = {}\n",
    "val_acc = {}\n",
    "\n",
    "test_datagen = ImageDataGenerator()#,\n",
    "validation_generator = test_datagen.flow_from_directory(\n",
    "    validation_data_dir,\n",
    "    classes = ['Type_1', 'Type_2', 'Type_3'],\n",
    "    target_size=(img_width, img_height),\n",
    "    batch_size=batch_size,\n",
    "    color_mode='rgb',\n",
    "    class_mode='categorical')\n",
    "model = Sequential([\n",
    "    BatchNormalization(axis=1, input_shape=(224,224,3)),\n",
    "    Conv2D(32,(3,3), activation='relu'),\n",
    "    BatchNormalization(axis=1),\n",
    "    MaxPooling2D((3,3)),\n",
    "    Conv2D(64,(3,3), activation='relu'),\n",
    "    BatchNormalization(axis=1),\n",
    "    MaxPooling2D((3,3)),\n",
    "    Flatten(),\n",
    "    Dense(200, activation='relu'),\n",
    "    BatchNormalization(),\n",
    "    Dense(3, activation='softmax')\n",
    "    ])\n",
    "\n",
    "model.compile(optimizers.Adam(0.00001), loss='categorical_crossentropy', metrics=['accuracy'])\n",
    "train_datagen = ImageDataGenerator(horizontal_flip=True,\n",
    "                                  vertical_flip=True)\n",
    "\n",
    "train_generator = train_datagen.flow_from_directory(\n",
    "    train_data_dir,\n",
    "    classes = ['Type_1', 'Type_2', 'Type_3'],\n",
    "    target_size=(img_width, img_height),\n",
    "    batch_size=batch_size,\n",
    "    color_mode='rgb',\n",
    "    class_mode='categorical')\n",
    "\n",
    "h = model.fit_generator(\n",
    "    train_generator,\n",
    "    steps_per_epoch=train_steps,\n",
    "    epochs=epochs,\n",
    "    validation_data=validation_generator,\n",
    "    validation_steps=validation_steps, \n",
    "    class_weight = class_weight_dict,\n",
    "    #callbacks=callbacks_list,\n",
    "    verbose=verbose)\n",
    "\n",
    "# Graphs\n",
    "epochs = h.epoch\n",
    "plt.plot(epochs, h.history[h.params['metrics'][1]], label = 'acc')\n",
    "plt.plot(epochs, h.history[h.params['metrics'][3]], marker='o', linestyle='--',label= 'val_acc')\n",
    "plt.xlabel('Epoch')\n",
    "plt.ylabel('Metrics')\n",
    "plt.ylim([0,1.1])\n",
    "plt.title('H Flip')\n",
    "plt.legend(loc='center left')\n",
    "plt.show;"
   ]
  },
  {
   "cell_type": "code",
   "execution_count": 26,
   "metadata": {
    "collapsed": false
   },
   "outputs": [
    {
     "name": "stdout",
     "output_type": "stream",
     "text": [
      "Epoch 1/5\n",
      "8/8 [==============================] - 203s - loss: 0.8124 - acc: 0.7477 - val_loss: 1.0741 - val_acc: 0.4033\n",
      "Epoch 2/5\n",
      "8/8 [==============================] - 118s - loss: 0.7823 - acc: 0.7731 - val_loss: 1.0646 - val_acc: 0.4392\n",
      "Epoch 3/5\n",
      "8/8 [==============================] - 102s - loss: 0.8037 - acc: 0.7352 - val_loss: 1.0789 - val_acc: 0.4365\n",
      "Epoch 4/5\n",
      "8/8 [==============================] - 106s - loss: 0.7226 - acc: 0.8071 - val_loss: 1.0665 - val_acc: 0.4448\n",
      "Epoch 5/5\n",
      "8/8 [==============================] - 105s - loss: 0.7985 - acc: 0.7625 - val_loss: 1.0857 - val_acc: 0.4144\n"
     ]
    }
   ],
   "source": [
    "model.optimizer.lr=0.0001 # Default 0.001\n",
    "h = model.fit_generator(\n",
    "    train_generator,\n",
    "    steps_per_epoch=train_steps,\n",
    "    epochs=5,\n",
    "    validation_data=validation_generator,\n",
    "    validation_steps=validation_steps, \n",
    "    class_weight = class_weight_dict,\n",
    "    #callbacks=callbacks_list,\n",
    "    verbose=verbose)"
   ]
  },
  {
   "cell_type": "code",
   "execution_count": null,
   "metadata": {
    "collapsed": false
   },
   "outputs": [
    {
     "name": "stdout",
     "output_type": "stream",
     "text": [
      "Found 362 images belonging to 3 classes.\n",
      "Found 473 images belonging to 3 classes.\n",
      "Epoch 1/15\n",
      "8/8 [==============================] - 192s - loss: 4.5058 - acc: 0.3966 - val_loss: 6.6693 - val_acc: 0.5083\n",
      "Epoch 2/15\n",
      "8/8 [==============================] - 110s - loss: 1.7973 - acc: 0.4935 - val_loss: 9.9881 - val_acc: 0.1713\n",
      "Epoch 3/15\n",
      "8/8 [==============================] - 110s - loss: 1.4141 - acc: 0.5248 - val_loss: 7.6798 - val_acc: 0.1519\n",
      "Epoch 4/15\n",
      "8/8 [==============================] - 109s - loss: 1.2255 - acc: 0.6088 - val_loss: 3.0061 - val_acc: 0.2403\n",
      "Epoch 5/15\n",
      "8/8 [==============================] - 103s - loss: 1.2441 - acc: 0.6016 - val_loss: 2.1460 - val_acc: 0.3508\n",
      "Epoch 6/15\n",
      "8/8 [==============================] - 109s - loss: 1.0912 - acc: 0.6834 - val_loss: 2.2126 - val_acc: 0.1878\n",
      "Epoch 7/15\n",
      "8/8 [==============================] - 103s - loss: 1.0483 - acc: 0.6704 - val_loss: 1.9710 - val_acc: 0.1657\n",
      "Epoch 8/15\n",
      "8/8 [==============================] - 110s - loss: 1.0058 - acc: 0.7140 - val_loss: 1.6247 - val_acc: 0.2459\n",
      "Epoch 9/15\n",
      "8/8 [==============================] - 102s - loss: 0.8837 - acc: 0.7645 - val_loss: 1.4179 - val_acc: 0.2265\n",
      "Epoch 10/15\n",
      "7/8 [=========================>....] - ETA: 1s - loss: 0.8386 - acc: 0.7746"
     ]
    }
   ],
   "source": [
    "# HORIZONTAL & VERTICAL FLIP\n",
    "epochs=15\n",
    "verbose=1\n",
    "\n",
    "train_acc = {}\n",
    "val_acc = {}\n",
    "\n",
    "test_datagen = ImageDataGenerator()#,\n",
    "validation_generator = test_datagen.flow_from_directory(\n",
    "    validation_data_dir,\n",
    "    classes = ['Type_1', 'Type_2', 'Type_3'],\n",
    "    target_size=(img_width, img_height),\n",
    "    batch_size=batch_size,\n",
    "    color_mode='rgb',\n",
    "    class_mode='categorical')\n",
    "model = Sequential([\n",
    "    BatchNormalization(axis=1, input_shape=(224,224,3)),\n",
    "    Conv2D(32,(3,3), activation='relu'),\n",
    "    BatchNormalization(axis=1),\n",
    "    MaxPooling2D((3,3)),\n",
    "    Conv2D(64,(3,3), activation='relu'),\n",
    "    BatchNormalization(axis=1),\n",
    "    MaxPooling2D((3,3)),\n",
    "    Flatten(),\n",
    "    Dense(200, activation='relu'),\n",
    "    BatchNormalization(),\n",
    "    Dense(3, activation='softmax')\n",
    "    ])\n",
    "\n",
    "model.compile(optimizers.Adam(), loss='categorical_crossentropy', metrics=['accuracy'])\n",
    "train_datagen = ImageDataGenerator(horizontal_flip=True,\n",
    "                                  vertical_flip=True)\n",
    "\n",
    "train_generator = train_datagen.flow_from_directory(\n",
    "    train_data_dir,\n",
    "    classes = ['Type_1', 'Type_2', 'Type_3'],\n",
    "    target_size=(img_width, img_height),\n",
    "    batch_size=batch_size,\n",
    "    color_mode='rgb',\n",
    "    class_mode='categorical')\n",
    "\n",
    "h = model.fit_generator(\n",
    "    train_generator,\n",
    "    steps_per_epoch=train_steps,\n",
    "    epochs=epochs,\n",
    "    validation_data=validation_generator,\n",
    "    validation_steps=validation_steps, \n",
    "    class_weight = class_weight_dict,\n",
    "    #callbacks=callbacks_list,\n",
    "    verbose=verbose)\n",
    "\n",
    "# Graphs\n",
    "epochs = h.epoch\n",
    "plt.plot(epochs, h.history[h.params['metrics'][1]], label = 'acc')\n",
    "plt.plot(epochs, h.history[h.params['metrics'][3]], marker='o', linestyle='--',label= 'val_acc')\n",
    "plt.xlabel('Epoch')\n",
    "plt.ylabel('Metrics')\n",
    "plt.ylim([0,1.1])\n",
    "plt.title('H Flip')\n",
    "plt.legend(loc='center left')\n",
    "plt.show;"
   ]
  },
  {
   "cell_type": "code",
   "execution_count": 20,
   "metadata": {
    "collapsed": false
   },
   "outputs": [
    {
     "name": "stdout",
     "output_type": "stream",
     "text": [
      "Found 362 images belonging to 3 classes.\n",
      "Found 473 images belonging to 3 classes.\n",
      "\n",
      "Width Shift Range : 0.025\n",
      "Epoch 1/8\n",
      "8/8 [==============================] - 194s - loss: 2.2623 - acc: 0.3673 - val_loss: 2.4605 - val_acc: 0.1878\n",
      "Epoch 2/8\n",
      "8/8 [==============================] - 117s - loss: 1.4880 - acc: 0.5216 - val_loss: 1.9233 - val_acc: 0.1547\n",
      "Epoch 3/8\n",
      "8/8 [==============================] - 108s - loss: 1.1577 - acc: 0.6189 - val_loss: 1.6093 - val_acc: 0.1713\n",
      "Epoch 4/8\n",
      "8/8 [==============================] - 116s - loss: 0.9687 - acc: 0.6965 - val_loss: 1.4265 - val_acc: 0.2099\n",
      "Epoch 5/8\n",
      "8/8 [==============================] - 103s - loss: 0.7760 - acc: 0.7689 - val_loss: 1.2826 - val_acc: 0.2956\n",
      "Epoch 6/8\n",
      "8/8 [==============================] - 105s - loss: 0.6892 - acc: 0.8017 - val_loss: 1.1586 - val_acc: 0.3122\n",
      "Epoch 7/8\n",
      "8/8 [==============================] - 111s - loss: 0.5970 - acc: 0.8495 - val_loss: 1.1366 - val_acc: 0.3508\n",
      "Epoch 8/8\n",
      "8/8 [==============================] - 113s - loss: 0.5024 - acc: 0.8906 - val_loss: 1.1155 - val_acc: 0.3619\n",
      "Found 362 images belonging to 3 classes.\n",
      "Found 473 images belonging to 3 classes.\n",
      "\n",
      "Width Shift Range : 0.05\n",
      "Epoch 1/8\n",
      "8/8 [==============================] - 194s - loss: 2.3803 - acc: 0.3365 - val_loss: 2.5438 - val_acc: 0.1878\n",
      "Epoch 2/8\n",
      "8/8 [==============================] - 112s - loss: 1.6520 - acc: 0.5211 - val_loss: 2.1346 - val_acc: 0.2182\n",
      "Epoch 3/8\n",
      "8/8 [==============================] - 108s - loss: 1.2916 - acc: 0.5878 - val_loss: 1.7629 - val_acc: 0.2541\n",
      "Epoch 4/8\n",
      "8/8 [==============================] - 109s - loss: 1.1384 - acc: 0.6070 - val_loss: 1.4978 - val_acc: 0.3757\n",
      "Epoch 5/8\n",
      "8/8 [==============================] - 121s - loss: 0.9901 - acc: 0.6746 - val_loss: 1.3144 - val_acc: 0.3508\n",
      "Epoch 6/8\n",
      "8/8 [==============================] - 99s - loss: 0.8657 - acc: 0.7155 - val_loss: 1.2369 - val_acc: 0.3564\n",
      "Epoch 7/8\n",
      "8/8 [==============================] - 117s - loss: 0.7944 - acc: 0.7344 - val_loss: 1.1933 - val_acc: 0.3702\n",
      "Epoch 8/8\n",
      "8/8 [==============================] - 112s - loss: 0.6806 - acc: 0.7655 - val_loss: 1.1685 - val_acc: 0.3867\n",
      "Found 362 images belonging to 3 classes.\n",
      "Found 473 images belonging to 3 classes.\n",
      "\n",
      "Width Shift Range : 0.075\n",
      "Epoch 1/8\n",
      "8/8 [==============================] - 203s - loss: 2.3426 - acc: 0.3434 - val_loss: 1.7714 - val_acc: 0.4254\n",
      "Epoch 2/8\n",
      "8/8 [==============================] - 109s - loss: 1.6043 - acc: 0.4967 - val_loss: 1.4782 - val_acc: 0.3508\n",
      "Epoch 3/8\n",
      "8/8 [==============================] - 106s - loss: 1.1991 - acc: 0.6038 - val_loss: 1.4494 - val_acc: 0.3370\n",
      "Epoch 4/8\n",
      "8/8 [==============================] - 105s - loss: 1.1493 - acc: 0.5950 - val_loss: 1.3077 - val_acc: 0.3702\n",
      "Epoch 5/8\n",
      "8/8 [==============================] - 110s - loss: 0.9664 - acc: 0.6662 - val_loss: 1.1545 - val_acc: 0.4061\n",
      "Epoch 6/8\n",
      "8/8 [==============================] - 99s - loss: 0.8891 - acc: 0.6980 - val_loss: 1.1440 - val_acc: 0.4282\n",
      "Epoch 7/8\n",
      "8/8 [==============================] - 110s - loss: 0.7980 - acc: 0.7480 - val_loss: 1.0892 - val_acc: 0.4530\n",
      "Epoch 8/8\n",
      "8/8 [==============================] - 107s - loss: 0.7605 - acc: 0.7462 - val_loss: 1.0938 - val_acc: 0.4227\n",
      "Found 362 images belonging to 3 classes.\n",
      "Found 473 images belonging to 3 classes.\n",
      "\n",
      "Width Shift Range : 0.1\n",
      "Epoch 1/8\n",
      "8/8 [==============================] - 193s - loss: 2.2567 - acc: 0.3437 - val_loss: 1.4297 - val_acc: 0.3812\n",
      "Epoch 2/8\n",
      "8/8 [==============================] - 118s - loss: 1.6371 - acc: 0.4750 - val_loss: 1.5247 - val_acc: 0.4088\n",
      "Epoch 3/8\n",
      "7/8 [=========================>....] - ETA: 1s - loss: 1.4964 - acc: 0.5290"
     ]
    },
    {
     "ename": "KeyboardInterrupt",
     "evalue": "",
     "output_type": "error",
     "traceback": [
      "\u001b[0;31m---------------------------------------------------------------------------\u001b[0m",
      "\u001b[0;31mKeyboardInterrupt\u001b[0m                         Traceback (most recent call last)",
      "\u001b[0;32m<ipython-input-20-6281c32391ca>\u001b[0m in \u001b[0;36m<module>\u001b[0;34m()\u001b[0m\n\u001b[1;32m     47\u001b[0m         \u001b[0mclass_weight\u001b[0m \u001b[0;34m=\u001b[0m \u001b[0mclass_weight_dict\u001b[0m\u001b[0;34m,\u001b[0m\u001b[0;34m\u001b[0m\u001b[0m\n\u001b[1;32m     48\u001b[0m         \u001b[0;31m#callbacks=callbacks_list,\u001b[0m\u001b[0;34m\u001b[0m\u001b[0;34m\u001b[0m\u001b[0m\n\u001b[0;32m---> 49\u001b[0;31m         verbose=verbose)\n\u001b[0m\u001b[1;32m     50\u001b[0m     \u001b[0mtrain_acc\u001b[0m\u001b[0;34m[\u001b[0m\u001b[0mwidth_shift_range\u001b[0m\u001b[0;34m]\u001b[0m \u001b[0;34m=\u001b[0m \u001b[0mh\u001b[0m\u001b[0;34m.\u001b[0m\u001b[0mhistory\u001b[0m\u001b[0;34m[\u001b[0m\u001b[0mh\u001b[0m\u001b[0;34m.\u001b[0m\u001b[0mparams\u001b[0m\u001b[0;34m[\u001b[0m\u001b[0;34m'metrics'\u001b[0m\u001b[0;34m]\u001b[0m\u001b[0;34m[\u001b[0m\u001b[0;36m1\u001b[0m\u001b[0;34m]\u001b[0m\u001b[0;34m]\u001b[0m\u001b[0;34m\u001b[0m\u001b[0m\n\u001b[1;32m     51\u001b[0m     \u001b[0mval_acc\u001b[0m\u001b[0;34m[\u001b[0m\u001b[0mwidth_shift_range\u001b[0m\u001b[0;34m]\u001b[0m \u001b[0;34m=\u001b[0m \u001b[0mh\u001b[0m\u001b[0;34m.\u001b[0m\u001b[0mhistory\u001b[0m\u001b[0;34m[\u001b[0m\u001b[0mh\u001b[0m\u001b[0;34m.\u001b[0m\u001b[0mparams\u001b[0m\u001b[0;34m[\u001b[0m\u001b[0;34m'metrics'\u001b[0m\u001b[0;34m]\u001b[0m\u001b[0;34m[\u001b[0m\u001b[0;36m3\u001b[0m\u001b[0;34m]\u001b[0m\u001b[0;34m]\u001b[0m\u001b[0;34m\u001b[0m\u001b[0m\n",
      "\u001b[0;32m/home/ubuntu/anaconda2/envs/ana_py27_p2/lib/python2.7/site-packages/keras/legacy/interfaces.pyc\u001b[0m in \u001b[0;36mwrapper\u001b[0;34m(*args, **kwargs)\u001b[0m\n\u001b[1;32m     86\u001b[0m                 warnings.warn('Update your `' + object_name +\n\u001b[1;32m     87\u001b[0m                               '` call to the Keras 2 API: ' + signature, stacklevel=2)\n\u001b[0;32m---> 88\u001b[0;31m             \u001b[0;32mreturn\u001b[0m \u001b[0mfunc\u001b[0m\u001b[0;34m(\u001b[0m\u001b[0;34m*\u001b[0m\u001b[0margs\u001b[0m\u001b[0;34m,\u001b[0m \u001b[0;34m**\u001b[0m\u001b[0mkwargs\u001b[0m\u001b[0;34m)\u001b[0m\u001b[0;34m\u001b[0m\u001b[0m\n\u001b[0m\u001b[1;32m     89\u001b[0m         \u001b[0mwrapper\u001b[0m\u001b[0;34m.\u001b[0m\u001b[0m_legacy_support_signature\u001b[0m \u001b[0;34m=\u001b[0m \u001b[0minspect\u001b[0m\u001b[0;34m.\u001b[0m\u001b[0mgetargspec\u001b[0m\u001b[0;34m(\u001b[0m\u001b[0mfunc\u001b[0m\u001b[0;34m)\u001b[0m\u001b[0;34m\u001b[0m\u001b[0m\n\u001b[1;32m     90\u001b[0m         \u001b[0;32mreturn\u001b[0m \u001b[0mwrapper\u001b[0m\u001b[0;34m\u001b[0m\u001b[0m\n",
      "\u001b[0;32m/home/ubuntu/anaconda2/envs/ana_py27_p2/lib/python2.7/site-packages/keras/models.pyc\u001b[0m in \u001b[0;36mfit_generator\u001b[0;34m(self, generator, steps_per_epoch, epochs, verbose, callbacks, validation_data, validation_steps, class_weight, max_q_size, workers, pickle_safe, initial_epoch)\u001b[0m\n\u001b[1;32m   1095\u001b[0m                                         \u001b[0mworkers\u001b[0m\u001b[0;34m=\u001b[0m\u001b[0mworkers\u001b[0m\u001b[0;34m,\u001b[0m\u001b[0;34m\u001b[0m\u001b[0m\n\u001b[1;32m   1096\u001b[0m                                         \u001b[0mpickle_safe\u001b[0m\u001b[0;34m=\u001b[0m\u001b[0mpickle_safe\u001b[0m\u001b[0;34m,\u001b[0m\u001b[0;34m\u001b[0m\u001b[0m\n\u001b[0;32m-> 1097\u001b[0;31m                                         initial_epoch=initial_epoch)\n\u001b[0m\u001b[1;32m   1098\u001b[0m \u001b[0;34m\u001b[0m\u001b[0m\n\u001b[1;32m   1099\u001b[0m     \u001b[0;34m@\u001b[0m\u001b[0minterfaces\u001b[0m\u001b[0;34m.\u001b[0m\u001b[0mlegacy_generator_methods_support\u001b[0m\u001b[0;34m\u001b[0m\u001b[0m\n",
      "\u001b[0;32m/home/ubuntu/anaconda2/envs/ana_py27_p2/lib/python2.7/site-packages/keras/legacy/interfaces.pyc\u001b[0m in \u001b[0;36mwrapper\u001b[0;34m(*args, **kwargs)\u001b[0m\n\u001b[1;32m     86\u001b[0m                 warnings.warn('Update your `' + object_name +\n\u001b[1;32m     87\u001b[0m                               '` call to the Keras 2 API: ' + signature, stacklevel=2)\n\u001b[0;32m---> 88\u001b[0;31m             \u001b[0;32mreturn\u001b[0m \u001b[0mfunc\u001b[0m\u001b[0;34m(\u001b[0m\u001b[0;34m*\u001b[0m\u001b[0margs\u001b[0m\u001b[0;34m,\u001b[0m \u001b[0;34m**\u001b[0m\u001b[0mkwargs\u001b[0m\u001b[0;34m)\u001b[0m\u001b[0;34m\u001b[0m\u001b[0m\n\u001b[0m\u001b[1;32m     89\u001b[0m         \u001b[0mwrapper\u001b[0m\u001b[0;34m.\u001b[0m\u001b[0m_legacy_support_signature\u001b[0m \u001b[0;34m=\u001b[0m \u001b[0minspect\u001b[0m\u001b[0;34m.\u001b[0m\u001b[0mgetargspec\u001b[0m\u001b[0;34m(\u001b[0m\u001b[0mfunc\u001b[0m\u001b[0;34m)\u001b[0m\u001b[0;34m\u001b[0m\u001b[0m\n\u001b[1;32m     90\u001b[0m         \u001b[0;32mreturn\u001b[0m \u001b[0mwrapper\u001b[0m\u001b[0;34m\u001b[0m\u001b[0m\n",
      "\u001b[0;32m/home/ubuntu/anaconda2/envs/ana_py27_p2/lib/python2.7/site-packages/keras/engine/training.pyc\u001b[0m in \u001b[0;36mfit_generator\u001b[0;34m(self, generator, steps_per_epoch, epochs, verbose, callbacks, validation_data, validation_steps, class_weight, max_q_size, workers, pickle_safe, initial_epoch)\u001b[0m\n\u001b[1;32m   1896\u001b[0m                                 \u001b[0mmax_q_size\u001b[0m\u001b[0;34m=\u001b[0m\u001b[0mmax_q_size\u001b[0m\u001b[0;34m,\u001b[0m\u001b[0;34m\u001b[0m\u001b[0m\n\u001b[1;32m   1897\u001b[0m                                 \u001b[0mworkers\u001b[0m\u001b[0;34m=\u001b[0m\u001b[0mworkers\u001b[0m\u001b[0;34m,\u001b[0m\u001b[0;34m\u001b[0m\u001b[0m\n\u001b[0;32m-> 1898\u001b[0;31m                                 pickle_safe=pickle_safe)\n\u001b[0m\u001b[1;32m   1899\u001b[0m                         \u001b[0;32melse\u001b[0m\u001b[0;34m:\u001b[0m\u001b[0;34m\u001b[0m\u001b[0m\n\u001b[1;32m   1900\u001b[0m                             \u001b[0;31m# No need for try/except because\u001b[0m\u001b[0;34m\u001b[0m\u001b[0;34m\u001b[0m\u001b[0m\n",
      "\u001b[0;32m/home/ubuntu/anaconda2/envs/ana_py27_p2/lib/python2.7/site-packages/keras/legacy/interfaces.pyc\u001b[0m in \u001b[0;36mwrapper\u001b[0;34m(*args, **kwargs)\u001b[0m\n\u001b[1;32m     86\u001b[0m                 warnings.warn('Update your `' + object_name +\n\u001b[1;32m     87\u001b[0m                               '` call to the Keras 2 API: ' + signature, stacklevel=2)\n\u001b[0;32m---> 88\u001b[0;31m             \u001b[0;32mreturn\u001b[0m \u001b[0mfunc\u001b[0m\u001b[0;34m(\u001b[0m\u001b[0;34m*\u001b[0m\u001b[0margs\u001b[0m\u001b[0;34m,\u001b[0m \u001b[0;34m**\u001b[0m\u001b[0mkwargs\u001b[0m\u001b[0;34m)\u001b[0m\u001b[0;34m\u001b[0m\u001b[0m\n\u001b[0m\u001b[1;32m     89\u001b[0m         \u001b[0mwrapper\u001b[0m\u001b[0;34m.\u001b[0m\u001b[0m_legacy_support_signature\u001b[0m \u001b[0;34m=\u001b[0m \u001b[0minspect\u001b[0m\u001b[0;34m.\u001b[0m\u001b[0mgetargspec\u001b[0m\u001b[0;34m(\u001b[0m\u001b[0mfunc\u001b[0m\u001b[0;34m)\u001b[0m\u001b[0;34m\u001b[0m\u001b[0m\n\u001b[1;32m     90\u001b[0m         \u001b[0;32mreturn\u001b[0m \u001b[0mwrapper\u001b[0m\u001b[0;34m\u001b[0m\u001b[0m\n",
      "\u001b[0;32m/home/ubuntu/anaconda2/envs/ana_py27_p2/lib/python2.7/site-packages/keras/engine/training.pyc\u001b[0m in \u001b[0;36mevaluate_generator\u001b[0;34m(self, generator, steps, max_q_size, workers, pickle_safe)\u001b[0m\n\u001b[1;32m   1976\u001b[0m                         \u001b[0;32mbreak\u001b[0m\u001b[0;34m\u001b[0m\u001b[0m\n\u001b[1;32m   1977\u001b[0m                     \u001b[0;32melse\u001b[0m\u001b[0;34m:\u001b[0m\u001b[0;34m\u001b[0m\u001b[0m\n\u001b[0;32m-> 1978\u001b[0;31m                         \u001b[0mtime\u001b[0m\u001b[0;34m.\u001b[0m\u001b[0msleep\u001b[0m\u001b[0;34m(\u001b[0m\u001b[0mwait_time\u001b[0m\u001b[0;34m)\u001b[0m\u001b[0;34m\u001b[0m\u001b[0m\n\u001b[0m\u001b[1;32m   1979\u001b[0m \u001b[0;34m\u001b[0m\u001b[0m\n\u001b[1;32m   1980\u001b[0m                 \u001b[0;32mif\u001b[0m \u001b[0;32mnot\u001b[0m \u001b[0mhasattr\u001b[0m\u001b[0;34m(\u001b[0m\u001b[0mgenerator_output\u001b[0m\u001b[0;34m,\u001b[0m \u001b[0;34m'__len__'\u001b[0m\u001b[0;34m)\u001b[0m\u001b[0;34m:\u001b[0m\u001b[0;34m\u001b[0m\u001b[0m\n",
      "\u001b[0;31mKeyboardInterrupt\u001b[0m: "
     ]
    }
   ],
   "source": [
    "# WIDTH SHIFTS\n",
    "width_shift_ranges = [0.025,0.05,0.075,0.1]\n",
    "epochs=8\n",
    "verbose=1\n",
    "\n",
    "train_acc = {}\n",
    "val_acc = {}\n",
    "\n",
    "for width_shift_range in width_shift_ranges:\n",
    "    test_datagen = ImageDataGenerator()#,\n",
    "    validation_generator = test_datagen.flow_from_directory(\n",
    "        validation_data_dir,\n",
    "        classes = ['Type_1', 'Type_2', 'Type_3'],\n",
    "        target_size=(img_width, img_height),\n",
    "        batch_size=batch_size,\n",
    "        color_mode='rgb',\n",
    "        class_mode='categorical')\n",
    "    model = Sequential([\n",
    "        BatchNormalization(axis=1, input_shape=(224,224,3)),\n",
    "        Conv2D(32,(3,3), activation='relu'),\n",
    "        BatchNormalization(axis=1),\n",
    "        MaxPooling2D((3,3)),\n",
    "        Conv2D(64,(3,3), activation='relu'),\n",
    "        BatchNormalization(axis=1),\n",
    "        MaxPooling2D((3,3)),\n",
    "        Flatten(),\n",
    "        Dense(200, activation='relu'),\n",
    "        BatchNormalization(),\n",
    "        Dense(3, activation='softmax')\n",
    "        ])\n",
    "    model.compile(optimizers.Adam(), loss='categorical_crossentropy', metrics=['accuracy'])\n",
    "    train_datagen = ImageDataGenerator(width_shift_range=width_shift_range)\n",
    "    train_generator = train_datagen.flow_from_directory(\n",
    "        train_data_dir,\n",
    "        classes = ['Type_1', 'Type_2', 'Type_3'],\n",
    "        target_size=(img_width, img_height),\n",
    "        batch_size=batch_size,\n",
    "        color_mode='rgb',\n",
    "        class_mode='categorical')\n",
    "    print('\\nWidth Shift Range :',width_shift_range)\n",
    "    h = model.fit_generator(\n",
    "        train_generator,\n",
    "        steps_per_epoch=train_steps,\n",
    "        epochs=epochs,\n",
    "        validation_data=validation_generator,\n",
    "        validation_steps=validation_steps, \n",
    "        class_weight = class_weight_dict,\n",
    "        #callbacks=callbacks_list,\n",
    "        verbose=verbose)\n",
    "    train_acc[width_shift_range] = h.history[h.params['metrics'][1]]\n",
    "    val_acc[width_shift_range] = h.history[h.params['metrics'][3]]\n",
    "\n",
    "# Graphs\n",
    "epochs = h.epoch\n",
    "for width_shift_range in width_shift_ranges:\n",
    "    plt.plot(epochs, train_acc[width_shift_range], label = str(width_shift_range))\n",
    "    plt.plot(epochs, val_acc[width_shift_range], marker='o', linestyle='--',label= str(width_shift_range))\n",
    "plt.xlabel('Epoch')\n",
    "plt.ylabel('Metrics')\n",
    "plt.ylim([0,1.1])\n",
    "plt.title('Width Shift Range :')\n",
    "plt.legend(loc='center left')\n",
    "plt.show;"
   ]
  },
  {
   "cell_type": "code",
   "execution_count": 21,
   "metadata": {
    "collapsed": false
   },
   "outputs": [
    {
     "name": "stdout",
     "output_type": "stream",
     "text": [
      "Found 362 images belonging to 3 classes.\n",
      "Found 473 images belonging to 3 classes.\n",
      "\n",
      "Height Shift Range : 0.025\n",
      "Epoch 1/8\n",
      "8/8 [==============================] - 192s - loss: 2.4090 - acc: 0.3370 - val_loss: 3.0389 - val_acc: 0.1740\n",
      "Epoch 2/8\n",
      "8/8 [==============================] - 112s - loss: 1.5428 - acc: 0.4846 - val_loss: 1.7357 - val_acc: 0.2265\n",
      "Epoch 3/8\n",
      "8/8 [==============================] - 136s - loss: 1.3175 - acc: 0.6041 - val_loss: 1.6672 - val_acc: 0.2182\n",
      "Epoch 4/8\n",
      "8/8 [==============================] - 123s - loss: 1.0338 - acc: 0.6699 - val_loss: 1.4702 - val_acc: 0.2762\n",
      "Epoch 5/8\n",
      "8/8 [==============================] - 113s - loss: 0.8912 - acc: 0.6768 - val_loss: 1.1850 - val_acc: 0.4503\n",
      "Epoch 6/8\n",
      "8/8 [==============================] - 99s - loss: 0.7934 - acc: 0.7499 - val_loss: 1.2155 - val_acc: 0.3591\n",
      "Epoch 7/8\n",
      "8/8 [==============================] - 123s - loss: 0.7272 - acc: 0.7911 - val_loss: 1.1597 - val_acc: 0.3425\n",
      "Epoch 8/8\n",
      "7/8 [=========================>....] - ETA: 1s - loss: 0.5859 - acc: 0.8415"
     ]
    },
    {
     "ename": "KeyboardInterrupt",
     "evalue": "",
     "output_type": "error",
     "traceback": [
      "\u001b[0;31m---------------------------------------------------------------------------\u001b[0m",
      "\u001b[0;31mKeyboardInterrupt\u001b[0m                         Traceback (most recent call last)",
      "\u001b[0;32m<ipython-input-21-6ad12c102884>\u001b[0m in \u001b[0;36m<module>\u001b[0;34m()\u001b[0m\n\u001b[1;32m     47\u001b[0m         \u001b[0mclass_weight\u001b[0m \u001b[0;34m=\u001b[0m \u001b[0mclass_weight_dict\u001b[0m\u001b[0;34m,\u001b[0m\u001b[0;34m\u001b[0m\u001b[0m\n\u001b[1;32m     48\u001b[0m         \u001b[0;31m#callbacks=callbacks_list,\u001b[0m\u001b[0;34m\u001b[0m\u001b[0;34m\u001b[0m\u001b[0m\n\u001b[0;32m---> 49\u001b[0;31m         verbose=verbose)\n\u001b[0m\u001b[1;32m     50\u001b[0m     \u001b[0mtrain_acc\u001b[0m\u001b[0;34m[\u001b[0m\u001b[0mheight_shift_range\u001b[0m\u001b[0;34m]\u001b[0m \u001b[0;34m=\u001b[0m \u001b[0mh\u001b[0m\u001b[0;34m.\u001b[0m\u001b[0mhistory\u001b[0m\u001b[0;34m[\u001b[0m\u001b[0mh\u001b[0m\u001b[0;34m.\u001b[0m\u001b[0mparams\u001b[0m\u001b[0;34m[\u001b[0m\u001b[0;34m'metrics'\u001b[0m\u001b[0;34m]\u001b[0m\u001b[0;34m[\u001b[0m\u001b[0;36m1\u001b[0m\u001b[0;34m]\u001b[0m\u001b[0;34m]\u001b[0m\u001b[0;34m\u001b[0m\u001b[0m\n\u001b[1;32m     51\u001b[0m     \u001b[0mval_acc\u001b[0m\u001b[0;34m[\u001b[0m\u001b[0mheight_shift_range\u001b[0m\u001b[0;34m]\u001b[0m \u001b[0;34m=\u001b[0m \u001b[0mh\u001b[0m\u001b[0;34m.\u001b[0m\u001b[0mhistory\u001b[0m\u001b[0;34m[\u001b[0m\u001b[0mh\u001b[0m\u001b[0;34m.\u001b[0m\u001b[0mparams\u001b[0m\u001b[0;34m[\u001b[0m\u001b[0;34m'metrics'\u001b[0m\u001b[0;34m]\u001b[0m\u001b[0;34m[\u001b[0m\u001b[0;36m3\u001b[0m\u001b[0;34m]\u001b[0m\u001b[0;34m]\u001b[0m\u001b[0;34m\u001b[0m\u001b[0m\n",
      "\u001b[0;32m/home/ubuntu/anaconda2/envs/ana_py27_p2/lib/python2.7/site-packages/keras/legacy/interfaces.pyc\u001b[0m in \u001b[0;36mwrapper\u001b[0;34m(*args, **kwargs)\u001b[0m\n\u001b[1;32m     86\u001b[0m                 warnings.warn('Update your `' + object_name +\n\u001b[1;32m     87\u001b[0m                               '` call to the Keras 2 API: ' + signature, stacklevel=2)\n\u001b[0;32m---> 88\u001b[0;31m             \u001b[0;32mreturn\u001b[0m \u001b[0mfunc\u001b[0m\u001b[0;34m(\u001b[0m\u001b[0;34m*\u001b[0m\u001b[0margs\u001b[0m\u001b[0;34m,\u001b[0m \u001b[0;34m**\u001b[0m\u001b[0mkwargs\u001b[0m\u001b[0;34m)\u001b[0m\u001b[0;34m\u001b[0m\u001b[0m\n\u001b[0m\u001b[1;32m     89\u001b[0m         \u001b[0mwrapper\u001b[0m\u001b[0;34m.\u001b[0m\u001b[0m_legacy_support_signature\u001b[0m \u001b[0;34m=\u001b[0m \u001b[0minspect\u001b[0m\u001b[0;34m.\u001b[0m\u001b[0mgetargspec\u001b[0m\u001b[0;34m(\u001b[0m\u001b[0mfunc\u001b[0m\u001b[0;34m)\u001b[0m\u001b[0;34m\u001b[0m\u001b[0m\n\u001b[1;32m     90\u001b[0m         \u001b[0;32mreturn\u001b[0m \u001b[0mwrapper\u001b[0m\u001b[0;34m\u001b[0m\u001b[0m\n",
      "\u001b[0;32m/home/ubuntu/anaconda2/envs/ana_py27_p2/lib/python2.7/site-packages/keras/models.pyc\u001b[0m in \u001b[0;36mfit_generator\u001b[0;34m(self, generator, steps_per_epoch, epochs, verbose, callbacks, validation_data, validation_steps, class_weight, max_q_size, workers, pickle_safe, initial_epoch)\u001b[0m\n\u001b[1;32m   1095\u001b[0m                                         \u001b[0mworkers\u001b[0m\u001b[0;34m=\u001b[0m\u001b[0mworkers\u001b[0m\u001b[0;34m,\u001b[0m\u001b[0;34m\u001b[0m\u001b[0m\n\u001b[1;32m   1096\u001b[0m                                         \u001b[0mpickle_safe\u001b[0m\u001b[0;34m=\u001b[0m\u001b[0mpickle_safe\u001b[0m\u001b[0;34m,\u001b[0m\u001b[0;34m\u001b[0m\u001b[0m\n\u001b[0;32m-> 1097\u001b[0;31m                                         initial_epoch=initial_epoch)\n\u001b[0m\u001b[1;32m   1098\u001b[0m \u001b[0;34m\u001b[0m\u001b[0m\n\u001b[1;32m   1099\u001b[0m     \u001b[0;34m@\u001b[0m\u001b[0minterfaces\u001b[0m\u001b[0;34m.\u001b[0m\u001b[0mlegacy_generator_methods_support\u001b[0m\u001b[0;34m\u001b[0m\u001b[0m\n",
      "\u001b[0;32m/home/ubuntu/anaconda2/envs/ana_py27_p2/lib/python2.7/site-packages/keras/legacy/interfaces.pyc\u001b[0m in \u001b[0;36mwrapper\u001b[0;34m(*args, **kwargs)\u001b[0m\n\u001b[1;32m     86\u001b[0m                 warnings.warn('Update your `' + object_name +\n\u001b[1;32m     87\u001b[0m                               '` call to the Keras 2 API: ' + signature, stacklevel=2)\n\u001b[0;32m---> 88\u001b[0;31m             \u001b[0;32mreturn\u001b[0m \u001b[0mfunc\u001b[0m\u001b[0;34m(\u001b[0m\u001b[0;34m*\u001b[0m\u001b[0margs\u001b[0m\u001b[0;34m,\u001b[0m \u001b[0;34m**\u001b[0m\u001b[0mkwargs\u001b[0m\u001b[0;34m)\u001b[0m\u001b[0;34m\u001b[0m\u001b[0m\n\u001b[0m\u001b[1;32m     89\u001b[0m         \u001b[0mwrapper\u001b[0m\u001b[0;34m.\u001b[0m\u001b[0m_legacy_support_signature\u001b[0m \u001b[0;34m=\u001b[0m \u001b[0minspect\u001b[0m\u001b[0;34m.\u001b[0m\u001b[0mgetargspec\u001b[0m\u001b[0;34m(\u001b[0m\u001b[0mfunc\u001b[0m\u001b[0;34m)\u001b[0m\u001b[0;34m\u001b[0m\u001b[0m\n\u001b[1;32m     90\u001b[0m         \u001b[0;32mreturn\u001b[0m \u001b[0mwrapper\u001b[0m\u001b[0;34m\u001b[0m\u001b[0m\n",
      "\u001b[0;32m/home/ubuntu/anaconda2/envs/ana_py27_p2/lib/python2.7/site-packages/keras/engine/training.pyc\u001b[0m in \u001b[0;36mfit_generator\u001b[0;34m(self, generator, steps_per_epoch, epochs, verbose, callbacks, validation_data, validation_steps, class_weight, max_q_size, workers, pickle_safe, initial_epoch)\u001b[0m\n\u001b[1;32m   1896\u001b[0m                                 \u001b[0mmax_q_size\u001b[0m\u001b[0;34m=\u001b[0m\u001b[0mmax_q_size\u001b[0m\u001b[0;34m,\u001b[0m\u001b[0;34m\u001b[0m\u001b[0m\n\u001b[1;32m   1897\u001b[0m                                 \u001b[0mworkers\u001b[0m\u001b[0;34m=\u001b[0m\u001b[0mworkers\u001b[0m\u001b[0;34m,\u001b[0m\u001b[0;34m\u001b[0m\u001b[0m\n\u001b[0;32m-> 1898\u001b[0;31m                                 pickle_safe=pickle_safe)\n\u001b[0m\u001b[1;32m   1899\u001b[0m                         \u001b[0;32melse\u001b[0m\u001b[0;34m:\u001b[0m\u001b[0;34m\u001b[0m\u001b[0m\n\u001b[1;32m   1900\u001b[0m                             \u001b[0;31m# No need for try/except because\u001b[0m\u001b[0;34m\u001b[0m\u001b[0;34m\u001b[0m\u001b[0m\n",
      "\u001b[0;32m/home/ubuntu/anaconda2/envs/ana_py27_p2/lib/python2.7/site-packages/keras/legacy/interfaces.pyc\u001b[0m in \u001b[0;36mwrapper\u001b[0;34m(*args, **kwargs)\u001b[0m\n\u001b[1;32m     86\u001b[0m                 warnings.warn('Update your `' + object_name +\n\u001b[1;32m     87\u001b[0m                               '` call to the Keras 2 API: ' + signature, stacklevel=2)\n\u001b[0;32m---> 88\u001b[0;31m             \u001b[0;32mreturn\u001b[0m \u001b[0mfunc\u001b[0m\u001b[0;34m(\u001b[0m\u001b[0;34m*\u001b[0m\u001b[0margs\u001b[0m\u001b[0;34m,\u001b[0m \u001b[0;34m**\u001b[0m\u001b[0mkwargs\u001b[0m\u001b[0;34m)\u001b[0m\u001b[0;34m\u001b[0m\u001b[0m\n\u001b[0m\u001b[1;32m     89\u001b[0m         \u001b[0mwrapper\u001b[0m\u001b[0;34m.\u001b[0m\u001b[0m_legacy_support_signature\u001b[0m \u001b[0;34m=\u001b[0m \u001b[0minspect\u001b[0m\u001b[0;34m.\u001b[0m\u001b[0mgetargspec\u001b[0m\u001b[0;34m(\u001b[0m\u001b[0mfunc\u001b[0m\u001b[0;34m)\u001b[0m\u001b[0;34m\u001b[0m\u001b[0m\n\u001b[1;32m     90\u001b[0m         \u001b[0;32mreturn\u001b[0m \u001b[0mwrapper\u001b[0m\u001b[0;34m\u001b[0m\u001b[0m\n",
      "\u001b[0;32m/home/ubuntu/anaconda2/envs/ana_py27_p2/lib/python2.7/site-packages/keras/engine/training.pyc\u001b[0m in \u001b[0;36mevaluate_generator\u001b[0;34m(self, generator, steps, max_q_size, workers, pickle_safe)\u001b[0m\n\u001b[1;32m   1976\u001b[0m                         \u001b[0;32mbreak\u001b[0m\u001b[0;34m\u001b[0m\u001b[0m\n\u001b[1;32m   1977\u001b[0m                     \u001b[0;32melse\u001b[0m\u001b[0;34m:\u001b[0m\u001b[0;34m\u001b[0m\u001b[0m\n\u001b[0;32m-> 1978\u001b[0;31m                         \u001b[0mtime\u001b[0m\u001b[0;34m.\u001b[0m\u001b[0msleep\u001b[0m\u001b[0;34m(\u001b[0m\u001b[0mwait_time\u001b[0m\u001b[0;34m)\u001b[0m\u001b[0;34m\u001b[0m\u001b[0m\n\u001b[0m\u001b[1;32m   1979\u001b[0m \u001b[0;34m\u001b[0m\u001b[0m\n\u001b[1;32m   1980\u001b[0m                 \u001b[0;32mif\u001b[0m \u001b[0;32mnot\u001b[0m \u001b[0mhasattr\u001b[0m\u001b[0;34m(\u001b[0m\u001b[0mgenerator_output\u001b[0m\u001b[0;34m,\u001b[0m \u001b[0;34m'__len__'\u001b[0m\u001b[0;34m)\u001b[0m\u001b[0;34m:\u001b[0m\u001b[0;34m\u001b[0m\u001b[0m\n",
      "\u001b[0;31mKeyboardInterrupt\u001b[0m: "
     ]
    }
   ],
   "source": [
    "# HEIGHT SHIFTS\n",
    "height_shift_ranges = [0.025,0.05,0.075,0.1]\n",
    "epochs=8\n",
    "verbose=1\n",
    "\n",
    "train_acc = {}\n",
    "val_acc = {}\n",
    "                          #height_shift_ranges\n",
    "for height_shift_range in height_shift_ranges:\n",
    "    test_datagen = ImageDataGenerator()#,\n",
    "    validation_generator = test_datagen.flow_from_directory(\n",
    "        validation_data_dir,\n",
    "        classes = ['Type_1', 'Type_2', 'Type_3'],\n",
    "        target_size=(img_width, img_height),\n",
    "        batch_size=batch_size,\n",
    "        color_mode='rgb',\n",
    "        class_mode='categorical')\n",
    "    model = Sequential([\n",
    "        BatchNormalization(axis=1, input_shape=(224,224,3)),\n",
    "        Conv2D(32,(3,3), activation='relu'),\n",
    "        BatchNormalization(axis=1),\n",
    "        MaxPooling2D((3,3)),\n",
    "        Conv2D(64,(3,3), activation='relu'),\n",
    "        BatchNormalization(axis=1),\n",
    "        MaxPooling2D((3,3)),\n",
    "        Flatten(),\n",
    "        Dense(200, activation='relu'),\n",
    "        BatchNormalization(),\n",
    "        Dense(3, activation='softmax')\n",
    "        ])\n",
    "    model.compile(optimizers.Adam(lr=1e-5), loss='categorical_crossentropy', metrics=['accuracy'])\n",
    "    train_datagen = ImageDataGenerator(height_shift_range=height_shift_range)\n",
    "    train_generator = train_datagen.flow_from_directory(\n",
    "        train_data_dir,\n",
    "        classes = ['Type_1', 'Type_2', 'Type_3'],\n",
    "        target_size=(img_width, img_height),\n",
    "        batch_size=batch_size,\n",
    "        color_mode='rgb',\n",
    "        class_mode='categorical')\n",
    "    print('\\nHeight Shift Range :',height_shift_range)\n",
    "    h = model.fit_generator(\n",
    "        train_generator,\n",
    "        steps_per_epoch=train_steps,\n",
    "        epochs=epochs,\n",
    "        validation_data=validation_generator,\n",
    "        validation_steps=validation_steps, \n",
    "        class_weight = class_weight_dict,\n",
    "        #callbacks=callbacks_list,\n",
    "        verbose=verbose)\n",
    "    train_acc[height_shift_range] = h.history[h.params['metrics'][1]]\n",
    "    val_acc[height_shift_range] = h.history[h.params['metrics'][3]]\n",
    "\n",
    "# Graphs\n",
    "epochs = h.epoch\n",
    "for height_shift_range in height_shift_ranges:\n",
    "    plt.plot(epochs, train_acc[height_shift_range], label = str(height_shift_range))\n",
    "    plt.plot(epochs, val_acc[height_shift_range], marker='o', linestyle='--',label= str(height_shift_range))\n",
    "plt.xlabel('Epoch')\n",
    "plt.ylabel('Metrics')\n",
    "plt.ylim([0,1.1])\n",
    "plt.title('Height Shift Range :')\n",
    "plt.legend(loc='center left')\n",
    "plt.show;"
   ]
  },
  {
   "cell_type": "code",
   "execution_count": null,
   "metadata": {
    "collapsed": false
   },
   "outputs": [],
   "source": [
    "# HEIGHT SHIFTS\n",
    "height_shift_ranges = [0.025,0.05,0.075,0.1]\n",
    "epochs=8\n",
    "verbose=1\n",
    "\n",
    "train_acc = {}\n",
    "val_acc = {}\n",
    "                          #height_shift_ranges\n",
    "for height_shift_range in height_shift_ranges:\n",
    "    test_datagen = ImageDataGenerator()#,\n",
    "    validation_generator = test_datagen.flow_from_directory(\n",
    "        validation_data_dir,\n",
    "        classes = ['Type_1', 'Type_2', 'Type_3'],\n",
    "        target_size=(img_width, img_height),\n",
    "        batch_size=batch_size,\n",
    "        color_mode='rgb',\n",
    "        class_mode='categorical')\n",
    "    model = Sequential([\n",
    "        BatchNormalization(axis=1, input_shape=(224,224,3)),\n",
    "        Conv2D(32,(3,3), activation='relu'),\n",
    "        BatchNormalization(axis=1),\n",
    "        MaxPooling2D((3,3)),\n",
    "        Conv2D(64,(3,3), activation='relu'),\n",
    "        BatchNormalization(axis=1),\n",
    "        MaxPooling2D((3,3)),\n",
    "        Flatten(),\n",
    "        Dense(200, activation='relu'),\n",
    "        BatchNormalization(),\n",
    "        Dense(3, activation='softmax')\n",
    "        ])\n",
    "    model.compile(optimizers.Adam(lr=1e-5), loss='categorical_crossentropy', metrics=['accuracy'])\n",
    "    train_datagen = ImageDataGenerator(height_shift_range=height_shift_range)\n",
    "    train_generator = train_datagen.flow_from_directory(\n",
    "        train_data_dir,\n",
    "        classes = ['Type_1', 'Type_2', 'Type_3'],\n",
    "        target_size=(img_width, img_height),\n",
    "        batch_size=batch_size,\n",
    "        color_mode='rgb',\n",
    "        class_mode='categorical')\n",
    "    print('\\nHeight Shift Range :',height_shift_range)\n",
    "    h = model.fit_generator(\n",
    "        train_generator,\n",
    "        steps_per_epoch=train_steps,\n",
    "        epochs=epochs,\n",
    "        validation_data=validation_generator,\n",
    "        validation_steps=validation_steps, \n",
    "        class_weight = class_weight_dict,\n",
    "        #callbacks=callbacks_list,\n",
    "        verbose=verbose)\n",
    "    train_acc[height_shift_range] = h.history[h.params['metrics'][1]]\n",
    "    val_acc[height_shift_range] = h.history[h.params['metrics'][3]]\n",
    "\n",
    "# Graphs\n",
    "epochs = h.epoch\n",
    "for height_shift_range in height_shift_ranges:\n",
    "    plt.plot(epochs, train_acc[height_shift_range], label = str(height_shift_range))\n",
    "    plt.plot(epochs, val_acc[height_shift_range], marker='o', linestyle='--',label= str(height_shift_range))\n",
    "plt.xlabel('Epoch')\n",
    "plt.ylabel('Metrics')\n",
    "plt.ylim([0,1.1])\n",
    "plt.title('Height Shift Range :')\n",
    "plt.legend(loc='center left')\n",
    "plt.show;"
   ]
  },
  {
   "cell_type": "code",
   "execution_count": null,
   "metadata": {
    "collapsed": true
   },
   "outputs": [],
   "source": [
    "stop"
   ]
  },
  {
   "cell_type": "code",
   "execution_count": 24,
   "metadata": {
    "collapsed": false
   },
   "outputs": [
    {
     "name": "stdout",
     "output_type": "stream",
     "text": [
      "Found 73 images belonging to 3 classes.\n",
      "Found 203 images belonging to 3 classes.\n",
      "\n",
      "Height Shift Range : 0.05\n",
      "Epoch 1/3\n",
      "9/9 [==============================] - 113s - loss: 2.5189 - acc: 0.2920 - val_loss: 1.0157 - val_acc: 0.5616\n",
      "Epoch 2/3\n",
      "9/9 [==============================] - 95s - loss: 1.8343 - acc: 0.3998 - val_loss: 0.9596 - val_acc: 0.5616\n",
      "Epoch 3/3\n",
      "9/9 [==============================] - 91s - loss: 1.8419 - acc: 0.4223 - val_loss: 1.0288 - val_acc: 0.4521\n"
     ]
    },
    {
     "data": {
      "image/png": "[encoded data removed]",
      "text/plain": [
       "<matplotlib.figure.Figure at 0x7f00b98a1410>"
      ]
     },
     "metadata": {},
     "output_type": "display_data"
    }
   ],
   "source": [
    "# HEIGHT SHIFTS\n",
    "\n",
    "# Just made it to 0.9 - could probably grab a bit more, but deal with generalization\n",
    "# Augmentation to lift oos learning\n",
    "# Common setup\n",
    "channel_shift_range=5\n",
    "width_shift_range=0.05\n",
    "height_shift_range=0.05\n",
    "\n",
    "epochs=3\n",
    "verbose=1\n",
    "\n",
    "\n",
    "train_acc = {}\n",
    "val_acc = {}\n",
    "\n",
    "test_datagen = ImageDataGenerator()#,\n",
    "validation_generator = test_datagen.flow_from_directory(\n",
    "    validation_data_dir,\n",
    "    classes = ['Type_1', 'Type_2', 'Type_3'],\n",
    "    target_size=(img_width, img_height),\n",
    "    batch_size=batch_size,\n",
    "    color_mode='rgb',\n",
    "    class_mode='categorical')\n",
    "model = Sequential([\n",
    "    BatchNormalization(axis=1, input_shape=(224,224,3)),\n",
    "    Conv2D(32,(3,3), activation='relu'),\n",
    "    BatchNormalization(axis=1),\n",
    "    MaxPooling2D((3,3)),\n",
    "    Conv2D(64,(3,3), activation='relu'),\n",
    "    BatchNormalization(axis=1),\n",
    "    MaxPooling2D((3,3)),\n",
    "    Flatten(),\n",
    "    Dense(200, activation='relu'),\n",
    "    BatchNormalization(),\n",
    "    Dense(3, activation='softmax')\n",
    "    ])\n",
    "model.compile(optimizers.Adam(lr=1e-5), loss='categorical_crossentropy', metrics=['accuracy'])\n",
    "train_datagen = ImageDataGenerator(channel_shift_range=channel_shift_range,\n",
    "                                   width_shift_range=width_shift_range,\n",
    "                                   height_shift_range=height_shift_range)\n",
    "train_generator = train_datagen.flow_from_directory(\n",
    "    train_data_dir,\n",
    "    classes = ['Type_1', 'Type_2', 'Type_3'],\n",
    "    target_size=(img_width, img_height),\n",
    "    batch_size=batch_size,\n",
    "    color_mode='rgb',\n",
    "    class_mode='categorical')\n",
    "\n",
    "h = model.fit_generator(\n",
    "    train_generator,\n",
    "    steps_per_epoch=train_steps,\n",
    "    epochs=epochs,\n",
    "    validation_data=validation_generator,\n",
    "    validation_steps=validation_steps, \n",
    "    class_weight = class_weight_dict,\n",
    "    #callbacks=callbacks_list,\n",
    "    verbose=verbose)\n",
    "train_acc[height_shift_range] = h.history[h.params['metrics'][1]]\n",
    "val_acc[height_shift_range] = h.history[h.params['metrics'][3]]\n",
    "\n",
    "# Graphs\n",
    "epochs = h.epoch\n",
    "plt.plot(epochs, h.history[h.params['metrics'][1]], label = 'acc')\n",
    "plt.plot(epochs, h.history[h.params['metrics'][3]], marker='o', linestyle='--',label= 'val_acc')\n",
    "plt.xlabel('Epoch')\n",
    "plt.ylabel('Metrics')\n",
    "plt.ylim([0,1.1])\n",
    "plt.title('Augmentation')\n",
    "plt.legend(loc='center left')\n",
    "plt.show;"
   ]
  },
  {
   "cell_type": "code",
   "execution_count": 26,
   "metadata": {
    "collapsed": false
   },
   "outputs": [
    {
     "name": "stdout",
     "output_type": "stream",
     "text": [
      "Epoch 1/3\n",
      "9/9 [==============================] - 111s - loss: 1.4397 - acc: 0.5325 - val_loss: 0.9426 - val_acc: 0.5342\n",
      "Epoch 2/3\n",
      "9/9 [==============================] - 94s - loss: 1.1378 - acc: 0.6068 - val_loss: 0.9448 - val_acc: 0.5479\n",
      "Epoch 3/3\n",
      "9/9 [==============================] - 96s - loss: 1.3998 - acc: 0.5975 - val_loss: 0.9756 - val_acc: 0.5068\n"
     ]
    }
   ],
   "source": [
    "model.optimizer.lr=1e-6 # Default 0.001\n",
    "h = model.fit_generator(\n",
    "    train_generator,\n",
    "    steps_per_epoch=train_steps,\n",
    "    epochs=3,\n",
    "    validation_data=validation_generator,\n",
    "    validation_steps=validation_steps, \n",
    "    class_weight = class_weight_dict,\n",
    "    verbose=verbose)"
   ]
  },
  {
   "cell_type": "code",
   "execution_count": 27,
   "metadata": {
    "collapsed": false
   },
   "outputs": [
    {
     "name": "stdout",
     "output_type": "stream",
     "text": [
      "Epoch 1/3\n",
      "9/9 [==============================] - 118s - loss: 0.9847 - acc: 0.6472 - val_loss: 0.9888 - val_acc: 0.5068\n",
      "Epoch 2/3\n",
      "9/9 [==============================] - 97s - loss: 1.1493 - acc: 0.6583 - val_loss: 1.0112 - val_acc: 0.4795\n",
      "Epoch 3/3\n",
      "9/9 [==============================] - 97s - loss: 0.9963 - acc: 0.6697 - val_loss: 1.0612 - val_acc: 0.4521\n"
     ]
    }
   ],
   "source": [
    " # Default 0.001\n",
    "h = model.fit_generator(\n",
    "    train_generator,\n",
    "    steps_per_epoch=train_steps,\n",
    "    epochs=3,\n",
    "    validation_data=validation_generator,\n",
    "    validation_steps=validation_steps, \n",
    "    class_weight = class_weight_dict,\n",
    "    verbose=verbose)"
   ]
  },
  {
   "cell_type": "code",
   "execution_count": 28,
   "metadata": {
    "collapsed": false
   },
   "outputs": [
    {
     "name": "stdout",
     "output_type": "stream",
     "text": [
      "Epoch 1/3\n",
      "9/9 [==============================] - 119s - loss: 0.8642 - acc: 0.6559 - val_loss: 1.0502 - val_acc: 0.4247\n",
      "Epoch 2/3\n",
      "9/9 [==============================] - 94s - loss: 0.9079 - acc: 0.7775 - val_loss: 1.1641 - val_acc: 0.2740\n",
      "Epoch 3/3\n",
      "9/9 [==============================] - 92s - loss: 0.8049 - acc: 0.6987 - val_loss: 1.1058 - val_acc: 0.2877\n"
     ]
    }
   ],
   "source": [
    "model.optimizer.lr=1e-7 # Default 0.001\n",
    "h = model.fit_generator(\n",
    "    train_generator,\n",
    "    steps_per_epoch=train_steps,\n",
    "    epochs=3,\n",
    "    validation_data=validation_generator,\n",
    "    validation_steps=validation_steps, \n",
    "    class_weight = class_weight_dict,\n",
    "    verbose=verbose)"
   ]
  },
  {
   "cell_type": "code",
   "execution_count": 29,
   "metadata": {
    "collapsed": false
   },
   "outputs": [
    {
     "name": "stdout",
     "output_type": "stream",
     "text": [
      "Epoch 1/5\n",
      "9/9 [==============================] - 116s - loss: 0.7399 - acc: 0.7167 - val_loss: 1.1188 - val_acc: 0.3288\n",
      "Epoch 2/5\n",
      "9/9 [==============================] - 94s - loss: 0.7766 - acc: 0.7661 - val_loss: 1.0964 - val_acc: 0.3562\n",
      "Epoch 3/5\n",
      "9/9 [==============================] - 96s - loss: 0.6777 - acc: 0.7820 - val_loss: 1.1841 - val_acc: 0.2877\n",
      "Epoch 4/5\n",
      "9/9 [==============================] - 94s - loss: 0.6308 - acc: 0.8203 - val_loss: 1.1599 - val_acc: 0.3014\n",
      "Epoch 5/5\n",
      "9/9 [==============================] - 98s - loss: 0.6872 - acc: 0.7751 - val_loss: 1.1602 - val_acc: 0.3151\n"
     ]
    }
   ],
   "source": [
    "h = model.fit_generator(\n",
    "    train_generator,\n",
    "    steps_per_epoch=train_steps,\n",
    "    epochs=5,\n",
    "    validation_data=validation_generator,\n",
    "    validation_steps=validation_steps, \n",
    "    class_weight = class_weight_dict,\n",
    "    verbose=verbose)"
   ]
  },
  {
   "cell_type": "code",
   "execution_count": 30,
   "metadata": {
    "collapsed": false
   },
   "outputs": [
    {
     "name": "stdout",
     "output_type": "stream",
     "text": [
      "Epoch 1/5\n",
      "9/9 [==============================] - 118s - loss: 0.6161 - acc: 0.8449 - val_loss: 1.0909 - val_acc: 0.3425\n",
      "Epoch 2/5\n",
      "9/9 [==============================] - 95s - loss: 0.6838 - acc: 0.8089 - val_loss: 1.1007 - val_acc: 0.3699\n",
      "Epoch 3/5\n",
      "9/9 [==============================] - 97s - loss: 0.7079 - acc: 0.8179 - val_loss: 1.1368 - val_acc: 0.3562\n",
      "Epoch 4/5\n",
      "9/9 [==============================] - 95s - loss: 0.6777 - acc: 0.7637 - val_loss: 1.1408 - val_acc: 0.3836\n",
      "Epoch 5/5\n",
      "9/9 [==============================] - 92s - loss: 0.6260 - acc: 0.8066 - val_loss: 1.1581 - val_acc: 0.3699\n"
     ]
    }
   ],
   "source": [
    "model.optimizer.lr=0.001 # Default 0.001\n",
    "h = model.fit_generator(\n",
    "    train_generator,\n",
    "    steps_per_epoch=train_steps,\n",
    "    epochs=5,\n",
    "    validation_data=validation_generator,\n",
    "    validation_steps=validation_steps, \n",
    "    class_weight = class_weight_dict,\n",
    "    verbose=verbose)"
   ]
  },
  {
   "cell_type": "code",
   "execution_count": 31,
   "metadata": {
    "collapsed": false
   },
   "outputs": [
    {
     "name": "stdout",
     "output_type": "stream",
     "text": [
      "Epoch 1/5\n",
      "9/9 [==============================] - 119s - loss: 0.6605 - acc: 0.7727 - val_loss: 1.1790 - val_acc: 0.3288\n",
      "Epoch 2/5\n",
      "9/9 [==============================] - 95s - loss: 0.5928 - acc: 0.8066 - val_loss: 1.1960 - val_acc: 0.3014\n",
      "Epoch 3/5\n",
      "9/9 [==============================] - 100s - loss: 0.4683 - acc: 0.8922 - val_loss: 1.1791 - val_acc: 0.3836\n",
      "Epoch 4/5\n",
      "9/9 [==============================] - 95s - loss: 0.5481 - acc: 0.8066 - val_loss: 1.2270 - val_acc: 0.3836\n",
      "Epoch 5/5\n",
      "9/9 [==============================] - 93s - loss: 0.4430 - acc: 0.8763 - val_loss: 1.1190 - val_acc: 0.4110\n"
     ]
    }
   ],
   "source": [
    "model.optimizer.lr=0.01 # Default 0.001\n",
    "h = model.fit_generator(\n",
    "    train_generator,\n",
    "    steps_per_epoch=train_steps,\n",
    "    epochs=5,\n",
    "    validation_data=validation_generator,\n",
    "    validation_steps=validation_steps, \n",
    "    class_weight = class_weight_dict,\n",
    "    verbose=verbose)"
   ]
  },
  {
   "cell_type": "code",
   "execution_count": 32,
   "metadata": {
    "collapsed": false
   },
   "outputs": [
    {
     "name": "stdout",
     "output_type": "stream",
     "text": [
      "Epoch 1/5\n",
      "9/9 [==============================] - 119s - loss: 0.4981 - acc: 0.8449 - val_loss: 1.1886 - val_acc: 0.3425\n",
      "Epoch 2/5\n",
      "9/9 [==============================] - 100s - loss: 0.5688 - acc: 0.8560 - val_loss: 1.2298 - val_acc: 0.2740\n",
      "Epoch 3/5\n",
      "9/9 [==============================] - 97s - loss: 0.4728 - acc: 0.9101 - val_loss: 1.1407 - val_acc: 0.3836\n",
      "Epoch 4/5\n",
      "9/9 [==============================] - 100s - loss: 0.5657 - acc: 0.8628 - val_loss: 1.2041 - val_acc: 0.3699\n",
      "Epoch 5/5\n",
      "9/9 [==============================] - 94s - loss: 0.4055 - acc: 0.9012 - val_loss: 1.1399 - val_acc: 0.4384\n"
     ]
    }
   ],
   "source": [
    "h = model.fit_generator(\n",
    "    train_generator,\n",
    "    steps_per_epoch=train_steps,\n",
    "    epochs=5,\n",
    "    validation_data=validation_generator,\n",
    "    validation_steps=validation_steps, \n",
    "    class_weight = class_weight_dict,\n",
    "    verbose=verbose)"
   ]
  },
  {
   "cell_type": "code",
   "execution_count": 41,
   "metadata": {
    "collapsed": false
   },
   "outputs": [
    {
     "name": "stdout",
     "output_type": "stream",
     "text": [
      "Found 73 images belonging to 3 classes.\n",
      "Found 203 images belonging to 3 classes.\n",
      "Epoch 1/5\n",
      "9/9 [==============================] - 110s - loss: 2.6555 - acc: 0.2719 - val_loss: 3.2171 - val_acc: 0.3014\n",
      "Epoch 2/5\n",
      "9/9 [==============================] - 93s - loss: 2.3349 - acc: 0.3282 - val_loss: 2.1413 - val_acc: 0.2877\n",
      "Epoch 3/5\n",
      "9/9 [==============================] - 88s - loss: 2.2413 - acc: 0.3573 - val_loss: 1.5102 - val_acc: 0.3151\n",
      "Epoch 4/5\n",
      "9/9 [==============================] - 89s - loss: 2.1922 - acc: 0.3956 - val_loss: 1.2713 - val_acc: 0.3014\n",
      "Epoch 5/5\n",
      "9/9 [==============================] - 89s - loss: 2.0821 - acc: 0.3325 - val_loss: 1.1379 - val_acc: 0.3288\n"
     ]
    },
    {
     "data": {
      "image/png": "[encoded data removed]",
      "text/plain": [
       "<matplotlib.figure.Figure at 0x7f00ccc40f50>"
      ]
     },
     "metadata": {},
     "output_type": "display_data"
    }
   ],
   "source": [
    "# HEIGHT SHIFTS\n",
    "\n",
    "# Just made it to 0.9 - could probably grab a bit more, but deal with generalization\n",
    "# Augmentation to lift oos learning\n",
    "# Common setup\n",
    "#channel_shift_range=5\n",
    "width_shift_range=0.025\n",
    "height_shift_range=0.025\n",
    "\n",
    "epochs=3\n",
    "verbose=1\n",
    "\n",
    "\n",
    "train_acc = {}\n",
    "val_acc = {}\n",
    "\n",
    "test_datagen = ImageDataGenerator()#,\n",
    "validation_generator = test_datagen.flow_from_directory(\n",
    "    validation_data_dir,\n",
    "    classes = ['Type_1', 'Type_2', 'Type_3'],\n",
    "    target_size=(img_width, img_height),\n",
    "    batch_size=batch_size,\n",
    "    color_mode='rgb',\n",
    "    class_mode='categorical')\n",
    "model = Sequential([\n",
    "    BatchNormalization(axis=1, input_shape=(224,224,3)),\n",
    "    Conv2D(32,(3,3), activation='relu'),\n",
    "    BatchNormalization(axis=1),\n",
    "    MaxPooling2D((3,3)),\n",
    "    Conv2D(64,(3,3), activation='relu'),\n",
    "    BatchNormalization(axis=1),\n",
    "    MaxPooling2D((3,3)),\n",
    "    Flatten(),\n",
    "    Dense(200, activation='relu'),\n",
    "    BatchNormalization(),\n",
    "    Dense(3, activation='softmax')\n",
    "    ])\n",
    "model.compile(optimizers.Adam(lr=0.000001), loss='categorical_crossentropy', metrics=['accuracy'])\n",
    "train_datagen = ImageDataGenerator(width_shift_range=width_shift_range,\n",
    "                                   height_shift_range=height_shift_range)\n",
    "train_generator = train_datagen.flow_from_directory(\n",
    "    train_data_dir,\n",
    "    classes = ['Type_1', 'Type_2', 'Type_3'],\n",
    "    target_size=(img_width, img_height),\n",
    "    batch_size=batch_size,\n",
    "    color_mode='rgb',\n",
    "    class_mode='categorical')\n",
    "\n",
    "h = model.fit_generator(\n",
    "    train_generator,\n",
    "    steps_per_epoch=train_steps,\n",
    "    epochs=5,\n",
    "    validation_data=validation_generator,\n",
    "    validation_steps=validation_steps, \n",
    "    class_weight = class_weight_dict,\n",
    "    #callbacks=callbacks_list,\n",
    "    verbose=verbose)\n",
    "train_acc[height_shift_range] = h.history[h.params['metrics'][1]]\n",
    "val_acc[height_shift_range] = h.history[h.params['metrics'][3]]\n",
    "\n",
    "# Graphs\n",
    "epochs = h.epoch\n",
    "plt.plot(epochs, h.history[h.params['metrics'][1]], label = 'acc')\n",
    "plt.plot(epochs, h.history[h.params['metrics'][3]], marker='o', linestyle='--',label= 'val_acc')\n",
    "plt.xlabel('Epoch')\n",
    "plt.ylabel('Metrics')\n",
    "plt.ylim([0,1.1])\n",
    "plt.title('Augmentation')\n",
    "plt.legend(loc='center left')\n",
    "plt.show;"
   ]
  },
  {
   "cell_type": "code",
   "execution_count": 42,
   "metadata": {
    "collapsed": false
   },
   "outputs": [
    {
     "name": "stdout",
     "output_type": "stream",
     "text": [
      "Epoch 1/10\n",
      "9/9 [==============================] - 110s - loss: 2.0561 - acc: 0.3663 - val_loss: 1.0936 - val_acc: 0.3288\n",
      "Epoch 2/10\n",
      "9/9 [==============================] - 95s - loss: 2.3076 - acc: 0.3438 - val_loss: 1.0398 - val_acc: 0.4110\n",
      "Epoch 3/10\n",
      "9/9 [==============================] - 95s - loss: 1.9243 - acc: 0.4226 - val_loss: 1.0201 - val_acc: 0.5205\n",
      "Epoch 4/10\n",
      "9/9 [==============================] - 98s - loss: 1.8419 - acc: 0.4178 - val_loss: 1.0198 - val_acc: 0.4932\n",
      "Epoch 5/10\n",
      "9/9 [==============================] - 97s - loss: 1.9507 - acc: 0.3774 - val_loss: 1.0351 - val_acc: 0.5342\n",
      "Epoch 6/10\n",
      "9/9 [==============================] - 94s - loss: 1.8117 - acc: 0.4675 - val_loss: 1.0312 - val_acc: 0.5342\n",
      "Epoch 7/10\n",
      "9/9 [==============================] - 89s - loss: 1.7537 - acc: 0.4067 - val_loss: 1.0360 - val_acc: 0.5205\n",
      "Epoch 8/10\n",
      "9/9 [==============================] - 93s - loss: 1.6536 - acc: 0.5079 - val_loss: 1.0696 - val_acc: 0.4795\n",
      "Epoch 9/10\n",
      "9/9 [==============================] - 91s - loss: 1.6011 - acc: 0.5418 - val_loss: 1.0695 - val_acc: 0.4932\n",
      "Epoch 10/10\n",
      "9/9 [==============================] - 92s - loss: 1.8115 - acc: 0.4831 - val_loss: 1.0579 - val_acc: 0.4795\n"
     ]
    }
   ],
   "source": [
    "h = model.fit_generator(\n",
    "    train_generator,\n",
    "    steps_per_epoch=train_steps,\n",
    "    epochs=10,\n",
    "    validation_data=validation_generator,\n",
    "    validation_steps=validation_steps, \n",
    "    class_weight = class_weight_dict,\n",
    "    #callbacks=callbacks_list,\n",
    "    verbose=verbose)"
   ]
  },
  {
   "cell_type": "code",
   "execution_count": 43,
   "metadata": {
    "collapsed": false
   },
   "outputs": [
    {
     "name": "stdout",
     "output_type": "stream",
     "text": [
      "Epoch 1/25\n",
      "9/9 [==============================] - 111s - loss: 1.6609 - acc: 0.4921 - val_loss: 1.0999 - val_acc: 0.4795\n",
      "Epoch 2/25\n",
      "9/9 [==============================] - 89s - loss: 1.3867 - acc: 0.5235 - val_loss: 1.1379 - val_acc: 0.4247\n",
      "Epoch 3/25\n",
      "9/9 [==============================] - 85s - loss: 1.4229 - acc: 0.4876 - val_loss: 1.0314 - val_acc: 0.5753\n",
      "Epoch 4/25\n",
      "9/9 [==============================] - 87s - loss: 1.4928 - acc: 0.5304 - val_loss: 1.1306 - val_acc: 0.4658\n",
      "Epoch 5/25\n",
      "9/9 [==============================] - 87s - loss: 1.3997 - acc: 0.5753 - val_loss: 1.1734 - val_acc: 0.4795\n",
      "Epoch 6/25\n",
      "9/9 [==============================] - 87s - loss: 1.2905 - acc: 0.5957 - val_loss: 1.2576 - val_acc: 0.3425\n",
      "Epoch 7/25\n",
      "9/9 [==============================] - 87s - loss: 1.3280 - acc: 0.6158 - val_loss: 1.1513 - val_acc: 0.4658\n",
      "Epoch 8/25\n",
      "9/9 [==============================] - 87s - loss: 1.3586 - acc: 0.5909 - val_loss: 1.1000 - val_acc: 0.4932\n",
      "Epoch 9/25\n",
      "9/9 [==============================] - 86s - loss: 1.4299 - acc: 0.5595 - val_loss: 1.2484 - val_acc: 0.3699\n",
      "Epoch 10/25\n",
      "9/9 [==============================] - 88s - loss: 1.3210 - acc: 0.5190 - val_loss: 1.1928 - val_acc: 0.4110\n",
      "Epoch 11/25\n",
      "9/9 [==============================] - 87s - loss: 1.2195 - acc: 0.5933 - val_loss: 1.2454 - val_acc: 0.3699\n",
      "Epoch 12/25\n",
      "9/9 [==============================] - 86s - loss: 1.3842 - acc: 0.5256 - val_loss: 1.2477 - val_acc: 0.4247\n",
      "Epoch 13/25\n",
      "9/9 [==============================] - 88s - loss: 1.3730 - acc: 0.5505 - val_loss: 1.2308 - val_acc: 0.3973\n",
      "Epoch 14/25\n",
      "9/9 [==============================] - 88s - loss: 1.1683 - acc: 0.6382 - val_loss: 1.2956 - val_acc: 0.3288\n",
      "Epoch 15/25\n",
      "9/9 [==============================] - 87s - loss: 1.1881 - acc: 0.5864 - val_loss: 1.2625 - val_acc: 0.3562\n",
      "Epoch 16/25\n",
      "9/9 [==============================] - 88s - loss: 1.1800 - acc: 0.5999 - val_loss: 1.2669 - val_acc: 0.3425\n",
      "Epoch 17/25\n",
      "9/9 [==============================] - 88s - loss: 1.1928 - acc: 0.6158 - val_loss: 1.2543 - val_acc: 0.3562\n",
      "Epoch 18/25\n",
      "9/9 [==============================] - 87s - loss: 1.1745 - acc: 0.5999 - val_loss: 1.3037 - val_acc: 0.3562\n",
      "Epoch 19/25\n",
      "9/9 [==============================] - 87s - loss: 1.1489 - acc: 0.5864 - val_loss: 1.3113 - val_acc: 0.3425\n",
      "Epoch 20/25\n",
      "9/9 [==============================] - 87s - loss: 1.0390 - acc: 0.6742 - val_loss: 1.3850 - val_acc: 0.3151\n",
      "Epoch 21/25\n",
      "9/9 [==============================] - 87s - loss: 1.1586 - acc: 0.6179 - val_loss: 1.2805 - val_acc: 0.3973\n",
      "Epoch 22/25\n",
      "9/9 [==============================] - 87s - loss: 1.2807 - acc: 0.6517 - val_loss: 1.3493 - val_acc: 0.3425\n",
      "Epoch 23/25\n",
      "9/9 [==============================] - 88s - loss: 1.0987 - acc: 0.6742 - val_loss: 1.2000 - val_acc: 0.4521\n",
      "Epoch 24/25\n",
      "9/9 [==============================] - 87s - loss: 1.0173 - acc: 0.6853 - val_loss: 1.3251 - val_acc: 0.3699\n",
      "Epoch 25/25\n",
      "9/9 [==============================] - 88s - loss: 1.1501 - acc: 0.6290 - val_loss: 1.3892 - val_acc: 0.3288\n"
     ]
    }
   ],
   "source": [
    "h = model.fit_generator(\n",
    "    train_generator,\n",
    "    steps_per_epoch=train_steps,\n",
    "    epochs=25,\n",
    "    validation_data=validation_generator,\n",
    "    validation_steps=validation_steps, \n",
    "    class_weight = class_weight_dict,\n",
    "    #callbacks=callbacks_list,\n",
    "    verbose=verbose)"
   ]
  },
  {
   "cell_type": "code",
   "execution_count": 13,
   "metadata": {
    "collapsed": false
   },
   "outputs": [
    {
     "name": "stdout",
     "output_type": "stream",
     "text": [
      "Found 73 images belonging to 3 classes.\n",
      "Found 203 images belonging to 3 classes.\n",
      "Epoch 1/5\n",
      "9/9 [==============================] - 118s - loss: 2.5779 - acc: 0.3169 - val_loss: 1.5664 - val_acc: 0.3014\n",
      "Epoch 2/5\n",
      "9/9 [==============================] - 100s - loss: 1.6790 - acc: 0.4900 - val_loss: 1.2710 - val_acc: 0.3014\n",
      "Epoch 3/5\n",
      "9/9 [==============================] - 104s - loss: 1.2701 - acc: 0.5864 - val_loss: 1.3123 - val_acc: 0.3014\n",
      "Epoch 4/5\n",
      "9/9 [==============================] - 97s - loss: 0.9775 - acc: 0.6765 - val_loss: 1.3026 - val_acc: 0.2603\n",
      "Epoch 5/5\n",
      "9/9 [==============================] - 91s - loss: 1.0134 - acc: 0.7122 - val_loss: 1.2973 - val_acc: 0.2055\n"
     ]
    },
    {
     "data": {
      "image/png": "[encoded data removed]",
      "text/plain": [
       "<matplotlib.figure.Figure at 0x7f2b03ae1f50>"
      ]
     },
     "metadata": {},
     "output_type": "display_data"
    }
   ],
   "source": [
    "# HEIGHT SHIFTS\n",
    "\n",
    "# Just made it to 0.9 - could probably grab a bit more, but deal with generalization\n",
    "# Augmentation to lift oos learning\n",
    "# Common setup\n",
    "channel_shift_range=None\n",
    "width_shift_range=0.05\n",
    "height_shift_range=None\n",
    "\n",
    "epochs=5\n",
    "verbose=1\n",
    "\n",
    "\n",
    "train_acc = {}\n",
    "val_acc = {}\n",
    "\n",
    "test_datagen = ImageDataGenerator()#,\n",
    "validation_generator = test_datagen.flow_from_directory(\n",
    "    validation_data_dir,\n",
    "    classes = ['Type_1', 'Type_2', 'Type_3'],\n",
    "    target_size=(img_width, img_height),\n",
    "    batch_size=batch_size,\n",
    "    color_mode='rgb',\n",
    "    class_mode='categorical')\n",
    "model = Sequential([\n",
    "    BatchNormalization(axis=1, input_shape=(224,224,3)),\n",
    "    Conv2D(32,(3,3), activation='relu'),\n",
    "    BatchNormalization(axis=1),\n",
    "    MaxPooling2D((3,3)),\n",
    "    Conv2D(64,(3,3), activation='relu'),\n",
    "    BatchNormalization(axis=1),\n",
    "    MaxPooling2D((3,3)),\n",
    "    Flatten(),\n",
    "    Dense(200, activation='relu'),\n",
    "    BatchNormalization(),\n",
    "    Dense(3, activation='softmax')\n",
    "    ])\n",
    "\n",
    "model.compile(optimizers.Adam(lr=0.00001), loss='categorical_crossentropy', metrics=['accuracy'])\n",
    "\n",
    "train_datagen = ImageDataGenerator(width_shift_range=width_shift_range)\n",
    "\n",
    "train_generator = train_datagen.flow_from_directory(\n",
    "    train_data_dir,\n",
    "    classes = ['Type_1', 'Type_2', 'Type_3'],\n",
    "    target_size=(img_width, img_height),\n",
    "    batch_size=batch_size,\n",
    "    color_mode='rgb',\n",
    "    class_mode='categorical')\n",
    "\n",
    "h = model.fit_generator(\n",
    "    train_generator,\n",
    "    steps_per_epoch=train_steps,\n",
    "    epochs=5,\n",
    "    validation_data=validation_generator,\n",
    "    validation_steps=validation_steps, \n",
    "    class_weight = class_weight_dict,\n",
    "    #callbacks=callbacks_list,\n",
    "    verbose=verbose)\n",
    "train_acc[height_shift_range] = h.history[h.params['metrics'][1]]\n",
    "val_acc[height_shift_range] = h.history[h.params['metrics'][3]]\n",
    "\n",
    "# Graphs\n",
    "epochs = h.epoch\n",
    "plt.plot(epochs, h.history[h.params['metrics'][1]], label = 'acc')\n",
    "plt.plot(epochs, h.history[h.params['metrics'][3]], marker='o', linestyle='--',label= 'val_acc')\n",
    "plt.xlabel('Epoch')\n",
    "plt.ylabel('Metrics')\n",
    "plt.ylim([0,1.1])\n",
    "plt.title('Augmentation')\n",
    "plt.legend(loc='center left')\n",
    "plt.show;"
   ]
  },
  {
   "cell_type": "code",
   "execution_count": null,
   "metadata": {
    "collapsed": true
   },
   "outputs": [],
   "source": [
    "model.optimizer.lr=0.00001 # Default 0.001h = model.fit_generator(\n",
    "    train_generator,\n",
    "    steps_per_epoch=train_steps,\n",
    "    epochs=5,\n",
    "    validation_data=validation_generator,\n",
    "    validation_steps=validation_steps, \n",
    "    class_weight = class_weight_dict,\n",
    "    #callbacks=callbacks_list,\n",
    "    verbose=verbose)"
   ]
  },
  {
   "cell_type": "code",
   "execution_count": null,
   "metadata": {
    "collapsed": true
   },
   "outputs": [],
   "source": [
    "#width_shift_range=0.05\n",
    "#lr=1e-5"
   ]
  },
  {
   "cell_type": "code",
   "execution_count": null,
   "metadata": {
    "collapsed": true
   },
   "outputs": [],
   "source": [
    "# HEIGHT SHIFTS\n",
    "\n",
    "# Just made it to 0.9 - could probably grab a bit more, but deal with generalization\n",
    "# Augmentation to lift oos learning\n",
    "# Common setup\n",
    "def proprocessing_function(img):\n",
    "    image1 = cv2.cvtColor(img,cv2.COLOR_RGB2HSV)\n",
    "    image1 = np.array(image1, dtype = np.float64)\n",
    "    random_bright = .5+np.random.uniform()\n",
    "    image1[:,:,2] = image1[:,:,2]*random_bright\n",
    "    image1[:,:,2][image1[:,:,2]>255]  = 255\n",
    "    image1 = np.array(image1, dtype = np.uint8)\n",
    "    image1 = cv2.cvtColor(image1,cv2.COLOR_HSV2RGB)\n",
    "    return image1    \n",
    "\n",
    "channel_shift_range=None\n",
    "width_shift_range=None\n",
    "height_shift_range=None\n",
    "\n",
    "epochs=5\n",
    "verbose=1\n",
    "\n",
    "\n",
    "train_acc = {}\n",
    "val_acc = {}\n",
    "\n",
    "test_datagen = ImageDataGenerator()#,\n",
    "validation_generator = test_datagen.flow_from_directory(\n",
    "    validation_data_dir,\n",
    "    classes = ['Type_1', 'Type_2', 'Type_3'],\n",
    "    target_size=(img_width, img_height),\n",
    "    batch_size=batch_size,\n",
    "    color_mode='rgb',\n",
    "    class_mode='categorical')\n",
    "model = Sequential([\n",
    "    BatchNormalization(axis=1, input_shape=(224,224,3)),\n",
    "    Conv2D(32,(3,3), activation='relu'),\n",
    "    BatchNormalization(axis=1),\n",
    "    MaxPooling2D((3,3)),\n",
    "    Conv2D(64,(3,3), activation='relu'),\n",
    "    BatchNormalization(axis=1),\n",
    "    MaxPooling2D((3,3)),\n",
    "    Flatten(),\n",
    "    Dense(200, activation='relu'),\n",
    "    BatchNormalization(),\n",
    "    Dense(3, activation='softmax')\n",
    "    ])\n",
    "model.compile(optimizers.Adam(lr=0.00001), loss='categorical_crossentropy', metrics=['accuracy'])\n",
    "train_datagen = ImageDataGenerator(preprocessing_function= proprocessing_function)\n",
    "train_generator = train_datagen.flow_from_directory(\n",
    "    train_data_dir,\n",
    "    classes = ['Type_1', 'Type_2', 'Type_3'],\n",
    "    target_size=(img_width, img_height),\n",
    "    batch_size=batch_size,\n",
    "    color_mode='rgb',\n",
    "    class_mode='categorical')\n",
    "\n",
    "h = model.fit_generator(\n",
    "    train_generator,\n",
    "    steps_per_epoch=train_steps,\n",
    "    epochs=5,\n",
    "    validation_data=validation_generator,\n",
    "    validation_steps=validation_steps, \n",
    "    class_weight = class_weight_dict,\n",
    "    #callbacks=callbacks_list,\n",
    "    verbose=verbose)\n",
    "train_acc[height_shift_range] = h.history[h.params['metrics'][1]]\n",
    "val_acc[height_shift_range] = h.history[h.params['metrics'][3]]\n",
    "\n",
    "# Graphs\n",
    "epochs = h.epoch\n",
    "plt.plot(epochs, h.history[h.params['metrics'][1]], label = 'acc')\n",
    "plt.plot(epochs, h.history[h.params['metrics'][3]], marker='o', linestyle='--',label= 'val_acc')\n",
    "plt.xlabel('Epoch')\n",
    "plt.ylabel('Metrics')\n",
    "plt.ylim([0,1.1])\n",
    "plt.title('Augmentation')\n",
    "plt.legend(loc='center left')\n",
    "plt.show;"
   ]
  },
  {
   "cell_type": "code",
   "execution_count": null,
   "metadata": {
    "collapsed": true
   },
   "outputs": [],
   "source": [
    "stop"
   ]
  },
  {
   "cell_type": "code",
   "execution_count": null,
   "metadata": {
    "collapsed": true
   },
   "outputs": [],
   "source": []
  },
  {
   "cell_type": "code",
   "execution_count": null,
   "metadata": {
    "collapsed": true
   },
   "outputs": [],
   "source": []
  },
  {
   "cell_type": "code",
   "execution_count": null,
   "metadata": {
    "collapsed": true
   },
   "outputs": [],
   "source": []
  },
  {
   "cell_type": "code",
   "execution_count": null,
   "metadata": {
    "collapsed": false
   },
   "outputs": [],
   "source": [
    "model = Sequential()\n",
    "model.add(Conv2D(32, (3, 3), input_shape=input_shape))\n",
    "model.add(Activation('relu'))\n",
    "model.add(MaxPooling2D(pool_size=(2, 2)))\n",
    "\n",
    "\n",
    "model.add(Conv2D(32, (3, 3)))\n",
    "model.add(Activation('relu'))\n",
    "model.add(MaxPooling2D(pool_size=(2, 2)))\n",
    "\n",
    "model.add(Conv2D(64, (3, 3)))\n",
    "model.add(Activation('relu'))\n",
    "model.add(MaxPooling2D(pool_size=(2, 2)))\n",
    "\n",
    "model.add(Flatten())\n",
    "model.add(Dense(64))\n",
    "model.add(Activation('relu'))\n",
    "# Dropout reduced from 0.5 on home pc to 0.1 to try and improve training\n",
    "model.add(Dropout(0.1))\n",
    "model.add(Dense(3))\n",
    "model.add(Activation('softmax'))"
   ]
  },
  {
   "cell_type": "code",
   "execution_count": null,
   "metadata": {
    "collapsed": true
   },
   "outputs": [],
   "source": [
    "sgd = optimizers.SGD(lr=0.001, decay=1e-6, momentum=0.9, nesterov=True)"
   ]
  },
  {
   "cell_type": "code",
   "execution_count": null,
   "metadata": {
    "collapsed": true
   },
   "outputs": [],
   "source": [
    "model.compile(loss='categorical_crossentropy',\n",
    "              optimizer=sgd,\n",
    "            metrics=['accuracy'])"
   ]
  },
  {
   "cell_type": "code",
   "execution_count": null,
   "metadata": {
    "collapsed": false
   },
   "outputs": [],
   "source": [
    "# checkpoint\n",
    "# http://machinelearningmastery.com/check-point-deep-learning-models-keras/\n",
    "filen=\"weights2-improvement-{epoch:02d}-{val_acc:.2f}.hdf5\"\n",
    "filepath = os.path.join(weights_dir, filen)\n",
    "checkpoint = ModelCheckpoint(filepath, monitor='val_acc', verbose=1, save_best_only=True, mode='max')\n",
    "# !!! TRAIN\n",
    "#callbacks_list = [checkpoint]\n",
    "callbacks_list=None"
   ]
  },
  {
   "cell_type": "code",
   "execution_count": null,
   "metadata": {
    "collapsed": false
   },
   "outputs": [],
   "source": [
    "##### TEST WITH A COUPLE OF IMAGES  AND SHOW TEST RESULTS##########\n",
    "\n",
    "\n",
    "import cv2\n",
    "import PIL\n",
    "#import PIL.Image\n",
    "from keras.preprocessing.image import array_to_img, img_to_array, load_img\n",
    "# Preprocessing Function Docs from Image Preprocessing\n",
    "# preprocessing_function: function that will be implied on each input. \n",
    "# The function will run before any other modification on it. \n",
    "# The function should take one argument: one image (Numpy tensor with rank 3), \n",
    "# and should output a Numpy tensor with the same shape. - Same exact dimensions !?! or just same general shape ??\n",
    "\n",
    "def pink_cropper(img):\n",
    "    \"\"\"\n",
    "    Accepts an image for pocessing\n",
    "    Converts image to hsv, crops based on threshold parameter settings\n",
    "    returns cropped image, as a numpy array\n",
    "    \"\"\"\n",
    "    min_params=(130,85,150) ; max_params = (180,256,256)\n",
    "    #min_params=(0,1,1) ; max_params = (180,256,256)\n",
    "    # Convert back into a PIL Image\n",
    "    pil_img = array_to_img(img)\n",
    "    # Convert into a cv2 image\n",
    "    cv_img = cv2.cvtColor(np.array(pil_img), cv2.COLOR_RGB2BGR)\n",
    "    # Convert color space to HSV\n",
    "    hsv = cv2.cvtColor(cv_img, cv2.COLOR_BGR2HSV)\n",
    "    # Create mask by applying thresholds\n",
    "    mask = cv2.inRange(hsv, min_params, max_params)\n",
    "    i, j = np.where(mask)\n",
    "    indices=None\n",
    "    if any(i) or any(j):\n",
    "        indices = np.meshgrid(np.arange(min(i), max(i) + 1),\n",
    "                              np.arange(min(j), max(j) + 1),\n",
    "                              indexing='ij')\n",
    "    if indices:\n",
    "        cropped_image = cv_img[indices]\n",
    "    else:\n",
    "        cropped_image = cv_img\n",
    "    # Resize here !!\n",
    "    resized_image = cv2.resize(cropped_image, (150,150))\n",
    "    # Convert back to PIL Image\n",
    "    pil_im = PIL.Image.fromarray(resized_image)\n",
    "    # Convert back to Keras suitable array\n",
    "    im = img_to_array(pil_im)\n",
    "    return im\n",
    "\n",
    "# Try out function attributes as a means of setting parameters\n",
    "# The Keras preprocessing function strictly takes only one argument\n",
    "# This could make the parameters easier to play with\n",
    "pink_cropper.min_h = 130\n",
    "pink_cropper.min_s = 85\n",
    "pink_cropper.min_v = 150\n",
    "\n",
    "pink_cropper.max_h = 180\n",
    "pink_cropper.max_s = 256\n",
    "pink_cropper.max_v = 256\n"
   ]
  },
  {
   "cell_type": "code",
   "execution_count": null,
   "metadata": {
    "collapsed": true
   },
   "outputs": [],
   "source": [
    "train_datagen = ImageDataGenerator(rescale=1. / 255,\n",
    "                                  preprocessing_function=pink_cropper)\n",
    "test_datagen = ImageDataGenerator(rescale=1. / 255,\n",
    "                                 preprocessing_function=pink_cropper)"
   ]
  },
  {
   "cell_type": "code",
   "execution_count": null,
   "metadata": {
    "collapsed": true
   },
   "outputs": [],
   "source": [
    "#train_datagen = ImageDataGenerator(rescale=1. / 255)\n",
    "#test_datagen = ImageDataGenerator(rescale=1. / 255)"
   ]
  },
  {
   "cell_type": "code",
   "execution_count": null,
   "metadata": {
    "collapsed": false
   },
   "outputs": [],
   "source": [
    "train_generator = train_datagen.flow_from_directory(\n",
    "    train_data_dir,\n",
    "    classes = ['Type_1', 'Type_2', 'Type_3'],\n",
    "    target_size=(img_width, img_height),\n",
    "    batch_size=batch_size,\n",
    "    color_mode='rgb',\n",
    "    class_mode='categorical')\n",
    "\n",
    "validation_generator = test_datagen.flow_from_directory(\n",
    "    validation_data_dir,\n",
    "    classes = ['Type_1', 'Type_2', 'Type_3'],\n",
    "    target_size=(img_width, img_height),\n",
    "    batch_size=batch_size,\n",
    "    color_mode='rgb',\n",
    "    class_mode='categorical')"
   ]
  },
  {
   "cell_type": "code",
   "execution_count": null,
   "metadata": {
    "collapsed": false
   },
   "outputs": [],
   "source": [
    "np.round(model.predict_generator(validation_generator,steps=validation_steps)[:10],2)"
   ]
  },
  {
   "cell_type": "code",
   "execution_count": null,
   "metadata": {
    "collapsed": false
   },
   "outputs": [],
   "source": [
    "# Use this for preliminary timing on the AWS p2 instance, so can estimate a good size for the sample directory files\n",
    "import time\n",
    "start_time = time.time()"
   ]
  },
  {
   "cell_type": "code",
   "execution_count": null,
   "metadata": {
    "collapsed": false
   },
   "outputs": [],
   "source": [
    "# Calculate class weights\n",
    "# https://groups.google.com/forum/#!topic/keras-users/MUO6v3kRHUw\n",
    "def get_class_weight_dict(num_per_class_list):\n",
    "    max_class_num = max(num_per_class_list)\n",
    "    class_weight_dict ={}\n",
    "    for n, num in zip(range(0, len(num_per_class_list)), num_per_class_list):\n",
    "        class_weight_dict[n] = max_class_num / float(num)\n",
    "    return class_weight_dict\n",
    "        \n",
    "# Based on number of training images per Type in sample/train\n",
    "# !!! SAMPLE\n",
    "nb_per_class_list = [35,106,62]\n",
    "\n",
    "# !!! TRAIN\n",
    "#nb_per_class_list = [168, 524, 302]\n",
    "\n",
    "class_weight_dict = get_class_weight_dict([35, 106, 62])\n",
    "print(class_weight_dict)"
   ]
  },
  {
   "cell_type": "code",
   "execution_count": null,
   "metadata": {
    "collapsed": false,
    "scrolled": false
   },
   "outputs": [],
   "source": [
    "h = model.fit_generator(\n",
    "    train_generator,\n",
    "    steps_per_epoch=train_steps,\n",
    "    epochs=epochs,\n",
    "    validation_data=validation_generator,\n",
    "    validation_steps=validation_steps, \n",
    "    class_weight = class_weight_dict,\n",
    "    callbacks=callbacks_list,\n",
    "    verbose=1)"
   ]
  },
  {
   "cell_type": "code",
   "execution_count": null,
   "metadata": {
    "collapsed": false
   },
   "outputs": [],
   "source": [
    "# Use this for preliminary timing on the AWS p2 instance, so can estimate a good size for the sample directory files\n",
    "print(\"%f seconds\" % (time.time() - start_time))\n",
    "print('Total Images Processed ' , str(num_training_samples + num_validation_samples))\n",
    "print('Epochs :', str(h.epoch[-1]+ 1))"
   ]
  },
  {
   "cell_type": "code",
   "execution_count": null,
   "metadata": {
    "collapsed": false
   },
   "outputs": [],
   "source": [
    "utils.plot_learning(h)"
   ]
  },
  {
   "cell_type": "code",
   "execution_count": null,
   "metadata": {
    "collapsed": false
   },
   "outputs": [],
   "source": [
    "fns = utils.get_non_hidden_dir_contents(os.path.join(test_data_dir, 'unknown'))\n",
    "\n",
    "pred_gen = ImageDataGenerator(rescale=1. / 255,\n",
    "                             preprocessing_function=pink_cropper)\n",
    "\n",
    "# !!! SAMPLE\n",
    "pred_batch_size= 19\n",
    "pred_steps=11 # 57 x 9 = 513  #11 x 19 = 209 vs filenames/preds of 201\n",
    "\n",
    "pred_batch_size= 20\n",
    "pred_steps=1 # 57 x 9 = 513  #11 x 19 = 209 vs filenames/preds of 201\n",
    "\n",
    "\n",
    "# !!! TRAIN\n",
    "#pred_batch_size= 57\n",
    "#pred_steps=9 # 57 x 9 = 513  #11 x 19 = 209 vs filenames/preds of 201\n",
    "\n",
    "print('Batch x Steps = ',pred_batch_size * pred_steps , 'Tot Files = ',len(fns))\n",
    "\n",
    "pred_generator = pred_gen.flow_from_directory(\n",
    "    test_data_dir,\n",
    "    shuffle=False,\n",
    "    classes = ['unknown'],\n",
    "    target_size=(img_width, img_height),\n",
    "    batch_size=pred_batch_size,\n",
    "    color_mode='rgb',\n",
    "    class_mode='categorical')\n"
   ]
  },
  {
   "cell_type": "code",
   "execution_count": null,
   "metadata": {
    "collapsed": false
   },
   "outputs": [],
   "source": [
    "# !!! SAMPLE\n",
    "preds = model.predict_generator(pred_generator, steps = pred_steps)\n",
    "filenames = pred_generator.filenames"
   ]
  },
  {
   "cell_type": "code",
   "execution_count": null,
   "metadata": {
    "collapsed": false
   },
   "outputs": [],
   "source": [
    "# !!! SAMPLE\n",
    "df = pd.DataFrame(preds)\n",
    "df['image_name'] = [fn.split('/')[1] for fn in filenames]\n",
    "df['True_Type'] = [int(fn.split('/')[1].split('_')[0]) for fn in filenames]\n",
    "#print(df.columns)\n",
    "df.columns = ['Type_1', 'Type_2','Type_3','image_name','True_Type']\n",
    "df['Pred_Type'] = df[['Type_1','Type_2','Type_3']].idxmax(axis=1, skipna=True)\n",
    "df['Pred_Type'] = df['Pred_Type'].apply(lambda x: int(x.split('_')[-1]))\n",
    "df.columns = ['Type_1','Type_2','Type_3', 'image_name',  'True_Type', 'Pred_Type']\n",
    "print(df.head(25))"
   ]
  },
  {
   "cell_type": "code",
   "execution_count": null,
   "metadata": {
    "collapsed": false
   },
   "outputs": [],
   "source": [
    "# !!! SAMPLE\n",
    "true_y = df['True_Type'].values\n",
    "pred_y = df['Pred_Type'].values\n",
    "utils.plot_confusion_matrix(true_y, pred_y, array_labels=[1,2,3])"
   ]
  },
  {
   "cell_type": "code",
   "execution_count": null,
   "metadata": {
    "collapsed": false
   },
   "outputs": [],
   "source": [
    "utils.plot_response_distribution_known_class(df['Type_1'].values, df['Type_2'].values, df['Type_3'].values)    "
   ]
  },
  {
   "cell_type": "code",
   "execution_count": null,
   "metadata": {
    "collapsed": false
   },
   "outputs": [],
   "source": [
    "sub_df = utils.form_submission_df(preds, filenames)\n",
    "#utils.save_submission_csv(submission_dir,sub)\n",
    "sub_df.head()"
   ]
  },
  {
   "cell_type": "code",
   "execution_count": null,
   "metadata": {
    "collapsed": true
   },
   "outputs": [],
   "source": []
  },
  {
   "cell_type": "code",
   "execution_count": null,
   "metadata": {
    "collapsed": false
   },
   "outputs": [],
   "source": [
    "val_res = [model.evaluate_generator(rnd_batches, steps=validation_steps) for i in range(10)]\n",
    "np.round(val_res, 2)"
   ]
  },
  {
   "cell_type": "code",
   "execution_count": null,
   "metadata": {
    "collapsed": false
   },
   "outputs": [],
   "source": [
    "np.round(model.predict_generator(validation_generator,steps=validation_steps)[:10],2)"
   ]
  }
 ],
 "metadata": {
  "anaconda-cloud": {},
  "kernelspec": {
   "display_name": "Python [conda env:ana_py27_p2]",
   "language": "python",
   "name": "conda-env-ana_py27_p2-py"
  },
  "language_info": {
   "codemirror_mode": {
    "name": "ipython",
    "version": 2
   },
   "file_extension": ".py",
   "mimetype": "text/x-python",
   "name": "python",
   "nbconvert_exporter": "python",
   "pygments_lexer": "ipython2",
   "version": "2.7.12"
  }
 },
 "nbformat": 4,
 "nbformat_minor": 1
}
