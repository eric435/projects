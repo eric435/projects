{
 "cells": [
  {
   "cell_type": "code",
   "execution_count": 1,
   "metadata": {
    "collapsed": false
   },
   "outputs": [
    {
     "name": "stdout",
     "output_type": "stream",
     "text": [
      "System : Python  2.7.12 | packaged by conda-forge | (default, Sep  8 2016, 14:22:31) \n",
      "[GCC 4.8.2 20140120 (Red Hat 4.8.2-15)] \n",
      "\n",
      "\n",
      "Directory Structure:\n",
      "/home/ubuntu/ana_py27_p2/projects/CervicalCancer\n",
      ".\r\n",
      "├── data\r\n",
      "│   ├── additional_Type_1_v2.7z\r\n",
      "│   ├── additional_Type_3_v2.7z\r\n",
      "│   ├── additional_Type_2_v2.7z\r\n",
      "│   ├── train\r\n",
      "│   │   ├── Type_1 [250 entries exceeds filelimit, not opening dir]\r\n",
      "│   │   ├── Type_2 [781 entries exceeds filelimit, not opening dir]\r\n",
      "│   │   └── Type_3 [450 entries exceeds filelimit, not opening dir]\r\n",
      "│   ├── sample_submission.csv\r\n",
      "│   ├── test\r\n",
      "│   │   └── unknown [512 entries exceeds filelimit, not opening dir]\r\n",
      "│   ├── preview\r\n",
      "│   ├── results\r\n",
      "│   ├── downloads\r\n",
      "│   │   ├── sample_submission.csv.zip\r\n",
      "│   │   ├── test.7z\r\n",
      "│   │   └── train.7z\r\n",
      "│   ├── sample\r\n",
      "│   │   ├── preview\r\n",
      "│   │   ├── results\r\n",
      "│   │   ├── test\r\n",
      "│   │   │   └── unknown\r\n",
      "│   │   ├── train\r\n",
      "│   │   │   ├── Type_1 [38 entries exceeds filelimit, not opening dir]\r\n",
      "│   │   │   ├── Type_2 [117 entries exceeds filelimit, not opening dir]\r\n",
      "│   │   │   └── Type_3 [68 entries exceeds filelimit, not opening dir]\r\n",
      "│   │   └── valid\r\n",
      "│   │       ├── Type_1\r\n",
      "│   │       │   ├── 1014.jpg\r\n",
      "│   │       │   ├── 109.jpg\r\n",
      "│   │       │   ├── 1229.jpg\r\n",
      "│   │       │   ├── 1288.jpg\r\n",
      "│   │       │   ├── 1336.jpg\r\n",
      "│   │       │   ├── 215.jpg\r\n",
      "│   │       │   ├── 245.jpg\r\n",
      "│   │       │   ├── 254.jpg\r\n",
      "│   │       │   ├── 47.jpg\r\n",
      "│   │       │   ├── 516.jpg\r\n",
      "│   │       │   ├── 668.jpg\r\n",
      "│   │       │   └── 842.jpg\r\n",
      "│   │       ├── Type_2 [39 entries exceeds filelimit, not opening dir]\r\n",
      "│   │       └── Type_3 [22 entries exceeds filelimit, not opening dir]\r\n",
      "│   └── valid\r\n",
      "│       ├── Type_1\r\n",
      "│       ├── Type_2\r\n",
      "│       └── Type_3\r\n",
      "├── utils\r\n",
      "│   ├── __init__.py\r\n",
      "│   ├── __init__.pyc\r\n",
      "│   ├── utils.pyc\r\n",
      "│   └── utils.py\r\n",
      "├── 002 - Sample Setup.ipynb\r\n",
      "└── 001 - Initial Setup.ipynb\r\n",
      "\r\n",
      "28 directories, 25 files\r\n"
     ]
    },
    {
     "name": "stderr",
     "output_type": "stream",
     "text": [
      "Using Theano backend.\n"
     ]
    },
    {
     "name": "stdout",
     "output_type": "stream",
     "text": [
      "Couldn't import dot_parser, loading of dot files will not be possible.\n"
     ]
    },
    {
     "name": "stderr",
     "output_type": "stream",
     "text": [
      "WARNING (theano.sandbox.cuda): The cuda backend is deprecated and will be removed in the next release (v0.10).  Please switch to the gpuarray backend. You can get more information about how to switch at this URL:\n",
      " https://github.com/Theano/Theano/wiki/Converting-to-the-new-gpu-back-end%28gpuarray%29\n",
      "\n",
      "Using gpu device 0: Tesla K80 (CNMeM is disabled, cuDNN 5103)\n"
     ]
    },
    {
     "name": "stdout",
     "output_type": "stream",
     "text": [
      "\n",
      "\n",
      "Keras version: 2.0.2 , backend: theano , image_format: channels_last\n",
      "\n",
      "\n",
      "Environment : \n"
     ]
    },
    {
     "data": {
      "text/html": [
       "<a href='../../ana_py27_p2.yml' target='_blank'>../../ana_py27_p2.yml</a><br>"
      ],
      "text/plain": [
       "/home/ubuntu/ana_py27_p2/ana_py27_p2.yml"
      ]
     },
     "execution_count": 1,
     "metadata": {},
     "output_type": "execute_result"
    }
   ],
   "source": [
    "# Project Template Import Cell\n",
    "%matplotlib inline\n",
    "import os\n",
    "import sys\n",
    "\n",
    "from __future__ import print_function, division\n",
    "from inspect import getsourcefile\n",
    "\n",
    "from IPython.display import FileLink\n",
    "\n",
    "# Standard Notebook Imports\n",
    "import matplotlib.pyplot as plt\n",
    "import numpy as np\n",
    "import pandas as pd\n",
    "pd.set_option('display.width', 120)\n",
    "\n",
    "CURR_PATH = os.path.abspath(getsourcefile(lambda:0)).rsplit('/', 1)[0] # Get filepath of this notebook\n",
    "module_path = os.path.join(os.path.dirname(CURR_PATH), 'utils') # Make module path for one dir up and one down into utils\n",
    "if module_path not in sys.path: # Append to system path list\n",
    "    sys.path.append(module_path)\n",
    "\n",
    "import utils as utils ; reload(utils)\n",
    "\n",
    "print('System : Python ', os.sys.version , '\\n\\n')\n",
    "\n",
    "print('Directory Structure:')\n",
    "print(CURR_PATH)\n",
    "!tree -cn --filelimit 20\n",
    "\n",
    "# Keras Setup\n",
    "import keras\n",
    "print('\\n\\nKeras version:' , keras.__version__ ,\n",
    "      ', backend:' , keras.backend.backend(),\n",
    "      ', image_format:' , keras.backend.image_data_format())\n",
    "\n",
    "random_seed = 7\n",
    "\n",
    "print('\\n\\nEnvironment : ')\n",
    "FileLink('../../ana_py27_p2.yml')"
   ]
  },
  {
   "cell_type": "markdown",
   "metadata": {},
   "source": [
    "## Initial Setup\n",
    "1. Go to Kaggle - accept competition terms\n",
    "2. Using an environment? If so \n",
    "        `source activate some_env`\n",
    "3. `jupyter notebook` started in home or wherever - i.e. somewhere above where you keep project dirs\n",
    "4. Create project dir, and rename to \"CervicalCancer\"\n",
    "5. From Command Line\n",
    "6. Go into \"CervicalCancer\" dir \n",
    "        `cd CervicalCancer`\n",
    "7. Create dir \"data\" \n",
    "        `mkdir data`\n",
    "8. Move into \"data\" dir \n",
    "        `cd data`\n",
    "9. Use Kaggle cli to download 7z files\n",
    "        `kg download -u ntsdav561 -p Kirsten1 -c \"intel-mobileodt-cervical-cancer-screening\"`\n",
    "\n",
    "10. To install - `sudo apt-get install p7zip-full p7zip-rar`\n",
    "11. Extract files maintaining archive dir structure \n",
    "        `7z x filename.7z`\n",
    "12. Extract submission file \n",
    "        `unzip sample_submission.csv.zip`\n",
    "13. Make an 'unknown dir under test \n",
    "        `mkdir test/unknown`\n",
    "13. Move test files into unknown dir \n",
    "        `mv test/*.jpg test/unknown`\n",
    "14. Whilst Inside data dir, Create additional dirs\n",
    "        `mkdir downloads`\n",
    "        `mkdir preview`\n",
    "        `mkdir results`\n",
    "        `mkdir valid`\n",
    "16. Move compressed files into downloads\n",
    "        `mv sample_submission.csv.zip downloads/`\n",
    "        `mv test.7z downloads/`\n",
    "        `mv train.7z downloads/`\n",
    "19. Move up a directory - ie Cervical cancer dir \n",
    "        `cd ..`\n",
    "20. Copy directory structure at top level into data/data folder\n",
    "        `find data/ -type d | cpio -pd data/`\n",
    "22. Rename sub data folder to sample\n",
    "        `mv data/data/ data/sample/`\n",
    "24. Tidy up sample directory\n",
    "        `rmdir data/sample/downloads`\n",
    "25. Go Back To Jupyter Notebook Menu\n",
    "26. Create dir and rename to \"utils\"\n",
    "27. Inside utils dir create empty text files and rename to `__init__.py`, and utils.py\n",
    "28. Copy & paste utils code from local computer to utils.py\n",
    "29. Create a new Notebook under project directory and rename to `001 - Initial Setup`"
   ]
  },
  {
   "cell_type": "code",
   "execution_count": 2,
   "metadata": {
    "collapsed": false
   },
   "outputs": [
    {
     "name": "stdout",
     "output_type": "stream",
     "text": [
      ".\r\n",
      "├── data\r\n",
      "│   ├── train\r\n",
      "│   │   ├── Type_1\r\n",
      "│   │   ├── Type_2\r\n",
      "│   │   └── Type_3\r\n",
      "│   ├── test\r\n",
      "│   │   └── unknown\r\n",
      "│   ├── preview\r\n",
      "│   ├── results\r\n",
      "│   ├── downloads\r\n",
      "│   ├── sample\r\n",
      "│   │   ├── preview\r\n",
      "│   │   ├── results\r\n",
      "│   │   ├── test\r\n",
      "│   │   │   └── unknown\r\n",
      "│   │   ├── train\r\n",
      "│   │   │   ├── Type_1\r\n",
      "│   │   │   ├── Type_2\r\n",
      "│   │   │   └── Type_3\r\n",
      "│   │   └── valid\r\n",
      "│   │       ├── Type_1\r\n",
      "│   │       ├── Type_2\r\n",
      "│   │       └── Type_3\r\n",
      "│   └── valid\r\n",
      "│       ├── Type_1\r\n",
      "│       ├── Type_2\r\n",
      "│       └── Type_3\r\n",
      "└── utils\r\n",
      "\r\n",
      "28 directories\r\n"
     ]
    }
   ],
   "source": [
    "!tree -dcn"
   ]
  },
  {
   "cell_type": "code",
   "execution_count": 7,
   "metadata": {
    "collapsed": true
   },
   "outputs": [],
   "source": [
    "# Set up main validation directories\n",
    "utils.copy_dir_structure('data/train', 'data/valid')"
   ]
  },
  {
   "cell_type": "code",
   "execution_count": 8,
   "metadata": {
    "collapsed": true
   },
   "outputs": [],
   "source": [
    "# Set up sample validation directories\n",
    "utils.copy_dir_structure('data/train', 'data/sample/valid')"
   ]
  },
  {
   "cell_type": "code",
   "execution_count": 1,
   "metadata": {
    "collapsed": false
   },
   "outputs": [
    {
     "name": "stdout",
     "output_type": "stream",
     "text": [
      "/home/ubuntu/ana_py27_p2/projects/CervicalCancer\n",
      ".\n",
      "├── data\n",
      "│   ├── train\n",
      "│   │   ├── Type_1\n",
      "│   │   ├── Type_2\n",
      "│   │   └── Type_3\n",
      "│   ├── test\n",
      "│   │   └── unknown\n",
      "│   ├── preview\n",
      "│   ├── results\n",
      "│   ├── downloads\n",
      "│   ├── sample\n",
      "│   │   ├── preview\n",
      "│   │   ├── results\n",
      "│   │   ├── test\n",
      "│   │   │   └── unknown\n",
      "│   │   ├── train\n",
      "│   │   │   ├── Type_1\n",
      "│   │   │   ├── Type_2\n",
      "│   │   │   └── Type_3\n",
      "│   │   └── valid\n",
      "│   │       ├── Type_1\n",
      "│   │       ├── Type_2\n",
      "│   │       └── Type_3\n",
      "│   └── valid\n",
      "│       ├── Type_1\n",
      "│       ├── Type_2\n",
      "│       └── Type_3\n",
      "└── utils\n",
      "\n",
      "28 directories\n"
     ]
    }
   ],
   "source": [
    "!pwd\n",
    "!tree -dcn"
   ]
  },
  {
   "cell_type": "markdown",
   "metadata": {},
   "source": [
    "### Open CV Setup / Install"
   ]
  },
  {
   "cell_type": "markdown",
   "metadata": {},
   "source": [
    "http://www.pyimagesearch.com/2016/10/24/ubuntu-16-04-how-to-install-opencv/\n",
    "\n",
    "`$ sudo apt-get update`\n",
    "\n",
    "`$ sudo apt-get upgrade`\n",
    "\n",
    "`$ sudo apt-get install build-essential cmake pkg-config`\n",
    "\n",
    "`$ sudo apt-get install libjpeg8-dev libtiff5-dev libjasper-dev libpng12-dev`\n",
    "\n",
    "`$ sudo apt-get install libgtk-3-dev`\n",
    "\n",
    " \t\n",
    "`$ sudo apt-get install libatlas-base-dev gfortran`\n",
    "\n",
    "http://stackoverflow.com/questions/23119413/how-to-install-python-opencv-through-conda\n",
    "\n",
    "conda install --channel https://conda.anaconda.org/menpo opencv3"
   ]
  },
  {
   "cell_type": "code",
   "execution_count": 4,
   "metadata": {
    "collapsed": true
   },
   "outputs": [],
   "source": [
    "import cv2"
   ]
  },
  {
   "cell_type": "markdown",
   "metadata": {
    "collapsed": true
   },
   "source": [
    "#### Make Submissions Directory\n",
    "\n",
    "`!mkdir data/submissions`\n",
    "\n",
    "`!mv data/sample_submission.csv data/submissions/sample_submission_000|.csv`"
   ]
  },
  {
   "cell_type": "code",
   "execution_count": null,
   "metadata": {
    "collapsed": true
   },
   "outputs": [],
   "source": []
  }
 ],
 "metadata": {
  "anaconda-cloud": {},
  "kernelspec": {
   "display_name": "Python [conda env:ana_py27_p2]",
   "language": "python",
   "name": "conda-env-ana_py27_p2-py"
  },
  "language_info": {
   "codemirror_mode": {
    "name": "ipython",
    "version": 2
   },
   "file_extension": ".py",
   "mimetype": "text/x-python",
   "name": "python",
   "nbconvert_exporter": "python",
   "pygments_lexer": "ipython2",
   "version": "2.7.12"
  }
 },
 "nbformat": 4,
 "nbformat_minor": 1
}
