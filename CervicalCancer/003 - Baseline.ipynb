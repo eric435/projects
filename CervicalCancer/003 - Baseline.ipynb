{
 "cells": [
  {
   "cell_type": "code",
   "execution_count": 1,
   "metadata": {
    "collapsed": false
   },
   "outputs": [
    {
     "name": "stderr",
     "output_type": "stream",
     "text": [
      "Using Theano backend.\n",
      "WARNING (theano.sandbox.cuda): The cuda backend is deprecated and will be removed in the next release (v0.10).  Please switch to the gpuarray backend. You can get more information about how to switch at this URL:\n",
      " https://github.com/Theano/Theano/wiki/Converting-to-the-new-gpu-back-end%28gpuarray%29\n",
      "\n"
     ]
    },
    {
     "name": "stdout",
     "output_type": "stream",
     "text": [
      "Couldn't import dot_parser, loading of dot files will not be possible.\n"
     ]
    },
    {
     "name": "stderr",
     "output_type": "stream",
     "text": [
      "Using gpu device 0: Tesla K80 (CNMeM is disabled, cuDNN 5103)\n"
     ]
    },
    {
     "name": "stdout",
     "output_type": "stream",
     "text": [
      "System : Python  2.7.12 | packaged by conda-forge | (default, Sep  8 2016, 14:22:31) \n",
      "[GCC 4.8.2 20140120 (Red Hat 4.8.2-15)] \n",
      "\n",
      "\n",
      "Directory Structure:\n",
      "/home/ubuntu/ana_py27_p2/projects/CervicalCancer\n",
      ".\n",
      "├── data\n",
      "│   ├── additional_Type_1_v2.7z\n",
      "│   ├── additional_Type_3_v2.7z\n",
      "│   ├── additional_Type_2_v2.7z\n",
      "│   ├── train\n",
      "│   │   ├── Type_1 [250 entries exceeds filelimit, not opening dir]\n",
      "│   │   ├── Type_2 [781 entries exceeds filelimit, not opening dir]\n",
      "│   │   └── Type_3 [450 entries exceeds filelimit, not opening dir]\n",
      "│   ├── test\n",
      "│   │   └── unknown [512 entries exceeds filelimit, not opening dir]\n",
      "│   ├── preview\n",
      "│   ├── results\n",
      "│   ├── downloads\n",
      "│   │   ├── sample_submission.csv.zip\n",
      "│   │   ├── test.7z\n",
      "│   │   └── train.7z\n",
      "│   ├── sample\n",
      "│   │   ├── preview\n",
      "│   │   ├── results\n",
      "│   │   ├── train\n",
      "│   │   │   ├── Type_1 [80 entries exceeds filelimit, not opening dir]\n",
      "│   │   │   ├── Type_2 [249 entries exceeds filelimit, not opening dir]\n",
      "│   │   │   └── Type_3 [144 entries exceeds filelimit, not opening dir]\n",
      "│   │   ├── valid\n",
      "│   │   │   ├── Type_1 [61 entries exceeds filelimit, not opening dir]\n",
      "│   │   │   ├── Type_2 [191 entries exceeds filelimit, not opening dir]\n",
      "│   │   │   └── Type_3 [110 entries exceeds filelimit, not opening dir]\n",
      "│   │   └── test\n",
      "│   │       └── unknown [201 entries exceeds filelimit, not opening dir]\n",
      "│   ├── valid\n",
      "│   │   ├── Type_1\n",
      "│   │   ├── Type_2\n",
      "│   │   └── Type_3\n",
      "│   └── submissions\n",
      "│       ├── sample_submission_000.csv\n",
      "│       ├── sub_001.csv\n",
      "│       └── sub_002.csv\n",
      "├── 001 - Initial Setup.ipynb\n",
      "├── utils\n",
      "│   ├── __init__.py\n",
      "│   ├── __init__.pyc\n",
      "│   ├── utils.py\n",
      "│   └── utils.pyc\n",
      "├── 002 - Sample Setup.ipynb\n",
      "├── 004 - Small Convnet from Scratch - 1.ipynb\n",
      "└── 003 - Baseline.ipynb\n",
      "\n",
      "29 directories, 17 files\n",
      "\n",
      "\n",
      "Keras version: 2.0.2 , backend: theano , image_format: channels_last\n",
      "\n",
      "\n",
      "Environment : \n"
     ]
    },
    {
     "data": {
      "text/html": [
       "<a href='../../ana_py27_p2.yml' target='_blank'>../../ana_py27_p2.yml</a><br>"
      ],
      "text/plain": [
       "/home/ubuntu/ana_py27_p2/ana_py27_p2.yml"
      ]
     },
     "execution_count": 1,
     "metadata": {},
     "output_type": "execute_result"
    }
   ],
   "source": [
    "# Project Template Import Cell\n",
    "%matplotlib inline\n",
    "import os\n",
    "import sys\n",
    "import math\n",
    "\n",
    "from __future__ import print_function, division\n",
    "from inspect import getsourcefile\n",
    "\n",
    "from IPython.display import FileLink\n",
    "\n",
    "# Standard Notebook Imports\n",
    "import matplotlib.pyplot as plt\n",
    "import numpy as np\n",
    "import pandas as pd\n",
    "\n",
    "CURR_PATH = os.path.abspath(getsourcefile(lambda:0)).rsplit('/', 1)[0] # Get filepath of this notebook\n",
    "module_path = os.path.join(os.path.dirname(CURR_PATH), 'utils') # Make module path for one dir up and one down into utils\n",
    "if module_path not in sys.path: # Append to system path list\n",
    "    sys.path.append(module_path)\n",
    "\n",
    "import utils as utils ; reload(utils)\n",
    "\n",
    "print('System : Python ', os.sys.version , '\\n\\n')\n",
    "\n",
    "print('Directory Structure:')\n",
    "print(CURR_PATH)\n",
    "!tree -cn --filelimit 12\n",
    "\n",
    "# Keras Setup\n",
    "import keras\n",
    "print('\\n\\nKeras version:' , keras.__version__ ,\n",
    "      ', backend:' , keras.backend.backend(),\n",
    "      ', image_format:' , keras.backend.image_data_format())\n",
    "\n",
    "random_seed = 7\n",
    "\n",
    "print('\\n\\nEnvironment : ')\n",
    "FileLink('../../ana_py27_p2.yml')"
   ]
  },
  {
   "cell_type": "code",
   "execution_count": 2,
   "metadata": {
    "collapsed": false
   },
   "outputs": [
    {
     "data": {
      "text/html": [
       "<div>\n",
       "<table border=\"1\" class=\"dataframe\">\n",
       "  <thead>\n",
       "    <tr style=\"text-align: right;\">\n",
       "      <th></th>\n",
       "      <th>image_name</th>\n",
       "      <th>Type_1</th>\n",
       "      <th>Type_2</th>\n",
       "      <th>Type_3</th>\n",
       "    </tr>\n",
       "  </thead>\n",
       "  <tbody>\n",
       "    <tr>\n",
       "      <th>0</th>\n",
       "      <td>0.jpg</td>\n",
       "      <td>0.168805</td>\n",
       "      <td>0.527346</td>\n",
       "      <td>0.303849</td>\n",
       "    </tr>\n",
       "    <tr>\n",
       "      <th>1</th>\n",
       "      <td>1.jpg</td>\n",
       "      <td>0.168805</td>\n",
       "      <td>0.527346</td>\n",
       "      <td>0.303849</td>\n",
       "    </tr>\n",
       "    <tr>\n",
       "      <th>2</th>\n",
       "      <td>2.jpg</td>\n",
       "      <td>0.168805</td>\n",
       "      <td>0.527346</td>\n",
       "      <td>0.303849</td>\n",
       "    </tr>\n",
       "    <tr>\n",
       "      <th>3</th>\n",
       "      <td>3.jpg</td>\n",
       "      <td>0.168805</td>\n",
       "      <td>0.527346</td>\n",
       "      <td>0.303849</td>\n",
       "    </tr>\n",
       "    <tr>\n",
       "      <th>4</th>\n",
       "      <td>4.jpg</td>\n",
       "      <td>0.168805</td>\n",
       "      <td>0.527346</td>\n",
       "      <td>0.303849</td>\n",
       "    </tr>\n",
       "  </tbody>\n",
       "</table>\n",
       "</div>"
      ],
      "text/plain": [
       "  image_name    Type_1    Type_2    Type_3\n",
       "0      0.jpg  0.168805  0.527346  0.303849\n",
       "1      1.jpg  0.168805  0.527346  0.303849\n",
       "2      2.jpg  0.168805  0.527346  0.303849\n",
       "3      3.jpg  0.168805  0.527346  0.303849\n",
       "4      4.jpg  0.168805  0.527346  0.303849"
      ]
     },
     "execution_count": 2,
     "metadata": {},
     "output_type": "execute_result"
    }
   ],
   "source": [
    "sub = pd.read_csv('data/submissions/sample_submission_000.csv')\n",
    "sub.head()"
   ]
  },
  {
   "cell_type": "code",
   "execution_count": 3,
   "metadata": {
    "collapsed": false
   },
   "outputs": [
    {
     "data": {
      "text/html": [
       "<div>\n",
       "<table border=\"1\" class=\"dataframe\">\n",
       "  <thead>\n",
       "    <tr style=\"text-align: right;\">\n",
       "      <th></th>\n",
       "      <th>Type_1</th>\n",
       "      <th>Type_2</th>\n",
       "      <th>Type_3</th>\n",
       "    </tr>\n",
       "  </thead>\n",
       "  <tbody>\n",
       "    <tr>\n",
       "      <th>count</th>\n",
       "      <td>5.120000e+02</td>\n",
       "      <td>5.120000e+02</td>\n",
       "      <td>5.120000e+02</td>\n",
       "    </tr>\n",
       "    <tr>\n",
       "      <th>mean</th>\n",
       "      <td>1.688049e-01</td>\n",
       "      <td>5.273464e-01</td>\n",
       "      <td>3.038488e-01</td>\n",
       "    </tr>\n",
       "    <tr>\n",
       "      <th>std</th>\n",
       "      <td>5.834371e-16</td>\n",
       "      <td>1.555832e-15</td>\n",
       "      <td>1.055743e-15</td>\n",
       "    </tr>\n",
       "    <tr>\n",
       "      <th>min</th>\n",
       "      <td>1.688049e-01</td>\n",
       "      <td>5.273464e-01</td>\n",
       "      <td>3.038488e-01</td>\n",
       "    </tr>\n",
       "    <tr>\n",
       "      <th>25%</th>\n",
       "      <td>1.688049e-01</td>\n",
       "      <td>5.273464e-01</td>\n",
       "      <td>3.038488e-01</td>\n",
       "    </tr>\n",
       "    <tr>\n",
       "      <th>50%</th>\n",
       "      <td>1.688049e-01</td>\n",
       "      <td>5.273464e-01</td>\n",
       "      <td>3.038488e-01</td>\n",
       "    </tr>\n",
       "    <tr>\n",
       "      <th>75%</th>\n",
       "      <td>1.688049e-01</td>\n",
       "      <td>5.273464e-01</td>\n",
       "      <td>3.038488e-01</td>\n",
       "    </tr>\n",
       "    <tr>\n",
       "      <th>max</th>\n",
       "      <td>1.688049e-01</td>\n",
       "      <td>5.273464e-01</td>\n",
       "      <td>3.038488e-01</td>\n",
       "    </tr>\n",
       "  </tbody>\n",
       "</table>\n",
       "</div>"
      ],
      "text/plain": [
       "             Type_1        Type_2        Type_3\n",
       "count  5.120000e+02  5.120000e+02  5.120000e+02\n",
       "mean   1.688049e-01  5.273464e-01  3.038488e-01\n",
       "std    5.834371e-16  1.555832e-15  1.055743e-15\n",
       "min    1.688049e-01  5.273464e-01  3.038488e-01\n",
       "25%    1.688049e-01  5.273464e-01  3.038488e-01\n",
       "50%    1.688049e-01  5.273464e-01  3.038488e-01\n",
       "75%    1.688049e-01  5.273464e-01  3.038488e-01\n",
       "max    1.688049e-01  5.273464e-01  3.038488e-01"
      ]
     },
     "execution_count": 3,
     "metadata": {},
     "output_type": "execute_result"
    }
   ],
   "source": [
    "sub.describe()"
   ]
  },
  {
   "cell_type": "raw",
   "metadata": {},
   "source": [
    "All numbers same for each type - This matches number of sample in training set?\n",
    "\n",
    "├── data\n",
    "│   ├── train\n",
    "│   │   ├── Type_1 [250 entries exceeds filelimit, not opening dir]\n",
    "│   │   ├── Type_2 [781 entries exceeds filelimit, not opening dir]\n",
    "│   │   └── Type_3 [450 entries exceeds filelimit, not opening dir]"
   ]
  },
  {
   "cell_type": "code",
   "execution_count": 5,
   "metadata": {
    "collapsed": false
   },
   "outputs": [
    {
     "name": "stdout",
     "output_type": "stream",
     "text": [
      "0.16880486158\n",
      "0.527346387576\n",
      "0.303848750844\n"
     ]
    }
   ],
   "source": [
    "print(250/(250+781+450))\n",
    "print(781/(250+781+450))\n",
    "print(450/(250+781+450))"
   ]
  },
  {
   "cell_type": "code",
   "execution_count": 6,
   "metadata": {
    "collapsed": false
   },
   "outputs": [
    {
     "name": "stdout",
     "output_type": "stream",
     "text": [
      "   image_name    Type_1    Type_2    Type_3\n",
      "0       0.jpg  0.168805  0.527346  0.303849\n",
      "1       1.jpg  0.168805  0.527346  0.303849\n",
      "2       2.jpg  0.168805  0.527346  0.303849\n",
      "3       3.jpg  0.168805  0.527346  0.303849\n",
      "4       4.jpg  0.168805  0.527346  0.303849\n",
      "5       5.jpg  0.168805  0.527346  0.303849\n",
      "6       6.jpg  0.168805  0.527346  0.303849\n",
      "7       7.jpg  0.168805  0.527346  0.303849\n",
      "8       8.jpg  0.168805  0.527346  0.303849\n",
      "9       9.jpg  0.168805  0.527346  0.303849\n",
      "10     10.jpg  0.168805  0.527346  0.303849\n",
      "11     11.jpg  0.168805  0.527346  0.303849\n",
      "12     12.jpg  0.168805  0.527346  0.303849\n"
     ]
    }
   ],
   "source": [
    "# Create a submisssion file using training prevalence rates as probabilities\n",
    "test_filenames = [f.split('/')[-1] for f in utils.get_non_hidden_dir_contents('data/test/unknown')]\n",
    "\n",
    "# file number ascending numerical order\n",
    "test_filenames.sort(key = lambda fn: int(fn.split('.')[0]))\n",
    "type_1_probs = [250/(250+781+450)]* len(test_filenames)\n",
    "type_2_probs = [781/(250+781+450)]* len(test_filenames)\n",
    "type_3_probs = [450/(250+781+450)]* len(test_filenames)\n",
    "\n",
    "sub_001 = pd.DataFrame(data={'image_name':test_filenames, 'Type_1':type_1_probs, \n",
    "                             'Type_2':type_2_probs, 'Type_3':type_3_probs})\n",
    "\n",
    "cols_ordered = list(sub_001.columns) ; cols_ordered.sort(key = lambda c: c.lower())\n",
    "sub_001 = sub_001.reindex_axis(cols_ordered, axis=1)\n",
    "\n",
    "print(sub_001.head(13))\n",
    "#sub_001.to_csv('data/submissions/sub_001.csv', index=False)"
   ]
  },
  {
   "cell_type": "markdown",
   "metadata": {},
   "source": [
    "Use Kaggle cli to submit\n",
    "\n",
    "`kg submit sub_001.csv -u username -p password -c \"intel-mobileodt-cervical-cancer-screening\" -m \"001\"`\n",
    "\n",
    "This gives a score of 1.00575"
   ]
  },
  {
   "cell_type": "code",
   "execution_count": 7,
   "metadata": {
    "collapsed": false
   },
   "outputs": [
    {
     "name": "stdout",
     "output_type": "stream",
     "text": [
      "   image_name    Type_1    Type_2    Type_3\n",
      "0       0.jpg  0.333333  0.333333  0.333333\n",
      "1       1.jpg  0.333333  0.333333  0.333333\n",
      "2       2.jpg  0.333333  0.333333  0.333333\n",
      "3       3.jpg  0.333333  0.333333  0.333333\n",
      "4       4.jpg  0.333333  0.333333  0.333333\n",
      "5       5.jpg  0.333333  0.333333  0.333333\n",
      "6       6.jpg  0.333333  0.333333  0.333333\n",
      "7       7.jpg  0.333333  0.333333  0.333333\n",
      "8       8.jpg  0.333333  0.333333  0.333333\n",
      "9       9.jpg  0.333333  0.333333  0.333333\n",
      "10     10.jpg  0.333333  0.333333  0.333333\n",
      "11     11.jpg  0.333333  0.333333  0.333333\n",
      "12     12.jpg  0.333333  0.333333  0.333333\n"
     ]
    }
   ],
   "source": [
    "# What about submitting using even probabilities?\n",
    "\n",
    "sub_002 = pd.read_csv('data/submissions/sub_001.csv')\n",
    "sub_002['Type_1'] = 1/3 ; sub_002['Type_2'] = 1/3  ; sub_002['Type_3'] = 1/3\n",
    "print(sub_002.head(13))\n",
    "#sub_002.to_csv('data/submissions/sub_002.csv', index=False)"
   ]
  },
  {
   "cell_type": "markdown",
   "metadata": {},
   "source": [
    "Use Kaggle cli to submit\n",
    "\n",
    "`kg submit sub_002.csv -u username -p password -c \"intel-mobileodt-cervical-cancer-screening\" -m \"002\"`\n",
    "\n",
    "This gives a score of 1.09861"
   ]
  },
  {
   "cell_type": "markdown",
   "metadata": {},
   "source": [
    "The score gets slightly worse when submitting balanced probabilities\n",
    "\n",
    "This could mean that the prevalence of cases is approximately proportional to the proportion of training instances for each cancer type\n",
    "\n",
    "May be able to use this for final review of probabilities, prior to submission"
   ]
  },
  {
   "cell_type": "code",
   "execution_count": null,
   "metadata": {
    "collapsed": true
   },
   "outputs": [],
   "source": []
  }
 ],
 "metadata": {
  "anaconda-cloud": {},
  "kernelspec": {
   "display_name": "Python [conda env:ana_py27_p2]",
   "language": "python",
   "name": "conda-env-ana_py27_p2-py"
  },
  "language_info": {
   "codemirror_mode": {
    "name": "ipython",
    "version": 2
   },
   "file_extension": ".py",
   "mimetype": "text/x-python",
   "name": "python",
   "nbconvert_exporter": "python",
   "pygments_lexer": "ipython2",
   "version": "2.7.12"
  }
 },
 "nbformat": 4,
 "nbformat_minor": 1
}
