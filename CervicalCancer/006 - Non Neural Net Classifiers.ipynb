{
 "cells": [
  {
   "cell_type": "code",
   "execution_count": 1,
   "metadata": {
    "collapsed": false
   },
   "outputs": [
    {
     "name": "stderr",
     "output_type": "stream",
     "text": [
      "Using Theano backend.\n"
     ]
    },
    {
     "name": "stdout",
     "output_type": "stream",
     "text": [
      "Couldn't import dot_parser, loading of dot files will not be possible.\n"
     ]
    },
    {
     "name": "stderr",
     "output_type": "stream",
     "text": [
      "WARNING (theano.sandbox.cuda): The cuda backend is deprecated and will be removed in the next release (v0.10).  Please switch to the gpuarray backend. You can get more information about how to switch at this URL:\n",
      " https://github.com/Theano/Theano/wiki/Converting-to-the-new-gpu-back-end%28gpuarray%29\n",
      "\n",
      "Using gpu device 0: Tesla K80 (CNMeM is disabled, cuDNN 5103)\n"
     ]
    },
    {
     "name": "stdout",
     "output_type": "stream",
     "text": [
      "System : Python  2.7.12 | packaged by conda-forge | (default, Sep  8 2016, 14:22:31) \n",
      "[GCC 4.8.2 20140120 (Red Hat 4.8.2-15)] \n",
      "\n",
      "\n",
      "Directory Structure:\n",
      "/home/ubuntu/ana_py27_p2/projects/CervicalCancer\n",
      ".\n",
      "├── unused_utils\n",
      "│   ├── __init__.py\n",
      "│   ├── __init__.pyc\n",
      "│   ├── utils.pyc\n",
      "│   └── unused_utils.py\n",
      "├── __init__.py\n",
      "├── 001 - Initial Setup.ipynb\n",
      "├── data\n",
      "│   ├── additional_Type_1_v2.7z\n",
      "│   ├── additional_Type_3_v2.7z\n",
      "│   ├── additional_Type_2_v2.7z\n",
      "│   ├── train\n",
      "│   │   ├── Type_1 [168 entries exceeds filelimit, not opening dir]\n",
      "│   │   ├── Type_2 [524 entries exceeds filelimit, not opening dir]\n",
      "│   │   └── Type_3 [302 entries exceeds filelimit, not opening dir]\n",
      "│   ├── test\n",
      "│   │   └── unknown [512 entries exceeds filelimit, not opening dir]\n",
      "│   ├── preview\n",
      "│   ├── downloads\n",
      "│   │   ├── sample_submission.csv.zip\n",
      "│   │   ├── test.7z\n",
      "│   │   └── train.7z\n",
      "│   ├── valid\n",
      "│   │   ├── Type_1 [82 entries exceeds filelimit, not opening dir]\n",
      "│   │   ├── Type_2 [257 entries exceeds filelimit, not opening dir]\n",
      "│   │   └── Type_3 [148 entries exceeds filelimit, not opening dir]\n",
      "│   ├── sample\n",
      "│   │   ├── preview\n",
      "│   │   ├── train\n",
      "│   │   │   ├── Type_1 [80 entries exceeds filelimit, not opening dir]\n",
      "│   │   │   ├── Type_2 [249 entries exceeds filelimit, not opening dir]\n",
      "│   │   │   └── Type_3 [144 entries exceeds filelimit, not opening dir]\n",
      "│   │   ├── valid\n",
      "│   │   │   ├── Type_1 [61 entries exceeds filelimit, not opening dir]\n",
      "│   │   │   ├── Type_2 [191 entries exceeds filelimit, not opening dir]\n",
      "│   │   │   └── Type_3 [110 entries exceeds filelimit, not opening dir]\n",
      "│   │   ├── test\n",
      "│   │   │   └── unknown [201 entries exceeds filelimit, not opening dir]\n",
      "│   │   └── weights\n",
      "│   │       ├── weights-improvement-00-0.22.hdf5\n",
      "│   │       ├── weights-improvement-01-0.35.hdf5\n",
      "│   │       ├── weights-improvement-03-0.36.hdf5\n",
      "│   │       ├── weights-improvement-06-0.45.hdf5\n",
      "│   │       ├── weights-improvement-07-0.47.hdf5\n",
      "│   │       ├── BaseCNN35EpochRun_1.hdf5\n",
      "│   │       ├── weights2-improvement-00-0.30.hdf5\n",
      "│   │       ├── weights2-improvement-01-0.37.hdf5\n",
      "│   │       ├── weights2-improvement-05-0.43.hdf5\n",
      "│   │       ├── weights2-improvement-11-0.46.hdf5\n",
      "│   │       └── weights2-improvement-12-0.50.hdf5\n",
      "│   ├── submissions\n",
      "│   │   ├── sample_submission_000.csv\n",
      "│   │   ├── sub_001.csv\n",
      "│   │   ├── sub_002.csv\n",
      "│   │   ├── sub_003.csv\n",
      "│   │   ├── sub_004.csv\n",
      "│   │   └── sub_005.csv\n",
      "│   └── weights [22 entries exceeds filelimit, not opening dir]\n",
      "├── 002 - Data Setup & General Notes.ipynb\n",
      "├── 003 - Baseline.ipynb\n",
      "├── Trash\n",
      "│   ├── 002-01 - Train Data (only) Setup.ipynb\n",
      "│   └── Base CNN Model Train Data with Preprocessing.ipynb\n",
      "├── Gradient Boosting Classifier.ipynb\n",
      "├── 004-1 - Base CNN Model - Sample.ipynb\n",
      "├── 004-2 - Base CNN Model - Train Data.ipynb\n",
      "├── 005 - Exploratoring the Data.ipynb\n",
      "└── Non Neural Net Classifiers.ipynb\n",
      "\n",
      "30 directories, 38 files\n",
      "\n",
      "\n",
      "Keras version: 2.0.2 , backend: theano , image_format: channels_last\n",
      "\n",
      "\n",
      "Environment : \n"
     ]
    },
    {
     "data": {
      "text/html": [
       "<a href='../../ana_py27_p2.yml' target='_blank'>../../ana_py27_p2.yml</a><br>"
      ],
      "text/plain": [
       "/home/ubuntu/ana_py27_p2/ana_py27_p2.yml"
      ]
     },
     "execution_count": 1,
     "metadata": {},
     "output_type": "execute_result"
    }
   ],
   "source": [
    "# Project Template Import Cell\n",
    "%matplotlib inline\n",
    "import os\n",
    "import sys\n",
    "import math\n",
    "\n",
    "from __future__ import print_function, division\n",
    "from inspect import getsourcefile\n",
    "\n",
    "from IPython.display import FileLink\n",
    "\n",
    "# Standard Notebook Imports\n",
    "import matplotlib.pyplot as plt\n",
    "import numpy as np\n",
    "import pandas as pd\n",
    "\n",
    "CURR_PATH = os.path.abspath(getsourcefile(lambda:0)).rsplit('/', 1)[0] # Get filepath of this notebook\n",
    "module_path = os.path.join(os.path.dirname(CURR_PATH), 'utils') # Make module path for one dir up and one down into utils\n",
    "if module_path not in sys.path: # Append to system path list\n",
    "    sys.path.append(module_path)\n",
    "\n",
    "import utils as utils ; reload(utils)\n",
    "\n",
    "print('System : Python ', os.sys.version , '\\n\\n')\n",
    "\n",
    "print('Directory Structure:')\n",
    "print(CURR_PATH)\n",
    "!tree -cn --filelimit 12\n",
    "\n",
    "# Keras Setup\n",
    "import keras\n",
    "print('\\n\\nKeras version:' , keras.__version__ ,\n",
    "      ', backend:' , keras.backend.backend(),\n",
    "      ', image_format:' , keras.backend.image_data_format())\n",
    "\n",
    "random_seed = 2\n",
    "\n",
    "print('\\n\\nEnvironment : ')\n",
    "FileLink('../../ana_py27_p2.yml')"
   ]
  },
  {
   "cell_type": "code",
   "execution_count": 2,
   "metadata": {
    "collapsed": true
   },
   "outputs": [],
   "source": [
    "# A fix for truncated image error\n",
    "# http://stackoverflow.com/questions/12984426/python-pil-ioerror-image-file-truncated-with-big-images\n",
    "from PIL import ImageFile\n",
    "ImageFile.LOAD_TRUNCATED_IMAGES = True"
   ]
  },
  {
   "cell_type": "code",
   "execution_count": 3,
   "metadata": {
    "collapsed": false
   },
   "outputs": [],
   "source": [
    "# http://www.pyimagesearch.com/2016/08/08/k-nn-classifier-for-image-classification/\n",
    "# http://opencv-python-tutroals.readthedocs.io/\n",
    "#                                 en/latest/py_tutorials/py_ml/py_knn/py_knn_opencv/py_knn_opencv.html#knn-opencv\n",
    "import cv2\n",
    "from sklearn.svm import SVC\n",
    "from sklearn.svm import NuSVC\n",
    "from sklearn.neighbors import KNeighborsClassifier\n",
    "from sklearn.neighbors import NearestCentroid\n",
    "from sklearn.naive_bayes import GaussianNB\n",
    "from sklearn.naive_bayes import MultinomialNB\n",
    "from sklearn.tree import DecisionTreeClassifier\n",
    "from sklearn.ensemble import RandomForestClassifier\n",
    "from sklearn.ensemble import ExtraTreesClassifier\n",
    "from sklearn.ensemble import GradientBoostingClassifier\n",
    "\n",
    "from sklearn.ensemble import VotingClassifier # Use after a few classifiers have been selected\n",
    "\n",
    "from sklearn.preprocessing import FunctionTransformer\n",
    "from sklearn.pipeline import Pipeline\n",
    "from sklearn.cross_validation import cross_val_score\n",
    "from sklearn.cross_validation import StratifiedKFold"
   ]
  },
  {
   "cell_type": "code",
   "execution_count": 4,
   "metadata": {
    "collapsed": false
   },
   "outputs": [
    {
     "name": "stdout",
     "output_type": "stream",
     "text": [
      "Test Images\n",
      "201\n",
      "['data/sample/test/unknown/3_1409.jpg', 'data/sample/test/unknown/2_1046.jpg', 'data/sample/test/unknown/2_933.jpg', 'data/sample/test/unknown/2_1407.jpg']\n",
      "Classified Images\n",
      "835\n",
      "['data/sample/train/Type_2/905.jpg', 'data/sample/train/Type_2/1180.jpg', 'data/sample/train/Type_2/777.jpg', 'data/sample/train/Type_2/1313.jpg']\n"
     ]
    }
   ],
   "source": [
    "# Get Image Paths\n",
    "\n",
    "# !!!SAMPLE\n",
    "train_data_dir = 'data/sample/train' ; validation_data_dir = 'data/sample/valid' ; test_data_dir = 'data/sample/test'\n",
    "weights_dir = 'data/sample/weights'\n",
    "\n",
    "# !!!TRAIN\n",
    "#train_data_dir = 'data/train' ; validation_data_dir = 'data/valid' ; test_data_dir = 'data/test' \n",
    "#weights_dir = 'data/weights' ; submission_dir = 'data/submissions'\n",
    "\n",
    "# Make a list of test_image_paths\n",
    "test_image_paths = utils.get_non_hidden_dir_contents(os.path.join(test_data_dir, 'unknown'))\n",
    "print('Test Images')\n",
    "print(len(test_image_paths))\n",
    "print(test_image_paths[0:4])\n",
    "\n",
    "\n",
    "# Make a list of all classified image paths\n",
    "data_dirs = utils.get_non_hidden_dir_contents(train_data_dir)\n",
    "data_dirs.extend(utils.get_non_hidden_dir_contents(validation_data_dir))\n",
    "# Make a nested list and flatten it\n",
    "full_image_paths = sum([[image_path for image_path in utils.get_non_hidden_dir_contents(data_dir)] \n",
    "                       for data_dir in data_dirs],[])\n",
    "print('Classified Images')\n",
    "print(len(full_image_paths))\n",
    "print(full_image_paths[0:4])"
   ]
  },
  {
   "cell_type": "code",
   "execution_count": 5,
   "metadata": {
    "collapsed": false
   },
   "outputs": [
    {
     "name": "stdout",
     "output_type": "stream",
     "text": [
      "                                path  Type\n",
      "0   data/sample/train/Type_2/905.jpg     1\n",
      "1  data/sample/train/Type_2/1180.jpg     1\n",
      "                                 path  Type\n",
      "833  data/sample/valid/Type_1/783.jpg     0\n",
      "834   data/sample/valid/Type_1/57.jpg     0\n"
     ]
    }
   ],
   "source": [
    "# Make a DataFrame for convenience\n",
    "data_df = pd.DataFrame(full_image_paths, columns =['path'])\n",
    "data_df['Type'] = data_df['path'].apply(lambda x: int(x.split('/')[-2].split('_')[1])-1)\n",
    "\n",
    "print(data_df.head(2))\n",
    "print(data_df.tail(2))\n",
    "# Shuffle the DataFrame before taking a sample\n",
    "data_df = data_df.sample(frac=1,random_state=random_seed)\n",
    "\n",
    "\n",
    "# Take sample\n",
    "#data_df = data_df.head(100)"
   ]
  },
  {
   "cell_type": "code",
   "execution_count": 6,
   "metadata": {
    "collapsed": false
   },
   "outputs": [
    {
     "name": "stdout",
     "output_type": "stream",
     "text": [
      "data/sample/valid/Type_1/751.jpg\n",
      "[0 1 2 2]\n",
      "<type 'numpy.ndarray'>\n"
     ]
    }
   ],
   "source": [
    "import cv2\n",
    "# Split into Train & Test Samples\n",
    "X = data_df['path'].values\n",
    "y = data_df['Type'].values\n",
    "skf = StratifiedKFold(y, shuffle=True, n_folds = 10, random_state=random_seed)\n",
    "print(X[0:1][0])\n",
    "print(y[0:4])\n",
    "hsv = cv2.imread(X[0:1][0])\n",
    "print(type(X[0:1]))"
   ]
  },
  {
   "cell_type": "code",
   "execution_count": 7,
   "metadata": {
    "collapsed": false
   },
   "outputs": [
    {
     "name": "stdout",
     "output_type": "stream",
     "text": [
      "{0: 3.119047619047619, 1: 1.0, 2: 1.7350993377483444}\n"
     ]
    }
   ],
   "source": [
    "class_weight_dict = utils.get_class_weight_dict([168, 524, 302])\n",
    "print(class_weight_dict) # = {1: 3.03, 2: 1.0, 3: 1.71}"
   ]
  },
  {
   "cell_type": "code",
   "execution_count": 8,
   "metadata": {
    "collapsed": false
   },
   "outputs": [],
   "source": [
    "# http://stackoverflow.com/questions/31259891/put-customized-functions-in-sklearn-pipeline\n",
    "# Feature extraction function\n",
    "from sklearn.base import BaseEstimator, TransformerMixin\n",
    "\n",
    "class Extract_Color_Histogram(BaseEstimator, TransformerMixin):\n",
    "    def __init__(self, bin_s = 8, size=32):\n",
    "        self.bin_s = bin_s\n",
    "        self.size=size\n",
    "    def transform(self, X, *_):\n",
    "        \"\"\"\n",
    "        Accepts X a numpy array of image paths\n",
    "        cv2.resize(img, (32,32).flatten()\n",
    "        \n",
    "        \"\"\"\n",
    "        # To store data as it is being generated\n",
    "        X_data = []\n",
    "        for image_path in X:\n",
    "            img_array = cv2.imread(image_path)#, cv2.COLOR_BGR2HSV)\n",
    "            # Resize downwards\n",
    "            img_array = cv2.resize(img_array, (self.size,self.size))\n",
    "            # Convert to hsv space\n",
    "            hsv = cv2.cvtColor(img_array, cv2.COLOR_BGR2HSV)\n",
    "            # Get the hsv histograms\n",
    "            hist = cv2.calcHist([hsv], [0,1,2], None, (self.bin_s,self.bin_s,self.bin_s), [0, 180, 0, 256, 0,256])\n",
    "            # Normalize the histograms\n",
    "            cv2.normalize(hist, hist)\n",
    "            # Flatten the histograms\n",
    "            X_data.append(hist.flatten())\n",
    "        ret_array = np.array(X_data)\n",
    "        return ret_array\n",
    "    def fit(self, *_):\n",
    "        return self"
   ]
  },
  {
   "cell_type": "code",
   "execution_count": 9,
   "metadata": {
    "collapsed": true
   },
   "outputs": [],
   "source": [
    "# Create the pipeline\n",
    "etc_estimators = []\n",
    "etc_estimators.append(('Extract_Color_Histogram', Extract_Color_Histogram()))\n",
    "etc_estimators.append(('ExtraTreesClassifier', ExtraTreesClassifier(criterion='gini',\n",
    "                                                                n_estimators=20,\n",
    "                                                                oob_score = True,\n",
    "                                                                bootstrap=True, \n",
    "                                                                n_jobs=-1,\n",
    "                                                                class_weight='balanced_subsample',\n",
    "                                                                random_state = random_seed)))\n",
    "etc_clf = Pipeline(etc_estimators)"
   ]
  },
  {
   "cell_type": "code",
   "execution_count": 10,
   "metadata": {
    "collapsed": false
   },
   "outputs": [],
   "source": [
    "# Create the pipeline\n",
    "svc_estimators = []\n",
    "svc_estimators.append(('Extract_Color_Histogram', Extract_Color_Histogram()))\n",
    "svc_estimators.append(('SVC', SVC(C = 0.01,\n",
    "                                  kernel='rbf',\n",
    "                                  degree = 3,\n",
    "                                  probability=True,\n",
    "                                  decision_function_shape='ovr', \n",
    "                                  class_weight=class_weight_dict,\n",
    "                                  random_state = random_seed)))\n",
    "svc_clf = Pipeline(svc_estimators)"
   ]
  },
  {
   "cell_type": "code",
   "execution_count": 11,
   "metadata": {
    "collapsed": false
   },
   "outputs": [],
   "source": [
    "# Create the pipeline\n",
    "knn_estimators = []\n",
    "knn_estimators.append(('Extract_Color_Histogram', Extract_Color_Histogram()))\n",
    "knn_estimators.append(('SVC', KNeighborsClassifier(n_neighbors = 5,\n",
    "                                                   weights='distance',\n",
    "                                                   algorithm='auto',\n",
    "                                                   n_jobs = -1)))\n",
    "knn_clf = Pipeline(knn_estimators)"
   ]
  },
  {
   "cell_type": "code",
   "execution_count": 12,
   "metadata": {
    "collapsed": false
   },
   "outputs": [],
   "source": [
    "# Create the pipeline\n",
    "gnb_estimators = []\n",
    "gnb_estimators.append(('Extract_Color_Histogram', Extract_Color_Histogram()))\n",
    "gnb_estimators.append(('GNB', GaussianNB()))\n",
    "gnb_clf = Pipeline(gnb_estimators)"
   ]
  },
  {
   "cell_type": "code",
   "execution_count": 13,
   "metadata": {
    "collapsed": false
   },
   "outputs": [],
   "source": [
    "# Create the pipeline\n",
    "rfc_estimators = []\n",
    "rfc_estimators.append(('Extract_Color_Histogram', Extract_Color_Histogram()))\n",
    "rfc_estimators.append(('RFC', RandomForestClassifier(n_estimators=20,\n",
    "                                                     criterion='entropy',\n",
    "                                                     random_state=random_seed,\n",
    "                                                     warm_start=True,\n",
    "                                                     class_weight = class_weight_dict,\n",
    "                                                     bootstrap=True,\n",
    "                                                     oob_score=True,\n",
    "                                                     n_jobs = -1)))\n",
    "rcf_clf = Pipeline(rfc_estimators)"
   ]
  },
  {
   "cell_type": "code",
   "execution_count": 14,
   "metadata": {
    "collapsed": false
   },
   "outputs": [],
   "source": [
    "# Create the pipeline\n",
    "gbc_estimators = []\n",
    "gbc_estimators.append(('Extract_Color_Histogram', Extract_Color_Histogram()))\n",
    "gbc_estimators.append(('RFC', GradientBoostingClassifier(loss='deviance',\n",
    "                                                         learning_rate=0.1,\n",
    "                                                         n_estimators=20,\n",
    "                                                         max_depth=3,\n",
    "                                                         max_features='auto',\n",
    "                                                         warm_start=True,\n",
    "                                                         random_state=random_seed)))\n",
    "gbc_clf = Pipeline(gbc_estimators)"
   ]
  },
  {
   "cell_type": "code",
   "execution_count": 15,
   "metadata": {
    "collapsed": true
   },
   "outputs": [],
   "source": [
    "# Use this for preliminary timing on the AWS p2 instance, so can estimate a good size for the sample directory files\n",
    "import time\n",
    "start_time = time.time()"
   ]
  },
  {
   "cell_type": "code",
   "execution_count": 16,
   "metadata": {
    "collapsed": false
   },
   "outputs": [
    {
     "name": "stdout",
     "output_type": "stream",
     "text": [
      "Part Completed [ 0.5294  0.5595  0.5476  0.5357  0.5301  0.5904  0.5663  0.5663  0.5783\n",
      "  0.5422]\n",
      "Part Completed [ 0.5176  0.1667  0.1667  0.1667  0.3012  0.3012  0.3012  0.3012  0.3012\n",
      "  0.3012]\n",
      "Part Completed [ 0.4471  0.4286  0.5952  0.619   0.4458  0.5422  0.5181  0.5783  0.506\n",
      "  0.5301]\n",
      "Part Completed [ 0.3647  0.3452  0.3452  0.4167  0.3133  0.4337  0.3373  0.4458  0.4096\n",
      "  0.3012]\n",
      "Part Completed [ 0.5647  0.5119  0.619   0.6071  0.4337  0.5542  0.5181  0.5904  0.5663\n",
      "  0.4819]\n",
      "Part Completed [ 0.5765  0.4643  0.5833  0.5476  0.3976  0.5422  0.5663  0.5422  0.6145\n",
      "  0.5783]\n"
     ]
    }
   ],
   "source": [
    "all_names = ['ETC', 'SVC', 'KNN', 'GNB', 'RCF', 'GBC']\n",
    "all_results = []\n",
    "all_results.append(cross_val_score(etc_clf, X, y, cv=skf))\n",
    "print('Part Completed', all_results[-1])\n",
    "all_results.append(cross_val_score(svc_clf, X, y, cv=skf))\n",
    "print('Part Completed', all_results[-1])\n",
    "all_results.append(cross_val_score(knn_clf, X, y, cv=skf))\n",
    "print('Part Completed', all_results[-1])\n",
    "all_results.append(cross_val_score(gnb_clf, X, y, cv=skf))\n",
    "print('Part Completed', all_results[-1])\n",
    "all_results.append(cross_val_score(rcf_clf, X, y, cv=skf))\n",
    "print('Part Completed', all_results[-1])\n",
    "all_results.append(cross_val_score(gbc_clf, X, y, cv=skf))\n",
    "print('Part Completed', all_results[-1])"
   ]
  },
  {
   "cell_type": "code",
   "execution_count": 17,
   "metadata": {
    "collapsed": false
   },
   "outputs": [
    {
     "data": {
      "image/png": "[encoded data removed]",
      "text/plain": [
       "<matplotlib.figure.Figure at 0x7fcf2acc6e90>"
      ]
     },
     "metadata": {},
     "output_type": "display_data"
    }
   ],
   "source": [
    "# Plot Results\n",
    "fig = plt.figure(figsize=(10,5))\n",
    "fig.suptitle('Learner Accuracy Scores')\n",
    "ax = fig.add_subplot(111)\n",
    "plt.boxplot(all_results)\n",
    "ax.set_xticklabels(all_names)\n",
    "plt.show();"
   ]
  },
  {
   "cell_type": "code",
   "execution_count": 18,
   "metadata": {
    "collapsed": false
   },
   "outputs": [
    {
     "name": "stdout",
     "output_type": "stream",
     "text": [
      "10636.559404 seconds\n",
      "Total Images Processed 835\n"
     ]
    }
   ],
   "source": [
    "# Use this for preliminary timing on the AWS p2 instance, so can estimate a good size for the sample directory files\n",
    "print(\"%f seconds\" % (time.time() - start_time))\n",
    "print('Total Images Processed %d'  % y.shape[0])"
   ]
  },
  {
   "cell_type": "code",
   "execution_count": null,
   "metadata": {
    "collapsed": true
   },
   "outputs": [],
   "source": []
  },
  {
   "cell_type": "code",
   "execution_count": null,
   "metadata": {
    "collapsed": true
   },
   "outputs": [],
   "source": []
  }
 ],
 "metadata": {
  "anaconda-cloud": {},
  "kernelspec": {
   "display_name": "Python [conda env:ana_py27_p2]",
   "language": "python",
   "name": "conda-env-ana_py27_p2-py"
  },
  "language_info": {
   "codemirror_mode": {
    "name": "ipython",
    "version": 2
   },
   "file_extension": ".py",
   "mimetype": "text/x-python",
   "name": "python",
   "nbconvert_exporter": "python",
   "pygments_lexer": "ipython2",
   "version": "2.7.12"
  }
 },
 "nbformat": 4,
 "nbformat_minor": 1
}
