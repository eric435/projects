{
 "cells": [
  {
   "cell_type": "markdown",
   "metadata": {},
   "source": [
    "### Summary\n",
    "\n",
    "This competition has two sets of data - a set of training data, and a set of additional data\n",
    "\n",
    "The data will be set up like this:\n",
    "+ Sample - A subset of the training data - Use for preliminary testing\n",
    "+ Train Data - As per the Train Data Files from Kaggle - Use for more rigorous testing and submissions\n",
    "+ Full Data - The Train + the additional data - not sure how to set this up yet - Use for very rigorous testing and final submissions. Only use once a methodology has been proven using smaller data sets\n"
   ]
  },
  {
   "cell_type": "code",
   "execution_count": 4,
   "metadata": {
    "collapsed": false
   },
   "outputs": [
    {
     "name": "stdout",
     "output_type": "stream",
     "text": [
      "System : Python  2.7.12 | packaged by conda-forge | (default, Sep  8 2016, 14:22:31) \n",
      "[GCC 4.8.2 20140120 (Red Hat 4.8.2-15)] \n",
      "\n",
      "\n",
      "Directory Structure:\n",
      "/home/ubuntu/ana_py27_p2/projects/CervicalCancer\n",
      ".\n",
      "├── 003 - Small Convnet from Scratch - 1.ipynb\n",
      "├── data\n",
      "│   ├── additional_Type_1_v2.7z\n",
      "│   ├── additional_Type_3_v2.7z\n",
      "│   ├── additional_Type_2_v2.7z\n",
      "│   ├── train\n",
      "│   │   ├── Type_1 [250 entries exceeds filelimit, not opening dir]\n",
      "│   │   ├── Type_2 [781 entries exceeds filelimit, not opening dir]\n",
      "│   │   └── Type_3 [450 entries exceeds filelimit, not opening dir]\n",
      "│   ├── test\n",
      "│   │   └── unknown [512 entries exceeds filelimit, not opening dir]\n",
      "│   ├── preview\n",
      "│   ├── results\n",
      "│   ├── downloads\n",
      "│   │   ├── sample_submission.csv.zip\n",
      "│   │   ├── test.7z\n",
      "│   │   └── train.7z\n",
      "│   ├── sample\n",
      "│   │   ├── preview\n",
      "│   │   ├── results\n",
      "│   │   ├── test\n",
      "│   │   │   └── unknown\n",
      "│   │   ├── train\n",
      "│   │   │   ├── Type_1\n",
      "│   │   │   ├── Type_2\n",
      "│   │   │   └── Type_3\n",
      "│   │   └── valid\n",
      "│   │       ├── Type_1\n",
      "│   │       ├── Type_2\n",
      "│   │       └── Type_3\n",
      "│   ├── valid\n",
      "│   │   ├── Type_1\n",
      "│   │   ├── Type_2\n",
      "│   │   └── Type_3\n",
      "│   └── submissions\n",
      "│       ├── sample_submission_000.csv\n",
      "│       ├── sub_001.csv\n",
      "│       └── sub_002.csv\n",
      "├── 001 - Initial Setup.ipynb\n",
      "├── 002 - Sample Setup.ipynb\n",
      "└── utils\n",
      "    ├── __init__.py\n",
      "    ├── __init__.pyc\n",
      "    ├── utils.py\n",
      "    └── utils.pyc\n",
      "\n",
      "29 directories, 16 files\n",
      "\n",
      "\n",
      "Keras version: 2.0.2 , backend: theano , image_format: channels_last\n",
      "\n",
      "\n",
      "Environment : \n",
      "['', '/home/ubuntu/anaconda2/envs/ana_py27_p2/lib/python27.zip', '/home/ubuntu/anaconda2/envs/ana_py27_p2/lib/python2.7', '/home/ubuntu/anaconda2/envs/ana_py27_p2/lib/python2.7/plat-linux2', '/home/ubuntu/anaconda2/envs/ana_py27_p2/lib/python2.7/lib-tk', '/home/ubuntu/anaconda2/envs/ana_py27_p2/lib/python2.7/lib-old', '/home/ubuntu/anaconda2/envs/ana_py27_p2/lib/python2.7/lib-dynload', '/home/ubuntu/anaconda2/envs/ana_py27_p2/lib/python2.7/site-packages', '/home/ubuntu/anaconda2/envs/ana_py27_p2/lib/python2.7/site-packages/contextlib2-0.5.3-py2.7.egg', '/home/ubuntu/anaconda2/envs/ana_py27_p2/lib/python2.7/site-packages/cycler-0.10.0-py2.7.egg', '/home/ubuntu/anaconda2/envs/ana_py27_p2/lib/python2.7/site-packages/IPython/extensions', '/home/ubuntu/.ipython', '/home/ubuntu/ana_py27_p2/projects/utils']\n"
     ]
    }
   ],
   "source": [
    "# Project Template Import Cell\n",
    "%matplotlib inline\n",
    "import os\n",
    "import sys\n",
    "\n",
    "from __future__ import print_function, division\n",
    "from inspect import getsourcefile\n",
    "\n",
    "from IPython.display import FileLink\n",
    "\n",
    "# Standard Notebook Imports\n",
    "import matplotlib.pyplot as plt\n",
    "import numpy as np\n",
    "import pandas as pd\n",
    "pd.set_option('display.width', 120)\n",
    "\n",
    "CURR_PATH = os.path.abspath(getsourcefile(lambda:0)).rsplit('/', 1)[0] # Get filepath of this notebook\n",
    "module_path = os.path.join(os.path.dirname(CURR_PATH), 'utils') # Make module path for one dir up and one down into utils\n",
    "if module_path not in sys.path: # Append to system path list\n",
    "    sys.path.append(module_path)\n",
    "\n",
    "import utils as utils ; reload(utils)\n",
    "\n",
    "print('System : Python ', os.sys.version , '\\n\\n')\n",
    "\n",
    "print('Directory Structure:')\n",
    "print(CURR_PATH)\n",
    "!tree -cn --filelimit 20\n",
    "\n",
    "# Keras Setup\n",
    "import keras\n",
    "print('\\n\\nKeras version:' , keras.__version__ ,\n",
    "      ', backend:' , keras.backend.backend(),\n",
    "      ', image_format:' , keras.backend.image_data_format())\n",
    "\n",
    "random_seed = 7\n",
    "\n",
    "print('\\n\\nEnvironment : ')\n",
    "FileLink('../../ana_py27_p2.yml')"
   ]
  },
  {
   "cell_type": "code",
   "execution_count": 3,
   "metadata": {
    "collapsed": false
   },
   "outputs": [
    {
     "name": "stdout",
     "output_type": "stream",
     "text": [
      "/home/ubuntu/nbs/CervicalCancer\n",
      ".\n",
      "├── utils\n",
      "│   ├── __init__.py\n",
      "│   ├── utils.py\n",
      "│   ├── __init__.pyc\n",
      "│   └── utils.pyc\n",
      "├── data\n",
      "│   ├── fixed_labels_v2.csv.zip\n",
      "│   ├── removed_files.csv.zip\n",
      "│   ├── additional_Type_1_v2.7z\n",
      "│   ├── additional_Type_3_v2.7z\n",
      "│   ├── additional_Type_2_v2.7z\n",
      "│   ├── train\n",
      "│   │   ├── Type_1 [250 entries exceeds filelimit, not opening dir]\n",
      "│   │   ├── Type_2 [781 entries exceeds filelimit, not opening dir]\n",
      "│   │   └── Type_3 [450 entries exceeds filelimit, not opening dir]\n",
      "│   ├── sample_submission.csv\n",
      "│   ├── test\n",
      "│   │   └── unknown [512 entries exceeds filelimit, not opening dir]\n",
      "│   ├── preview\n",
      "│   ├── results\n",
      "│   ├── downloads\n",
      "│   │   ├── sample_submission.csv.zip\n",
      "│   │   ├── test.7z\n",
      "│   │   └── train.7z\n",
      "│   ├── sample\n",
      "│   │   ├── preview\n",
      "│   │   ├── results\n",
      "│   │   ├── test\n",
      "│   │   │   └── unknown\n",
      "│   │   ├── train\n",
      "│   │   │   ├── Type_1\n",
      "│   │   │   ├── Type_2\n",
      "│   │   │   └── Type_3\n",
      "│   │   └── valid\n",
      "│   │       ├── Type_1\n",
      "│   │       ├── Type_2\n",
      "│   │       └── Type_3\n",
      "│   └── valid\n",
      "│       ├── Type_1\n",
      "│       ├── Type_2\n",
      "│       └── Type_3\n",
      "├── 001 - Initial Setup.ipynb\n",
      "└── 002 - Sample Setup.ipynb\n",
      "\n",
      "28 directories, 15 files\n"
     ]
    }
   ],
   "source": [
    "# Directory Structure\n",
    "!pwd\n",
    "!tree -cn --filelimit 13"
   ]
  },
  {
   "cell_type": "code",
   "execution_count": 5,
   "metadata": {
    "collapsed": false
   },
   "outputs": [],
   "source": [
    "!rm data/fixed_labels_v2.csv.zip\n",
    "!rm data/removed_files.csv.zip"
   ]
  },
  {
   "cell_type": "code",
   "execution_count": 8,
   "metadata": {
    "collapsed": false
   },
   "outputs": [
    {
     "name": "stdout",
     "output_type": "stream",
     "text": [
      "/home/ubuntu/ana_py27_p2/projects/CervicalCancer\n",
      ".\n",
      "├── 003 - Small Convnet from Scratch - 1.ipynb\n",
      "├── data\n",
      "│   ├── additional_Type_1_v2.7z\n",
      "│   ├── additional_Type_3_v2.7z\n",
      "│   ├── additional_Type_2_v2.7z\n",
      "│   ├── train\n",
      "│   │   ├── Type_1 [250 entries exceeds filelimit, not opening dir]\n",
      "│   │   ├── Type_2 [781 entries exceeds filelimit, not opening dir]\n",
      "│   │   └── Type_3 [450 entries exceeds filelimit, not opening dir]\n",
      "│   ├── test\n",
      "│   │   └── unknown [512 entries exceeds filelimit, not opening dir]\n",
      "│   ├── preview\n",
      "│   ├── results\n",
      "│   ├── downloads\n",
      "│   │   ├── sample_submission.csv.zip\n",
      "│   │   ├── test.7z\n",
      "│   │   └── train.7z\n",
      "│   ├── sample\n",
      "│   │   ├── preview\n",
      "│   │   ├── results\n",
      "│   │   ├── test\n",
      "│   │   │   └── unknown\n",
      "│   │   ├── train\n",
      "│   │   │   ├── Type_1 [114 entries exceeds filelimit, not opening dir]\n",
      "│   │   │   ├── Type_2 [355 entries exceeds filelimit, not opening dir]\n",
      "│   │   │   └── Type_3 [205 entries exceeds filelimit, not opening dir]\n",
      "│   │   └── valid\n",
      "│   │       ├── Type_1 [61 entries exceeds filelimit, not opening dir]\n",
      "│   │       ├── Type_2 [191 entries exceeds filelimit, not opening dir]\n",
      "│   │       └── Type_3 [110 entries exceeds filelimit, not opening dir]\n",
      "│   ├── valid\n",
      "│   │   ├── Type_1\n",
      "│   │   ├── Type_2\n",
      "│   │   └── Type_3\n",
      "│   └── submissions\n",
      "│       ├── sample_submission_000.csv\n",
      "│       ├── sub_001.csv\n",
      "│       └── sub_002.csv\n",
      "├── 001 - Initial Setup.ipynb\n",
      "├── utils\n",
      "│   ├── __init__.py\n",
      "│   ├── __init__.pyc\n",
      "│   ├── utils.py\n",
      "│   └── utils.pyc\n",
      "└── 002 - Sample Setup.ipynb\n",
      "\n",
      "29 directories, 16 files\n"
     ]
    }
   ],
   "source": [
    "# Directory Structure\n",
    "!pwd\n",
    "!tree -cn --filelimit 13"
   ]
  },
  {
   "cell_type": "markdown",
   "metadata": {},
   "source": [
    "### Sample Setup"
   ]
  },
  {
   "cell_type": "code",
   "execution_count": 5,
   "metadata": {
    "collapsed": false
   },
   "outputs": [],
   "source": [
    "# 1481 Images - Copy ~ 70% from main data set into sample training data set\n",
    "utils.sample_files('data/train', 'data/sample/train', sample_proportion = 0.70, copy_only=True)"
   ]
  },
  {
   "cell_type": "code",
   "execution_count": 7,
   "metadata": {
    "collapsed": true
   },
   "outputs": [],
   "source": [
    "# Now move about 40% of sample training files into sample valid directory\n",
    "utils.sample_files('data/sample/train', 'data/sample/valid', sample_proportion = 0.35, copy_only=False)"
   ]
  },
  {
   "cell_type": "code",
   "execution_count": 9,
   "metadata": {
    "collapsed": false
   },
   "outputs": [
    {
     "name": "stdout",
     "output_type": "stream",
     "text": [
      "/home/ubuntu/ana_py27_p2/projects/CervicalCancer\n",
      ".\n",
      "├── 003 - Small Convnet from Scratch - 1.ipynb\n",
      "├── data\n",
      "│   ├── additional_Type_1_v2.7z\n",
      "│   ├── additional_Type_3_v2.7z\n",
      "│   ├── additional_Type_2_v2.7z\n",
      "│   ├── train\n",
      "│   │   ├── Type_1 [250 entries exceeds filelimit, not opening dir]\n",
      "│   │   ├── Type_2 [781 entries exceeds filelimit, not opening dir]\n",
      "│   │   └── Type_3 [450 entries exceeds filelimit, not opening dir]\n",
      "│   ├── test\n",
      "│   │   └── unknown [512 entries exceeds filelimit, not opening dir]\n",
      "│   ├── preview\n",
      "│   ├── results\n",
      "│   ├── downloads\n",
      "│   │   ├── sample_submission.csv.zip\n",
      "│   │   ├── test.7z\n",
      "│   │   └── train.7z\n",
      "│   ├── sample\n",
      "│   │   ├── preview\n",
      "│   │   ├── results\n",
      "│   │   ├── test\n",
      "│   │   │   └── unknown\n",
      "│   │   ├── train\n",
      "│   │   │   ├── Type_1 [114 entries exceeds filelimit, not opening dir]\n",
      "│   │   │   ├── Type_2 [355 entries exceeds filelimit, not opening dir]\n",
      "│   │   │   └── Type_3 [205 entries exceeds filelimit, not opening dir]\n",
      "│   │   └── valid\n",
      "│   │       ├── Type_1 [61 entries exceeds filelimit, not opening dir]\n",
      "│   │       ├── Type_2 [191 entries exceeds filelimit, not opening dir]\n",
      "│   │       └── Type_3 [110 entries exceeds filelimit, not opening dir]\n",
      "│   ├── valid\n",
      "│   │   ├── Type_1\n",
      "│   │   ├── Type_2\n",
      "│   │   └── Type_3\n",
      "│   └── submissions\n",
      "│       ├── sample_submission_000.csv\n",
      "│       ├── sub_001.csv\n",
      "│       └── sub_002.csv\n",
      "├── 001 - Initial Setup.ipynb\n",
      "├── utils\n",
      "│   ├── __init__.py\n",
      "│   ├── __init__.pyc\n",
      "│   ├── utils.py\n",
      "│   └── utils.pyc\n",
      "└── 002 - Sample Setup.ipynb\n",
      "\n",
      "29 directories, 16 files\n"
     ]
    }
   ],
   "source": [
    "# Directory Structure\n",
    "!pwd\n",
    "!tree -cn --filelimit 11"
   ]
  },
  {
   "cell_type": "code",
   "execution_count": null,
   "metadata": {
    "collapsed": true
   },
   "outputs": [],
   "source": [
    "# Move images into the sample/test/unknown folder to simulate predictions on the real Kaggle test set\n",
    "# These images will not be included in the sample/train, or sample/valid directories\n",
    "# They will be renamed to incorporate their class .ie If 1.jpg is a Type_2 it will be renamed to 2_1.jpg "
   ]
  },
  {
   "cell_type": "code",
   "execution_count": 10,
   "metadata": {
    "collapsed": true
   },
   "outputs": [],
   "source": [
    "# Now move about 30% of sample training files into test unknown directory\n",
    "#Create some parallel directories under test next to unknown\n",
    "utils.copy_dir_structure('data/sample/train', 'data/sample/test')\n",
    "# Move the files\n",
    "utils.sample_files('data/sample/train', 'data/sample/test', sample_proportion = 0.30, copy_only=False)"
   ]
  },
  {
   "cell_type": "markdown",
   "metadata": {},
   "source": [
    "Bash Command Line stuff to rename files in sample/test directories\n",
    "\n",
    "`! cd data/sample/test/Type_1`\n",
    "\n",
    "`! ls`\n",
    "\n",
    "`! for f in * ; do mv \"$f\" \"1_$f\" ; done`\n",
    "\n",
    "`! ls`\n",
    "\n",
    "Repeat for each Class directory !!!-Remember to change prefix in mini-script-!!!\n",
    "\n",
    "After all renamed go to test directory\n",
    "\n",
    "`! mv Type_1/* unknown`\n",
    "\n",
    "Do this for the other class directories\n",
    "\n",
    "`! rm -r Type_1`\n",
    "\n",
    "Do this for the other class Directories"
   ]
  },
  {
   "cell_type": "code",
   "execution_count": 11,
   "metadata": {
    "collapsed": false
   },
   "outputs": [
    {
     "name": "stdout",
     "output_type": "stream",
     "text": [
      "/home/ubuntu/ana_py27_p2/projects/CervicalCancer\n",
      ".\n",
      "├── 003 - Small Convnet from Scratch - 1.ipynb\n",
      "├── data\n",
      "│   ├── additional_Type_1_v2.7z\n",
      "│   ├── additional_Type_3_v2.7z\n",
      "│   ├── additional_Type_2_v2.7z\n",
      "│   ├── train\n",
      "│   │   ├── Type_1 [250 entries exceeds filelimit, not opening dir]\n",
      "│   │   ├── Type_2 [781 entries exceeds filelimit, not opening dir]\n",
      "│   │   └── Type_3 [450 entries exceeds filelimit, not opening dir]\n",
      "│   ├── test\n",
      "│   │   └── unknown [512 entries exceeds filelimit, not opening dir]\n",
      "│   ├── preview\n",
      "│   ├── results\n",
      "│   ├── downloads\n",
      "│   │   ├── sample_submission.csv.zip\n",
      "│   │   ├── test.7z\n",
      "│   │   └── train.7z\n",
      "│   ├── sample\n",
      "│   │   ├── preview\n",
      "│   │   ├── results\n",
      "│   │   ├── train\n",
      "│   │   │   ├── Type_1 [80 entries exceeds filelimit, not opening dir]\n",
      "│   │   │   ├── Type_2 [249 entries exceeds filelimit, not opening dir]\n",
      "│   │   │   └── Type_3 [144 entries exceeds filelimit, not opening dir]\n",
      "│   │   ├── valid\n",
      "│   │   │   ├── Type_1 [61 entries exceeds filelimit, not opening dir]\n",
      "│   │   │   ├── Type_2 [191 entries exceeds filelimit, not opening dir]\n",
      "│   │   │   └── Type_3 [110 entries exceeds filelimit, not opening dir]\n",
      "│   │   └── test\n",
      "│   │       └── unknown [201 entries exceeds filelimit, not opening dir]\n",
      "│   ├── valid\n",
      "│   │   ├── Type_1\n",
      "│   │   ├── Type_2\n",
      "│   │   └── Type_3\n",
      "│   └── submissions\n",
      "│       ├── sample_submission_000.csv\n",
      "│       ├── sub_001.csv\n",
      "│       └── sub_002.csv\n",
      "├── 001 - Initial Setup.ipynb\n",
      "├── utils\n",
      "│   ├── __init__.py\n",
      "│   ├── __init__.pyc\n",
      "│   ├── utils.py\n",
      "│   └── utils.pyc\n",
      "└── 002 - Sample Setup.ipynb\n",
      "\n",
      "29 directories, 16 files\n"
     ]
    }
   ],
   "source": [
    "# Directory Structure\n",
    "!pwd\n",
    "!tree -cn --filelimit 11"
   ]
  },
  {
   "cell_type": "markdown",
   "metadata": {},
   "source": [
    "### Train Data Setup\n",
    "\n",
    "This is an update - This setup was only done, after it was determined that the sample data was big enough to enable useful testing"
   ]
  },
  {
   "cell_type": "code",
   "execution_count": null,
   "metadata": {
    "collapsed": true
   },
   "outputs": [],
   "source": [
    "# Now move about 1/3 of sample training files into sample valid directory\n",
    "utils.sample_files('data/train', 'data/valid', sample_proportion = 0.33, copy_only=False)"
   ]
  },
  {
   "cell_type": "markdown",
   "metadata": {},
   "source": [
    "### Additional Data setup\n",
    "\n",
    "Not sure how/when to do this yet"
   ]
  },
  {
   "cell_type": "markdown",
   "metadata": {},
   "source": [
    "# Notes\n",
    "\n",
    "## Corrupt EXIF Warning \n",
    "Kept getting this warning about corrupt EXIF data\n",
    "\n",
    "`/home/david/anaconda3/envs/ana_py27_p2/lib/python2.7/site-packages/PIL/TiffImagePlugin.py:692: UserWarning: Possibly corrupt EXIF data.  Expecting to read 524288 bytes but only got 0. Skipping tag 3\n",
    "  \"Skipping tag %s\" % (size, len(data), tag))`\n",
    "  \n",
    "Installed jhead\n",
    "\n",
    "`$ sudo apt-get update`\n",
    "\n",
    "`sudo apt-get install jhead`\n",
    "\n",
    "Once jhead was installed, went into each image directory and ran\n",
    "\n",
    "`jhead -de *.jpg`\n",
    "\n",
    "A few solutions on [kaggle forum](https://www.kaggle.com/c/intel-mobileodt-cervical-cancer-screening/discussion/31558#174988)\n",
    "\n",
    "## IOError: image file is truncated\n",
    "\n",
    "Getting a warning here - seems to be linked to a particular image or images\n",
    "\n",
    "`Exception in thread Thread-17:\n",
    "Traceback (most recent call last):\n",
    "  File \"/home/ubuntu/anaconda2/envs/ana_py27_p2/lib/python2.7/threading.py\", line 801, in __bootstrap_inner\n",
    "    self.run()\n",
    "  File \"/home/ubuntu/anaconda2/envs/ana_py27_p2/lib/python2.7/threading.py\", line 754, in run\n",
    "    self.__target(*self.__args, **self.__kwargs)\n",
    "  File \"/home/ubuntu/anaconda2/envs/ana_py27_p2/lib/python2.7/site-packages/keras/engine/training.py\", line 606, in data_generator_task\n",
    "    generator_output = next(self._generator)\n",
    "  File \"/home/ubuntu/anaconda2/envs/ana_py27_p2/lib/python2.7/site-packages/keras/preprocessing/image.py\", line 960, in next\n",
    "    target_size=self.target_size)\n",
    "  File \"/home/ubuntu/anaconda2/envs/ana_py27_p2/lib/python2.7/site-packages/keras/preprocessing/image.py\", line 330, in load_img\n",
    "    img = img.resize(wh_tuple)\n",
    "  File \"/home/ubuntu/anaconda2/envs/ana_py27_p2/lib/python2.7/site-packages/PIL/Image.py\", line 1630, in resize\n",
    "    self.load()\n",
    "  File \"/home/ubuntu/anaconda2/envs/ana_py27_p2/lib/python2.7/site-packages/PIL/ImageFile.py\", line 231, in load\n",
    "    \"(%d bytes not processed)\" % len(b))\n",
    "IOError: image file is truncated (54 bytes not processed)`\n",
    "\n",
    "Seems to be related to corrupted image data ??\n",
    "\n",
    "[Trying this solution](https://github.com/fchollet/keras/issues/5475) in cell below\n",
    "___\n",
    "\n",
    "`from PIL import ImageFile`\n",
    "\n",
    "`ImageFile.LOAD_TRUNCATED_IMAGES = True`\n",
    "___\n",
    "\n",
    "\n",
    "This Worked !!\n",
    "\n",
    "As this problem may occur on any image will need to incorporate this import & command into a higher cell at the top of the notebook"
   ]
  },
  {
   "cell_type": "code",
   "execution_count": null,
   "metadata": {
    "collapsed": true
   },
   "outputs": [],
   "source": []
  }
 ],
 "metadata": {
  "anaconda-cloud": {},
  "kernelspec": {
   "display_name": "Python [conda env:ana_py27_p2]",
   "language": "python",
   "name": "conda-env-ana_py27_p2-py"
  },
  "language_info": {
   "codemirror_mode": {
    "name": "ipython",
    "version": 2
   },
   "file_extension": ".py",
   "mimetype": "text/x-python",
   "name": "python",
   "nbconvert_exporter": "python",
   "pygments_lexer": "ipython2",
   "version": "2.7.12"
  }
 },
 "nbformat": 4,
 "nbformat_minor": 1
}
